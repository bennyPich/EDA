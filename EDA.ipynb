{
 "cells": [
  {
   "cell_type": "markdown",
   "metadata": {},
   "source": [
    "# Research on car sales ads\n",
    "\n",
    "You're an analyst at Crankshaft List. Hundreds of free advertisements for vehicles are published on your site every day.\n",
    "\n",
    "You need to study data collected over the last few years and determine which factors influence the price of a vehicle. "
   ]
  },
  {
   "cell_type": "markdown",
   "metadata": {},
   "source": [
    "## Open the data file and study the general information. "
   ]
  },
  {
   "cell_type": "code",
   "execution_count": 2,
   "metadata": {},
   "outputs": [
    {
     "name": "stdout",
     "output_type": "stream",
     "text": [
      "<class 'pandas.core.frame.DataFrame'>\n",
      "RangeIndex: 51525 entries, 0 to 51524\n",
      "Data columns (total 13 columns):\n",
      "price           51525 non-null int64\n",
      "model_year      47906 non-null float64\n",
      "model           51525 non-null object\n",
      "condition       51525 non-null object\n",
      "cylinders       46265 non-null float64\n",
      "fuel            51525 non-null object\n",
      "odometer        43633 non-null float64\n",
      "transmission    51525 non-null object\n",
      "type            51525 non-null object\n",
      "paint_color     42258 non-null object\n",
      "is_4wd          25572 non-null float64\n",
      "date_posted     51525 non-null object\n",
      "days_listed     51525 non-null int64\n",
      "dtypes: float64(4), int64(2), object(7)\n",
      "memory usage: 5.1+ MB\n"
     ]
    }
   ],
   "source": [
    "#import pandas\n",
    "import pandas as pd\n",
    "#Read csv file\n",
    "data = pd.read_csv('https://code.s3.yandex.net/datasets/vehicles_us.csv')\n",
    "#Show information about the data\n",
    "data.info()"
   ]
  },
  {
   "cell_type": "code",
   "execution_count": 3,
   "metadata": {},
   "outputs": [
    {
     "data": {
      "text/html": [
       "<div>\n",
       "<style scoped>\n",
       "    .dataframe tbody tr th:only-of-type {\n",
       "        vertical-align: middle;\n",
       "    }\n",
       "\n",
       "    .dataframe tbody tr th {\n",
       "        vertical-align: top;\n",
       "    }\n",
       "\n",
       "    .dataframe thead th {\n",
       "        text-align: right;\n",
       "    }\n",
       "</style>\n",
       "<table border=\"1\" class=\"dataframe\">\n",
       "  <thead>\n",
       "    <tr style=\"text-align: right;\">\n",
       "      <th></th>\n",
       "      <th>price</th>\n",
       "      <th>model_year</th>\n",
       "      <th>model</th>\n",
       "      <th>condition</th>\n",
       "      <th>cylinders</th>\n",
       "      <th>fuel</th>\n",
       "      <th>odometer</th>\n",
       "      <th>transmission</th>\n",
       "      <th>type</th>\n",
       "      <th>paint_color</th>\n",
       "      <th>is_4wd</th>\n",
       "      <th>date_posted</th>\n",
       "      <th>days_listed</th>\n",
       "    </tr>\n",
       "  </thead>\n",
       "  <tbody>\n",
       "    <tr>\n",
       "      <td>0</td>\n",
       "      <td>9400</td>\n",
       "      <td>2011.0</td>\n",
       "      <td>bmw x5</td>\n",
       "      <td>good</td>\n",
       "      <td>6.0</td>\n",
       "      <td>gas</td>\n",
       "      <td>145000.0</td>\n",
       "      <td>automatic</td>\n",
       "      <td>SUV</td>\n",
       "      <td>NaN</td>\n",
       "      <td>1.0</td>\n",
       "      <td>2018-06-23</td>\n",
       "      <td>19</td>\n",
       "    </tr>\n",
       "    <tr>\n",
       "      <td>1</td>\n",
       "      <td>25500</td>\n",
       "      <td>NaN</td>\n",
       "      <td>ford f-150</td>\n",
       "      <td>good</td>\n",
       "      <td>6.0</td>\n",
       "      <td>gas</td>\n",
       "      <td>88705.0</td>\n",
       "      <td>automatic</td>\n",
       "      <td>pickup</td>\n",
       "      <td>white</td>\n",
       "      <td>1.0</td>\n",
       "      <td>2018-10-19</td>\n",
       "      <td>50</td>\n",
       "    </tr>\n",
       "    <tr>\n",
       "      <td>2</td>\n",
       "      <td>5500</td>\n",
       "      <td>2013.0</td>\n",
       "      <td>hyundai sonata</td>\n",
       "      <td>like new</td>\n",
       "      <td>4.0</td>\n",
       "      <td>gas</td>\n",
       "      <td>110000.0</td>\n",
       "      <td>automatic</td>\n",
       "      <td>sedan</td>\n",
       "      <td>red</td>\n",
       "      <td>NaN</td>\n",
       "      <td>2019-02-07</td>\n",
       "      <td>79</td>\n",
       "    </tr>\n",
       "    <tr>\n",
       "      <td>3</td>\n",
       "      <td>1500</td>\n",
       "      <td>2003.0</td>\n",
       "      <td>ford f-150</td>\n",
       "      <td>fair</td>\n",
       "      <td>8.0</td>\n",
       "      <td>gas</td>\n",
       "      <td>NaN</td>\n",
       "      <td>automatic</td>\n",
       "      <td>pickup</td>\n",
       "      <td>NaN</td>\n",
       "      <td>NaN</td>\n",
       "      <td>2019-03-22</td>\n",
       "      <td>9</td>\n",
       "    </tr>\n",
       "    <tr>\n",
       "      <td>4</td>\n",
       "      <td>14900</td>\n",
       "      <td>2017.0</td>\n",
       "      <td>chrysler 200</td>\n",
       "      <td>excellent</td>\n",
       "      <td>4.0</td>\n",
       "      <td>gas</td>\n",
       "      <td>80903.0</td>\n",
       "      <td>automatic</td>\n",
       "      <td>sedan</td>\n",
       "      <td>black</td>\n",
       "      <td>NaN</td>\n",
       "      <td>2019-04-02</td>\n",
       "      <td>28</td>\n",
       "    </tr>\n",
       "    <tr>\n",
       "      <td>...</td>\n",
       "      <td>...</td>\n",
       "      <td>...</td>\n",
       "      <td>...</td>\n",
       "      <td>...</td>\n",
       "      <td>...</td>\n",
       "      <td>...</td>\n",
       "      <td>...</td>\n",
       "      <td>...</td>\n",
       "      <td>...</td>\n",
       "      <td>...</td>\n",
       "      <td>...</td>\n",
       "      <td>...</td>\n",
       "      <td>...</td>\n",
       "    </tr>\n",
       "    <tr>\n",
       "      <td>51520</td>\n",
       "      <td>9249</td>\n",
       "      <td>2013.0</td>\n",
       "      <td>nissan maxima</td>\n",
       "      <td>like new</td>\n",
       "      <td>6.0</td>\n",
       "      <td>gas</td>\n",
       "      <td>88136.0</td>\n",
       "      <td>automatic</td>\n",
       "      <td>sedan</td>\n",
       "      <td>black</td>\n",
       "      <td>NaN</td>\n",
       "      <td>2018-10-03</td>\n",
       "      <td>37</td>\n",
       "    </tr>\n",
       "    <tr>\n",
       "      <td>51521</td>\n",
       "      <td>2700</td>\n",
       "      <td>2002.0</td>\n",
       "      <td>honda civic</td>\n",
       "      <td>salvage</td>\n",
       "      <td>4.0</td>\n",
       "      <td>gas</td>\n",
       "      <td>181500.0</td>\n",
       "      <td>automatic</td>\n",
       "      <td>sedan</td>\n",
       "      <td>white</td>\n",
       "      <td>NaN</td>\n",
       "      <td>2018-11-14</td>\n",
       "      <td>22</td>\n",
       "    </tr>\n",
       "    <tr>\n",
       "      <td>51522</td>\n",
       "      <td>3950</td>\n",
       "      <td>2009.0</td>\n",
       "      <td>hyundai sonata</td>\n",
       "      <td>excellent</td>\n",
       "      <td>4.0</td>\n",
       "      <td>gas</td>\n",
       "      <td>128000.0</td>\n",
       "      <td>automatic</td>\n",
       "      <td>sedan</td>\n",
       "      <td>blue</td>\n",
       "      <td>NaN</td>\n",
       "      <td>2018-11-15</td>\n",
       "      <td>32</td>\n",
       "    </tr>\n",
       "    <tr>\n",
       "      <td>51523</td>\n",
       "      <td>7455</td>\n",
       "      <td>2013.0</td>\n",
       "      <td>toyota corolla</td>\n",
       "      <td>good</td>\n",
       "      <td>4.0</td>\n",
       "      <td>gas</td>\n",
       "      <td>139573.0</td>\n",
       "      <td>automatic</td>\n",
       "      <td>sedan</td>\n",
       "      <td>black</td>\n",
       "      <td>NaN</td>\n",
       "      <td>2018-07-02</td>\n",
       "      <td>71</td>\n",
       "    </tr>\n",
       "    <tr>\n",
       "      <td>51524</td>\n",
       "      <td>6300</td>\n",
       "      <td>2014.0</td>\n",
       "      <td>nissan altima</td>\n",
       "      <td>good</td>\n",
       "      <td>4.0</td>\n",
       "      <td>gas</td>\n",
       "      <td>NaN</td>\n",
       "      <td>automatic</td>\n",
       "      <td>sedan</td>\n",
       "      <td>NaN</td>\n",
       "      <td>NaN</td>\n",
       "      <td>2018-06-05</td>\n",
       "      <td>10</td>\n",
       "    </tr>\n",
       "  </tbody>\n",
       "</table>\n",
       "<p>51525 rows × 13 columns</p>\n",
       "</div>"
      ],
      "text/plain": [
       "       price  model_year           model  condition  cylinders fuel  odometer  \\\n",
       "0       9400      2011.0          bmw x5       good        6.0  gas  145000.0   \n",
       "1      25500         NaN      ford f-150       good        6.0  gas   88705.0   \n",
       "2       5500      2013.0  hyundai sonata   like new        4.0  gas  110000.0   \n",
       "3       1500      2003.0      ford f-150       fair        8.0  gas       NaN   \n",
       "4      14900      2017.0    chrysler 200  excellent        4.0  gas   80903.0   \n",
       "...      ...         ...             ...        ...        ...  ...       ...   \n",
       "51520   9249      2013.0   nissan maxima   like new        6.0  gas   88136.0   \n",
       "51521   2700      2002.0     honda civic    salvage        4.0  gas  181500.0   \n",
       "51522   3950      2009.0  hyundai sonata  excellent        4.0  gas  128000.0   \n",
       "51523   7455      2013.0  toyota corolla       good        4.0  gas  139573.0   \n",
       "51524   6300      2014.0   nissan altima       good        4.0  gas       NaN   \n",
       "\n",
       "      transmission    type paint_color  is_4wd date_posted  days_listed  \n",
       "0        automatic     SUV         NaN     1.0  2018-06-23           19  \n",
       "1        automatic  pickup       white     1.0  2018-10-19           50  \n",
       "2        automatic   sedan         red     NaN  2019-02-07           79  \n",
       "3        automatic  pickup         NaN     NaN  2019-03-22            9  \n",
       "4        automatic   sedan       black     NaN  2019-04-02           28  \n",
       "...            ...     ...         ...     ...         ...          ...  \n",
       "51520    automatic   sedan       black     NaN  2018-10-03           37  \n",
       "51521    automatic   sedan       white     NaN  2018-11-14           22  \n",
       "51522    automatic   sedan        blue     NaN  2018-11-15           32  \n",
       "51523    automatic   sedan       black     NaN  2018-07-02           71  \n",
       "51524    automatic   sedan         NaN     NaN  2018-06-05           10  \n",
       "\n",
       "[51525 rows x 13 columns]"
      ]
     },
     "execution_count": 3,
     "metadata": {},
     "output_type": "execute_result"
    }
   ],
   "source": [
    "#Explorer the data\n",
    "data"
   ]
  },
  {
   "cell_type": "code",
   "execution_count": 4,
   "metadata": {},
   "outputs": [
    {
     "data": {
      "text/plain": [
       "0"
      ]
     },
     "execution_count": 4,
     "metadata": {},
     "output_type": "execute_result"
    }
   ],
   "source": [
    "#Check if there are duplicates in data\n",
    "data.duplicated().sum()"
   ]
  },
  {
   "cell_type": "code",
   "execution_count": 5,
   "metadata": {},
   "outputs": [
    {
     "data": {
      "text/plain": [
       "price               0\n",
       "model_year       3619\n",
       "model               0\n",
       "condition           0\n",
       "cylinders        5260\n",
       "fuel                0\n",
       "odometer         7892\n",
       "transmission        0\n",
       "type                0\n",
       "paint_color      9267\n",
       "is_4wd          25953\n",
       "date_posted         0\n",
       "days_listed         0\n",
       "dtype: int64"
      ]
     },
     "execution_count": 5,
     "metadata": {},
     "output_type": "execute_result"
    }
   ],
   "source": [
    "#Check for  missing alues\n",
    "data.isnull().sum()"
   ]
  },
  {
   "cell_type": "markdown",
   "metadata": {},
   "source": [
    "### Conclusion"
   ]
  },
  {
   "cell_type": "markdown",
   "metadata": {},
   "source": [
    "1. 'model_year' should be integer\n",
    "2. 'cylinders' should be integer\n",
    "3. 'is_4wd' should be boolean\n",
    "4. 'date_posted' should be dateTime\n",
    "5. there are missing  values that should be fix in the following fields:\n",
    "    - model_year - 3,619 missing values\n",
    "    - cylinders - 5,260 missing values\n",
    "    - odometer - 7,892 missing values\n",
    "    - paint_color - 9,267 missing values\n",
    "    - is_4wd - 25,953 missing values\n",
    "6. There are no duplicates data"
   ]
  },
  {
   "cell_type": "markdown",
   "metadata": {},
   "source": [
    "## Data preprocessing"
   ]
  },
  {
   "cell_type": "markdown",
   "metadata": {},
   "source": [
    "##### Processing missing values"
   ]
  },
  {
   "cell_type": "code",
   "execution_count": 6,
   "metadata": {},
   "outputs": [
    {
     "data": {
      "text/plain": [
       "array(['SUV', 'pickup', 'sedan', 'truck', 'coupe', 'van', 'convertible',\n",
       "       'hatchback', 'wagon', 'mini-van', 'other', 'offroad', 'bus'],\n",
       "      dtype=object)"
      ]
     },
     "execution_count": 6,
     "metadata": {},
     "output_type": "execute_result"
    }
   ],
   "source": [
    "data['type'].unique()"
   ]
  },
  {
   "cell_type": "code",
   "execution_count": 7,
   "metadata": {},
   "outputs": [],
   "source": [
    "#Change NaN to True in 'is_4wd' field  for 'pickup' type   \n",
    "\n",
    "data.loc[data['type'] == 'pickup','is_4wd']= data.loc[data['type'] == 'pickup','is_4wd'].fillna(1)\n",
    "#data.loc[data['type'] == 'pickup','is_4wd'].fillna(1,inplace=True)"
   ]
  },
  {
   "cell_type": "code",
   "execution_count": 8,
   "metadata": {},
   "outputs": [],
   "source": [
    "#Change NaN to True in 'is_4wd' field  for 'truck' type   \n",
    "\n",
    "data.loc[data['type'] == 'truck','is_4wd']= data.loc[data['type'] == 'truck','is_4wd'].fillna(1)"
   ]
  },
  {
   "cell_type": "code",
   "execution_count": 9,
   "metadata": {},
   "outputs": [],
   "source": [
    "#Change NaN to True in 'is_4wd' field  for 'offroad' type   \n",
    "\n",
    "data.loc[data['type'] == 'offroad','is_4wd']= data.loc[data['type'] == 'offroad','is_4wd'].fillna(1)"
   ]
  },
  {
   "cell_type": "code",
   "execution_count": 10,
   "metadata": {},
   "outputs": [],
   "source": [
    "#Change NaN to True in 'is_4wd' field  for 'bus' type   \n",
    "\n",
    "data.loc[data['type'] == 'bus','is_4wd']= data.loc[data['type'] == 'bus','is_4wd'].fillna(1)"
   ]
  },
  {
   "cell_type": "code",
   "execution_count": 11,
   "metadata": {},
   "outputs": [],
   "source": [
    "#Change NaN to False in 'is_4wd' field  for 'convertible' type   \n",
    "\n",
    "data.loc[data['type'] == 'convertible','is_4wd']= data.loc[data['type'] == 'convertible','is_4wd'].fillna(0)"
   ]
  },
  {
   "cell_type": "code",
   "execution_count": 12,
   "metadata": {},
   "outputs": [],
   "source": [
    "#Change NaN to False in 'is_4wd' field  for 'wagon' type   \n",
    "# wagon is not 4X4 car\n",
    "data.loc[data['type'] == 'wagon','is_4wd']= data.loc[data['type'] == 'wagon','is_4wd'].fillna(0)"
   ]
  },
  {
   "cell_type": "code",
   "execution_count": 13,
   "metadata": {},
   "outputs": [],
   "source": [
    "#Change NaN to False in 'is_4wd' field  for 'sedan' type   \n",
    "# sedan is not 4X4 car\n",
    "data.loc[data['type'] == 'sedan','is_4wd']= data.loc[data['type'] == 'sedan','is_4wd'].fillna(0)"
   ]
  },
  {
   "cell_type": "code",
   "execution_count": 14,
   "metadata": {},
   "outputs": [],
   "source": [
    "#Change NaN to False in 'is_4wd' field  for 'hatchback' type   \n",
    "# sedan is not 4X4 car\n",
    "data.loc[data['type'] == 'hatchback','is_4wd']= data.loc[data['type'] == 'hatchback','is_4wd'].fillna(0)"
   ]
  },
  {
   "cell_type": "code",
   "execution_count": 15,
   "metadata": {},
   "outputs": [],
   "source": [
    "#Change NaN to False in 'is_4wd' field  for 'van' type   \n",
    "# van is not 4X4 car\n",
    "data.loc[data['type'] == 'van','is_4wd']= data.loc[data['type'] == 'van','is_4wd'].fillna(0)"
   ]
  },
  {
   "cell_type": "code",
   "execution_count": 16,
   "metadata": {},
   "outputs": [],
   "source": [
    "#Change NaN to False in 'is_4wd' field  for 'mini-van' type   \n",
    "# mini-van is not 4X4 car\n",
    "data.loc[data['type'] == 'mini-van','is_4wd']= data.loc[data['type'] == 'mini-van','is_4wd'].fillna(0)"
   ]
  },
  {
   "cell_type": "code",
   "execution_count": 17,
   "metadata": {},
   "outputs": [],
   "source": [
    "#Change NaN to False in 'is_4wd' field  for 'coupe' type   \n",
    "# coupe is not 4X4 car\n",
    "data.loc[data['type'] == 'coupe','is_4wd']= data.loc[data['type'] == 'coupe','is_4wd'].fillna(0)"
   ]
  },
  {
   "cell_type": "code",
   "execution_count": 18,
   "metadata": {},
   "outputs": [
    {
     "data": {
      "text/plain": [
       "1.0    8853\n",
       "Name: is_4wd, dtype: int64"
      ]
     },
     "execution_count": 18,
     "metadata": {},
     "output_type": "execute_result"
    }
   ],
   "source": [
    "#Check how many SUV cars are 4wd\n",
    "#SUV can be 2wd or 4wd\n",
    "#conclusion - all SUV cars are 4wd so we can change for them NaN to True\n",
    "data[data['type'] == 'SUV']['is_4wd'].value_counts()"
   ]
  },
  {
   "cell_type": "code",
   "execution_count": 19,
   "metadata": {},
   "outputs": [],
   "source": [
    "#Change NaN to False in 'is_4wd' field  for 'SUV' type   \n",
    "# SUV is not 4X4 car\n",
    "data.loc[data['type'] == 'SUV','is_4wd']= data.loc[data['type'] == 'SUV','is_4wd'].fillna(0)\n"
   ]
  },
  {
   "cell_type": "code",
   "execution_count": 20,
   "metadata": {},
   "outputs": [
    {
     "data": {
      "text/plain": [
       "1.0    126\n",
       "Name: is_4wd, dtype: int64"
      ]
     },
     "execution_count": 20,
     "metadata": {},
     "output_type": "execute_result"
    }
   ],
   "source": [
    "#Check how many 'other' cars are 4wd\n",
    "#conclusion - all 'other' cars are 4wd so we can change for them NaN to True\n",
    "data[data['type'] == 'other']['is_4wd'].value_counts()"
   ]
  },
  {
   "cell_type": "code",
   "execution_count": 21,
   "metadata": {},
   "outputs": [],
   "source": [
    "#Change NaN to False in 'is_4wd' field  for 'other' type   \n",
    "# coupe is not 4X4 car\n",
    "data.loc[data['type'] == 'other','is_4wd']= data.loc[data['type'] == 'other','is_4wd'].fillna(0)"
   ]
  },
  {
   "cell_type": "code",
   "execution_count": 22,
   "metadata": {},
   "outputs": [
    {
     "data": {
      "text/html": [
       "<div>\n",
       "<style scoped>\n",
       "    .dataframe tbody tr th:only-of-type {\n",
       "        vertical-align: middle;\n",
       "    }\n",
       "\n",
       "    .dataframe tbody tr th {\n",
       "        vertical-align: top;\n",
       "    }\n",
       "\n",
       "    .dataframe thead tr th {\n",
       "        text-align: left;\n",
       "    }\n",
       "\n",
       "    .dataframe thead tr:last-of-type th {\n",
       "        text-align: right;\n",
       "    }\n",
       "</style>\n",
       "<table border=\"1\" class=\"dataframe\">\n",
       "  <thead>\n",
       "    <tr>\n",
       "      <th></th>\n",
       "      <th colspan=\"7\" halign=\"left\">count</th>\n",
       "    </tr>\n",
       "    <tr>\n",
       "      <th>cylinders</th>\n",
       "      <th>3.0</th>\n",
       "      <th>4.0</th>\n",
       "      <th>5.0</th>\n",
       "      <th>6.0</th>\n",
       "      <th>8.0</th>\n",
       "      <th>10.0</th>\n",
       "      <th>12.0</th>\n",
       "    </tr>\n",
       "    <tr>\n",
       "      <th>type</th>\n",
       "      <th></th>\n",
       "      <th></th>\n",
       "      <th></th>\n",
       "      <th></th>\n",
       "      <th></th>\n",
       "      <th></th>\n",
       "      <th></th>\n",
       "    </tr>\n",
       "  </thead>\n",
       "  <tbody>\n",
       "    <tr>\n",
       "      <td>SUV</td>\n",
       "      <td>5.0</td>\n",
       "      <td>3020.0</td>\n",
       "      <td>9.0</td>\n",
       "      <td>5710.0</td>\n",
       "      <td>2373.0</td>\n",
       "      <td>64.0</td>\n",
       "      <td>NaN</td>\n",
       "    </tr>\n",
       "    <tr>\n",
       "      <td>bus</td>\n",
       "      <td>NaN</td>\n",
       "      <td>NaN</td>\n",
       "      <td>NaN</td>\n",
       "      <td>2.0</td>\n",
       "      <td>5.0</td>\n",
       "      <td>13.0</td>\n",
       "      <td>NaN</td>\n",
       "    </tr>\n",
       "    <tr>\n",
       "      <td>convertible</td>\n",
       "      <td>NaN</td>\n",
       "      <td>27.0</td>\n",
       "      <td>1.0</td>\n",
       "      <td>161.0</td>\n",
       "      <td>217.0</td>\n",
       "      <td>4.0</td>\n",
       "      <td>NaN</td>\n",
       "    </tr>\n",
       "    <tr>\n",
       "      <td>coupe</td>\n",
       "      <td>NaN</td>\n",
       "      <td>444.0</td>\n",
       "      <td>1.0</td>\n",
       "      <td>778.0</td>\n",
       "      <td>802.0</td>\n",
       "      <td>56.0</td>\n",
       "      <td>NaN</td>\n",
       "    </tr>\n",
       "    <tr>\n",
       "      <td>hatchback</td>\n",
       "      <td>2.0</td>\n",
       "      <td>870.0</td>\n",
       "      <td>NaN</td>\n",
       "      <td>21.0</td>\n",
       "      <td>19.0</td>\n",
       "      <td>5.0</td>\n",
       "      <td>NaN</td>\n",
       "    </tr>\n",
       "    <tr>\n",
       "      <td>mini-van</td>\n",
       "      <td>1.0</td>\n",
       "      <td>18.0</td>\n",
       "      <td>NaN</td>\n",
       "      <td>1013.0</td>\n",
       "      <td>2.0</td>\n",
       "      <td>NaN</td>\n",
       "      <td>NaN</td>\n",
       "    </tr>\n",
       "    <tr>\n",
       "      <td>offroad</td>\n",
       "      <td>NaN</td>\n",
       "      <td>18.0</td>\n",
       "      <td>NaN</td>\n",
       "      <td>139.0</td>\n",
       "      <td>35.0</td>\n",
       "      <td>NaN</td>\n",
       "      <td>NaN</td>\n",
       "    </tr>\n",
       "    <tr>\n",
       "      <td>other</td>\n",
       "      <td>NaN</td>\n",
       "      <td>75.0</td>\n",
       "      <td>NaN</td>\n",
       "      <td>110.0</td>\n",
       "      <td>40.0</td>\n",
       "      <td>NaN</td>\n",
       "      <td>NaN</td>\n",
       "    </tr>\n",
       "    <tr>\n",
       "      <td>pickup</td>\n",
       "      <td>3.0</td>\n",
       "      <td>257.0</td>\n",
       "      <td>41.0</td>\n",
       "      <td>1998.0</td>\n",
       "      <td>3943.0</td>\n",
       "      <td>32.0</td>\n",
       "      <td>NaN</td>\n",
       "    </tr>\n",
       "    <tr>\n",
       "      <td>sedan</td>\n",
       "      <td>20.0</td>\n",
       "      <td>8007.0</td>\n",
       "      <td>168.0</td>\n",
       "      <td>2410.0</td>\n",
       "      <td>232.0</td>\n",
       "      <td>61.0</td>\n",
       "      <td>NaN</td>\n",
       "    </tr>\n",
       "    <tr>\n",
       "      <td>truck</td>\n",
       "      <td>2.0</td>\n",
       "      <td>270.0</td>\n",
       "      <td>48.0</td>\n",
       "      <td>2465.0</td>\n",
       "      <td>8003.0</td>\n",
       "      <td>298.0</td>\n",
       "      <td>2.0</td>\n",
       "    </tr>\n",
       "    <tr>\n",
       "      <td>van</td>\n",
       "      <td>NaN</td>\n",
       "      <td>9.0</td>\n",
       "      <td>NaN</td>\n",
       "      <td>451.0</td>\n",
       "      <td>92.0</td>\n",
       "      <td>16.0</td>\n",
       "      <td>NaN</td>\n",
       "    </tr>\n",
       "    <tr>\n",
       "      <td>wagon</td>\n",
       "      <td>1.0</td>\n",
       "      <td>849.0</td>\n",
       "      <td>4.0</td>\n",
       "      <td>442.0</td>\n",
       "      <td>81.0</td>\n",
       "      <td>NaN</td>\n",
       "      <td>NaN</td>\n",
       "    </tr>\n",
       "  </tbody>\n",
       "</table>\n",
       "</div>"
      ],
      "text/plain": [
       "            count                                           \n",
       "cylinders    3.0     4.0    5.0     6.0     8.0    10.0 12.0\n",
       "type                                                        \n",
       "SUV           5.0  3020.0    9.0  5710.0  2373.0   64.0  NaN\n",
       "bus           NaN     NaN    NaN     2.0     5.0   13.0  NaN\n",
       "convertible   NaN    27.0    1.0   161.0   217.0    4.0  NaN\n",
       "coupe         NaN   444.0    1.0   778.0   802.0   56.0  NaN\n",
       "hatchback     2.0   870.0    NaN    21.0    19.0    5.0  NaN\n",
       "mini-van      1.0    18.0    NaN  1013.0     2.0    NaN  NaN\n",
       "offroad       NaN    18.0    NaN   139.0    35.0    NaN  NaN\n",
       "other         NaN    75.0    NaN   110.0    40.0    NaN  NaN\n",
       "pickup        3.0   257.0   41.0  1998.0  3943.0   32.0  NaN\n",
       "sedan        20.0  8007.0  168.0  2410.0   232.0   61.0  NaN\n",
       "truck         2.0   270.0   48.0  2465.0  8003.0  298.0  2.0\n",
       "van           NaN     9.0    NaN   451.0    92.0   16.0  NaN\n",
       "wagon         1.0   849.0    4.0   442.0    81.0    NaN  NaN"
      ]
     },
     "execution_count": 22,
     "metadata": {},
     "output_type": "execute_result"
    }
   ],
   "source": [
    "#Check the most popular 'cylinders' for each car 'type' and change null values according to it\n",
    "data1 = data.pivot_table( index='type', columns='cylinders' , values='is_4wd', aggfunc=['count'])\n",
    "data1"
   ]
  },
  {
   "cell_type": "code",
   "execution_count": 23,
   "metadata": {},
   "outputs": [],
   "source": [
    "#Change NaN to 6.0 in 'cylinders' field  for 'SUV' type   \n",
    "#Most SUV cars are 6.0 cylinders\n",
    "data.loc[data['type'] == 'SUV','cylinders']= data.loc[data['type'] == 'SUV','cylinders'].fillna(6.0)"
   ]
  },
  {
   "cell_type": "code",
   "execution_count": 24,
   "metadata": {},
   "outputs": [],
   "source": [
    "#Change NaN to 8.0 in 'cylinders' field  for 'truck' type   \n",
    "#Most truck cars are 8.0 cylinders\n",
    "data.loc[data['type'] == 'truck','cylinders']= data.loc[data['type'] == 'truck','cylinders'].fillna(8.0)"
   ]
  },
  {
   "cell_type": "code",
   "execution_count": 25,
   "metadata": {},
   "outputs": [],
   "source": [
    "#Change NaN to 4.0 in 'cylinders' field  for 'sedan' type   \n",
    "#Most sedan cars are 4.0 cylinders\n",
    "data.loc[data['type'] == 'sedan','cylinders']= data.loc[data['type'] == 'sedan','cylinders'].fillna(4.0)"
   ]
  },
  {
   "cell_type": "code",
   "execution_count": 26,
   "metadata": {},
   "outputs": [],
   "source": [
    "#Change NaN to 8.0 in 'cylinders' field  for 'pickup' type   \n",
    "#Most pickup cars are 8.0 cylinders\n",
    "data.loc[data['type'] == 'pickup','cylinders']= data.loc[data['type'] == 'pickup','cylinders'].fillna(8.0)"
   ]
  },
  {
   "cell_type": "code",
   "execution_count": 27,
   "metadata": {},
   "outputs": [],
   "source": [
    "#Change NaN to 6.0 in 'cylinders' field  for 'mini-van' type   \n",
    "#Most mini-van cars are 6.0 cylinders\n",
    "data.loc[data['type'] == 'mini-van','cylinders']= data.loc[data['type'] == 'mini-van','cylinders'].fillna(6.0)"
   ]
  },
  {
   "cell_type": "code",
   "execution_count": 28,
   "metadata": {},
   "outputs": [],
   "source": [
    "#Change NaN to 4.0 in 'cylinders' field  for 'hatchback' type   \n",
    "#Most hatchback cars are 4.0 cylinders\n",
    "data.loc[data['type'] == 'hatchback','cylinders']= data.loc[data['type'] == 'hatchback','cylinders'].fillna(40)"
   ]
  },
  {
   "cell_type": "code",
   "execution_count": 29,
   "metadata": {},
   "outputs": [],
   "source": [
    "#Change NaN to 6.0 in 'cylinders' field  for 'offroad' type   \n",
    "#Most offroad cars are 6.0 cylinders\n",
    "data.loc[data['type'] == 'offroad','cylinders']= data.loc[data['type'] == 'offroad','cylinders'].fillna(6.0)"
   ]
  },
  {
   "cell_type": "code",
   "execution_count": 30,
   "metadata": {},
   "outputs": [],
   "source": [
    "#Change NaN to 4.0 in 'cylinders' field  for 'wagon' type   \n",
    "#Most wagon cars are 4.0 cylinders\n",
    "data.loc[data['type'] == 'wagon','cylinders']= data.loc[data['type'] == 'wagon','cylinders'].fillna(4.0)"
   ]
  },
  {
   "cell_type": "code",
   "execution_count": 31,
   "metadata": {},
   "outputs": [],
   "source": [
    "#Change NaN to 6.0 in 'cylinders' field  for 'van' type   \n",
    "#Most van cars are 6.0 cylinders\n",
    "data.loc[data['type'] == 'van','cylinders']= data.loc[data['type'] == 'van','cylinders'].fillna(6.0)"
   ]
  },
  {
   "cell_type": "code",
   "execution_count": 32,
   "metadata": {},
   "outputs": [],
   "source": [
    "#Change NaN to False in '4.0' field  for 'hatchback' type   \n",
    "#Most hatchback cars are 4.0 cylinders\n",
    "data.loc[data['type'] == 'hatchback','cylinders']= data.loc[data['type'] == 'hatchback','cylinders'].fillna(4.0)"
   ]
  },
  {
   "cell_type": "code",
   "execution_count": 33,
   "metadata": {},
   "outputs": [],
   "source": [
    "#Change NaN to 10.0 in 'cylinders' field  for 'bus' type   \n",
    "#Most bus cars are 10.0 cylinders\n",
    "data.loc[data['type'] == 'bus','cylinders']= data.loc[data['type'] == 'bus','cylinders'].fillna(10.0)"
   ]
  },
  {
   "cell_type": "code",
   "execution_count": 34,
   "metadata": {},
   "outputs": [],
   "source": [
    "#Change NaN to 8.0 in 'cylinders' field  for 'convertible' type   \n",
    "#Most convertible cars are 8.0 cylinders\n",
    "data.loc[data['type'] == 'convertible','cylinders']= data.loc[data['type'] == 'convertible','cylinders'].fillna(8.0)"
   ]
  },
  {
   "cell_type": "code",
   "execution_count": 35,
   "metadata": {},
   "outputs": [],
   "source": [
    "#Change NaN to 6.0 in 'cylinders' field  for 'other' type   \n",
    "#Most other cars are 6.0 cylinders\n",
    "data.loc[data['type'] == 'other','cylinders']= data.loc[data['type'] == 'other','cylinders'].fillna(6.0)"
   ]
  },
  {
   "cell_type": "code",
   "execution_count": 36,
   "metadata": {},
   "outputs": [],
   "source": [
    "#For 'coupe' car  8.0 and 6.0 have almost the same numbers\n",
    "#6.0 with 778 cars and 8.0 with 802 cars\n",
    "#For type 'coupe' there are 222 missing values\n",
    "#in order not to change the ratio i'll change NaN values according to nodel and take the median value \n",
    "data['cylinders'] = data.cylinders.fillna(data[data['type'] == 'coupe'].groupby('model')['cylinders'].transform('median'))\n",
    "#There are still 2 missing values \n",
    "data[data['cylinders'].isnull()]\n",
    "#fill those values with 6.0 that is the most popular\n",
    "data['cylinders'] = data.cylinders.fillna(6.0)"
   ]
  },
  {
   "cell_type": "code",
   "execution_count": 37,
   "metadata": {},
   "outputs": [
    {
     "data": {
      "text/plain": [
       "price              0\n",
       "model_year      3619\n",
       "model              0\n",
       "condition          0\n",
       "cylinders          0\n",
       "fuel               0\n",
       "odometer        7892\n",
       "transmission       0\n",
       "type               0\n",
       "paint_color     9267\n",
       "is_4wd             0\n",
       "date_posted        0\n",
       "days_listed        0\n",
       "dtype: int64"
      ]
     },
     "execution_count": 37,
     "metadata": {},
     "output_type": "execute_result"
    }
   ],
   "source": [
    "data.isnull().sum()"
   ]
  },
  {
   "cell_type": "code",
   "execution_count": 38,
   "metadata": {},
   "outputs": [],
   "source": [
    "#Check the most popular 'model_year' for each car 'model' and change null values according to it\n",
    "#data1 = data.pivot_table( index='model', columns='model_year' , values='is_4wd', aggfunc=['mean'])\n",
    "#data1\n",
    "data['model_year'] = data.model_year.fillna(data.groupby('model')['model_year'].transform('median'))"
   ]
  },
  {
   "cell_type": "code",
   "execution_count": 39,
   "metadata": {},
   "outputs": [
    {
     "data": {
      "text/html": [
       "<div>\n",
       "<style scoped>\n",
       "    .dataframe tbody tr th:only-of-type {\n",
       "        vertical-align: middle;\n",
       "    }\n",
       "\n",
       "    .dataframe tbody tr th {\n",
       "        vertical-align: top;\n",
       "    }\n",
       "\n",
       "    .dataframe thead th {\n",
       "        text-align: right;\n",
       "    }\n",
       "</style>\n",
       "<table border=\"1\" class=\"dataframe\">\n",
       "  <thead>\n",
       "    <tr style=\"text-align: right;\">\n",
       "      <th></th>\n",
       "      <th>price</th>\n",
       "      <th>model_year</th>\n",
       "      <th>model</th>\n",
       "      <th>condition</th>\n",
       "      <th>cylinders</th>\n",
       "      <th>fuel</th>\n",
       "      <th>odometer</th>\n",
       "      <th>transmission</th>\n",
       "      <th>type</th>\n",
       "      <th>paint_color</th>\n",
       "      <th>is_4wd</th>\n",
       "      <th>date_posted</th>\n",
       "      <th>days_listed</th>\n",
       "    </tr>\n",
       "  </thead>\n",
       "  <tbody>\n",
       "    <tr>\n",
       "      <td>45694</td>\n",
       "      <td>18000</td>\n",
       "      <td>1929.0</td>\n",
       "      <td>ford f-150</td>\n",
       "      <td>good</td>\n",
       "      <td>8.0</td>\n",
       "      <td>gas</td>\n",
       "      <td>NaN</td>\n",
       "      <td>manual</td>\n",
       "      <td>other</td>\n",
       "      <td>silver</td>\n",
       "      <td>0.0</td>\n",
       "      <td>2018-11-18</td>\n",
       "      <td>59</td>\n",
       "    </tr>\n",
       "  </tbody>\n",
       "</table>\n",
       "</div>"
      ],
      "text/plain": [
       "       price  model_year       model condition  cylinders fuel  odometer  \\\n",
       "45694  18000      1929.0  ford f-150      good        8.0  gas       NaN   \n",
       "\n",
       "      transmission   type paint_color  is_4wd date_posted  days_listed  \n",
       "45694       manual  other      silver     0.0  2018-11-18           59  "
      ]
     },
     "execution_count": 39,
     "metadata": {},
     "output_type": "execute_result"
    }
   ],
   "source": [
    "#Fill missing values in 'odometer' column according to model and model_year\n",
    "data['odometer'] = data.odometer.fillna(data.groupby(['model','model_year'])['odometer'].transform('median'))\n",
    "#There are stil 625 missing values that dont have mean value by ['model','model_year']\n",
    "#This missing values will fill by 'model_year'\n",
    "data['odometer'] = data.odometer.fillna(data.groupby('model_year')['odometer'].transform('median'))\n",
    "data[data['odometer'].isnull()]"
   ]
  },
  {
   "cell_type": "code",
   "execution_count": 40,
   "metadata": {},
   "outputs": [],
   "source": [
    "#Fill missing values in 'paint_color' with 'other' value\n",
    "data['paint_color'] = data.paint_color.fillna('other')"
   ]
  },
  {
   "cell_type": "markdown",
   "metadata": {},
   "source": [
    "###### Data type replacement\n"
   ]
  },
  {
   "cell_type": "code",
   "execution_count": 41,
   "metadata": {},
   "outputs": [],
   "source": [
    "#Replace 'model_year' type\n",
    "#model year is a integer value\n",
    "data['model_year'] = data['model_year'].astype(int)"
   ]
  },
  {
   "cell_type": "code",
   "execution_count": 42,
   "metadata": {},
   "outputs": [],
   "source": [
    "#Replace 'cylinders' type\n",
    "#cylinders is an integer value \n",
    "data['cylinders'] = data['cylinders'].astype(int)"
   ]
  },
  {
   "cell_type": "code",
   "execution_count": 43,
   "metadata": {},
   "outputs": [],
   "source": [
    "#Replace 'is_4wd' type\n",
    "#1/0 value so it should be boolean\n",
    "data['is_4wd'] = data['is_4wd'].astype(bool)"
   ]
  },
  {
   "cell_type": "code",
   "execution_count": 44,
   "metadata": {},
   "outputs": [],
   "source": [
    "#Replace 'date_posted' type\n",
    "#date column should be datetime\n",
    "data['date_posted'] = pd.to_datetime(data['date_posted'], format='%Y-%m-%dT%H:%M:%S')"
   ]
  },
  {
   "cell_type": "code",
   "execution_count": 45,
   "metadata": {
    "scrolled": true
   },
   "outputs": [
    {
     "name": "stdout",
     "output_type": "stream",
     "text": [
      "<class 'pandas.core.frame.DataFrame'>\n",
      "RangeIndex: 51525 entries, 0 to 51524\n",
      "Data columns (total 13 columns):\n",
      "price           51525 non-null int64\n",
      "model_year      51525 non-null int64\n",
      "model           51525 non-null object\n",
      "condition       51525 non-null object\n",
      "cylinders       51525 non-null int64\n",
      "fuel            51525 non-null object\n",
      "odometer        51524 non-null float64\n",
      "transmission    51525 non-null object\n",
      "type            51525 non-null object\n",
      "paint_color     51525 non-null object\n",
      "is_4wd          51525 non-null bool\n",
      "date_posted     51525 non-null datetime64[ns]\n",
      "days_listed     51525 non-null int64\n",
      "dtypes: bool(1), datetime64[ns](1), float64(1), int64(4), object(6)\n",
      "memory usage: 4.8+ MB\n"
     ]
    }
   ],
   "source": [
    "#Check data to varify data type replacement\n",
    "data.info()"
   ]
  },
  {
   "cell_type": "markdown",
   "metadata": {},
   "source": [
    "## Make calculations and add them to the table"
   ]
  },
  {
   "cell_type": "code",
   "execution_count": 46,
   "metadata": {},
   "outputs": [],
   "source": [
    "#add column 'year_date_posted' that represent the year that the ad was published\n",
    "data['year_date_posted'] = data['date_posted'].dt.year"
   ]
  },
  {
   "cell_type": "code",
   "execution_count": 47,
   "metadata": {},
   "outputs": [],
   "source": [
    "#add column 'month_date_posted' that represent the month that the ad was published\n",
    "data['month_date_posted'] = data['date_posted'].dt.month"
   ]
  },
  {
   "cell_type": "code",
   "execution_count": 48,
   "metadata": {},
   "outputs": [],
   "source": [
    "#add column 'day_date_posted' that represent the day that the ad was published\n",
    "data['day_date_posted'] = data['date_posted'].dt.day"
   ]
  },
  {
   "cell_type": "code",
   "execution_count": 49,
   "metadata": {},
   "outputs": [],
   "source": [
    "#Calculate vehicle age\n",
    "data['age'] = data['year_date_posted'] - data['model_year'] +1"
   ]
  },
  {
   "cell_type": "code",
   "execution_count": 50,
   "metadata": {},
   "outputs": [],
   "source": [
    "#Calculate average mileage per year\n",
    "data['avg_mileage_year'] = data['odometer'] / data['age']"
   ]
  },
  {
   "cell_type": "code",
   "execution_count": 51,
   "metadata": {},
   "outputs": [],
   "source": [
    "#replace string values with a numeric scale:\n",
    "data.condition.replace(to_replace={'new':5,'like new':4, 'excellent':3, 'good':2, 'fair':1, 'salvage':0},inplace=True)"
   ]
  },
  {
   "cell_type": "markdown",
   "metadata": {},
   "source": [
    "## Carry out exploratory data analysis"
   ]
  },
  {
   "cell_type": "code",
   "execution_count": 52,
   "metadata": {},
   "outputs": [
    {
     "data": {
      "text/plain": [
       "array([[<matplotlib.axes._subplots.AxesSubplot object at 0x7f8135d33150>]],\n",
       "      dtype=object)"
      ]
     },
     "execution_count": 52,
     "metadata": {},
     "output_type": "execute_result"
    },
    {
     "data": {
      "image/png": "[encoded data removed]",
      "text/plain": [
       "<Figure size 432x288 with 1 Axes>"
      ]
     },
     "metadata": {
      "needs_background": "light"
     },
     "output_type": "display_data"
    }
   ],
   "source": [
    "#Histogram on 'price'\n",
    "data.hist('price', range=(0,70000),bins=20)"
   ]
  },
  {
   "cell_type": "markdown",
   "metadata": {},
   "source": [
    "'price' Histogram - we can see that the range of most prices are between 0 - 42000"
   ]
  },
  {
   "cell_type": "code",
   "execution_count": 53,
   "metadata": {},
   "outputs": [
    {
     "data": {
      "text/plain": [
       "array([[<matplotlib.axes._subplots.AxesSubplot object at 0x7f812d3239d0>]],\n",
       "      dtype=object)"
      ]
     },
     "execution_count": 53,
     "metadata": {},
     "output_type": "execute_result"
    },
    {
     "data": {
      "image/png": "[encoded data removed]",
      "text/plain": [
       "<Figure size 432x288 with 1 Axes>"
      ]
     },
     "metadata": {
      "needs_background": "light"
     },
     "output_type": "display_data"
    }
   ],
   "source": [
    "#Histogram on 'age'\n",
    "data.hist('age',range=(0,60),bins=25)"
   ]
  },
  {
   "cell_type": "markdown",
   "metadata": {},
   "source": [
    "'age' histogram - we can see that the range of most ages  are between 1 - 26"
   ]
  },
  {
   "cell_type": "code",
   "execution_count": 54,
   "metadata": {},
   "outputs": [
    {
     "data": {
      "text/plain": [
       "array([[<matplotlib.axes._subplots.AxesSubplot object at 0x7f812d2de990>]],\n",
       "      dtype=object)"
      ]
     },
     "execution_count": 54,
     "metadata": {},
     "output_type": "execute_result"
    },
    {
     "data": {
      "image/png": "[encoded data removed]",
      "text/plain": [
       "<Figure size 432x288 with 1 Axes>"
      ]
     },
     "metadata": {
      "needs_background": "light"
     },
     "output_type": "display_data"
    }
   ],
   "source": [
    "#Histogram on 'odometer'\n",
    "data.hist('odometer', range=(0,400000),bins=20)"
   ]
  },
  {
   "cell_type": "markdown",
   "metadata": {},
   "source": [
    "'odometer' histogram - we can see that the range of most odometer  is between 0 - 270000"
   ]
  },
  {
   "cell_type": "code",
   "execution_count": 55,
   "metadata": {},
   "outputs": [
    {
     "data": {
      "text/plain": [
       "array([[<matplotlib.axes._subplots.AxesSubplot object at 0x7f812d1f00d0>]],\n",
       "      dtype=object)"
      ]
     },
     "execution_count": 55,
     "metadata": {},
     "output_type": "execute_result"
    },
    {
     "data": {
      "image/png": "[encoded data removed]",
      "text/plain": [
       "<Figure size 432x288 with 1 Axes>"
      ]
     },
     "metadata": {
      "needs_background": "light"
     },
     "output_type": "display_data"
    }
   ],
   "source": [
    "#Histogram on 'cylinders'\n",
    "data.hist('cylinders', bins=30)"
   ]
  },
  {
   "cell_type": "markdown",
   "metadata": {},
   "source": [
    "'cylinders' histogram - we can see that the range of most cylinders  are 4,6,8"
   ]
  },
  {
   "cell_type": "code",
   "execution_count": 56,
   "metadata": {
    "scrolled": true
   },
   "outputs": [
    {
     "data": {
      "text/plain": [
       "array([[<matplotlib.axes._subplots.AxesSubplot object at 0x7f812d1a48d0>]],\n",
       "      dtype=object)"
      ]
     },
     "execution_count": 56,
     "metadata": {},
     "output_type": "execute_result"
    },
    {
     "data": {
      "image/png": "[encoded data removed]",
      "text/plain": [
       "<Figure size 432x288 with 1 Axes>"
      ]
     },
     "metadata": {
      "needs_background": "light"
     },
     "output_type": "display_data"
    }
   ],
   "source": [
    "#Histogram on 'condition'\n",
    "data.hist('condition')"
   ]
  },
  {
   "cell_type": "markdown",
   "metadata": {},
   "source": [
    "'condition' histogram - we can see that the most common condition  are  2(good) and 3(excellent) but also 1 and 4 have amount of cars so we'll remove only 0 and 5 "
   ]
  },
  {
   "cell_type": "markdown",
   "metadata": {},
   "source": [
    "##### Remove outliers"
   ]
  },
  {
   "cell_type": "code",
   "execution_count": 56,
   "metadata": {},
   "outputs": [],
   "source": [
    "#Remove outliers for 'price'\n",
    "num_of_car = data.query('price >35000')['type'].count()\n",
    "#num_of_car == 1414 -> number of cars with price>35000\n",
    "data_filtered = data.query('price <=35000')"
   ]
  },
  {
   "cell_type": "markdown",
   "metadata": {},
   "source": [
    "Removing outliers from price.\n",
    "number of cars with price>35000 is 1414that is  2.8% of total numbers of cars"
   ]
  },
  {
   "cell_type": "code",
   "execution_count": 57,
   "metadata": {},
   "outputs": [],
   "source": [
    "#Remove outliers for 'age'\n",
    "data_filtered = data_filtered.query('age> 1 and age <=26')"
   ]
  },
  {
   "cell_type": "markdown",
   "metadata": {},
   "source": [
    "range of most ages  are between 1 - 26"
   ]
  },
  {
   "cell_type": "code",
   "execution_count": 58,
   "metadata": {},
   "outputs": [],
   "source": [
    "#Remove outliers for 'odometer'\n",
    "data_filtered = data_filtered.query('odometer <=270000')"
   ]
  },
  {
   "cell_type": "markdown",
   "metadata": {},
   "source": [
    "range of most odometer  is between 0 - 270000"
   ]
  },
  {
   "cell_type": "code",
   "execution_count": 59,
   "metadata": {},
   "outputs": [],
   "source": [
    "#Remove outliers for 'cylinders'\n",
    "data_filtered = data_filtered.query('cylinders ==4 or (cylinders >=6 and  cylinders <=8)')"
   ]
  },
  {
   "cell_type": "markdown",
   "metadata": {},
   "source": [
    " range of most cylinders are 4,6,8"
   ]
  },
  {
   "cell_type": "code",
   "execution_count": 60,
   "metadata": {},
   "outputs": [],
   "source": [
    "#Remove outliers for 'condition'\n",
    "data_filtered = data_filtered.query('condition>=1 and condition <=4')"
   ]
  },
  {
   "cell_type": "markdown",
   "metadata": {},
   "source": [
    "most common condition  are  2(good) and 3(excellent)  but also 1 and 4 have amount of cars so we'll remove only 0 and 5 "
   ]
  },
  {
   "cell_type": "markdown",
   "metadata": {},
   "source": [
    "##### Histograms on filtered data"
   ]
  },
  {
   "cell_type": "code",
   "execution_count": 61,
   "metadata": {},
   "outputs": [
    {
     "data": {
      "text/plain": [
       "array([[<matplotlib.axes._subplots.AxesSubplot object at 0x7f75d261bbd0>]],\n",
       "      dtype=object)"
      ]
     },
     "execution_count": 61,
     "metadata": {},
     "output_type": "execute_result"
    },
    {
     "data": {
      "image/png": "[encoded data removed]",
      "text/plain": [
       "<Figure size 432x288 with 1 Axes>"
      ]
     },
     "metadata": {
      "needs_background": "light"
     },
     "output_type": "display_data"
    }
   ],
   "source": [
    "#Histogram on 'price'\n",
    "data_filtered.hist('price',bins=30, range=(0,40000))"
   ]
  },
  {
   "cell_type": "markdown",
   "metadata": {},
   "source": [
    "After removing outliers, we can see more clearly the distribution of price.\n",
    "most cars price are from 4000 to 8000"
   ]
  },
  {
   "cell_type": "code",
   "execution_count": 62,
   "metadata": {},
   "outputs": [
    {
     "data": {
      "text/plain": [
       "array([[<matplotlib.axes._subplots.AxesSubplot object at 0x7f75d264e9d0>]],\n",
       "      dtype=object)"
      ]
     },
     "execution_count": 62,
     "metadata": {},
     "output_type": "execute_result"
    },
    {
     "data": {
      "image/png": "[encoded data removed]",
      "text/plain": [
       "<Figure size 432x288 with 1 Axes>"
      ]
     },
     "metadata": {
      "needs_background": "light"
     },
     "output_type": "display_data"
    }
   ],
   "source": [
    "#Histogram on 'age'\n",
    "data_filtered.hist('age',bins=25)"
   ]
  },
  {
   "cell_type": "markdown",
   "metadata": {},
   "source": [
    "After removing outliers, we can see more clearly the distribution of age. most cars age are from 7 to 16"
   ]
  },
  {
   "cell_type": "code",
   "execution_count": 63,
   "metadata": {},
   "outputs": [
    {
     "data": {
      "text/plain": [
       "array([[<matplotlib.axes._subplots.AxesSubplot object at 0x7f75d2504d90>]],\n",
       "      dtype=object)"
      ]
     },
     "execution_count": 63,
     "metadata": {},
     "output_type": "execute_result"
    },
    {
     "data": {
      "image/png": "[encoded data removed]",
      "text/plain": [
       "<Figure size 432x288 with 1 Axes>"
      ]
     },
     "metadata": {
      "needs_background": "light"
     },
     "output_type": "display_data"
    }
   ],
   "source": [
    "#Histogram on 'odometer'\n",
    "data_filtered.hist('odometer',bins=20)"
   ]
  },
  {
   "cell_type": "markdown",
   "metadata": {},
   "source": [
    "After removing outliers, we can see more clearly the distribution of odometer. most cars odometer are from 80,000 to 160,000"
   ]
  },
  {
   "cell_type": "code",
   "execution_count": 64,
   "metadata": {},
   "outputs": [
    {
     "data": {
      "text/plain": [
       "array([[<matplotlib.axes._subplots.AxesSubplot object at 0x7f75d2449e50>]],\n",
       "      dtype=object)"
      ]
     },
     "execution_count": 64,
     "metadata": {},
     "output_type": "execute_result"
    },
    {
     "data": {
      "image/png": "[encoded data removed]",
      "text/plain": [
       "<Figure size 432x288 with 1 Axes>"
      ]
     },
     "metadata": {
      "needs_background": "light"
     },
     "output_type": "display_data"
    }
   ],
   "source": [
    "#Histogram on 'cylinders'\n",
    "data_filtered.hist('cylinders')"
   ]
  },
  {
   "cell_type": "markdown",
   "metadata": {},
   "source": [
    "After removing outliers, we can see more clearly the distribution of cylinders. most cars cylinders are 4,6,8"
   ]
  },
  {
   "cell_type": "code",
   "execution_count": 65,
   "metadata": {},
   "outputs": [
    {
     "data": {
      "text/plain": [
       "array([[<matplotlib.axes._subplots.AxesSubplot object at 0x7f75d23d4750>]],\n",
       "      dtype=object)"
      ]
     },
     "execution_count": 65,
     "metadata": {},
     "output_type": "execute_result"
    },
    {
     "data": {
      "image/png": "[encoded data removed]",
      "text/plain": [
       "<Figure size 432x288 with 1 Axes>"
      ]
     },
     "metadata": {
      "needs_background": "light"
     },
     "output_type": "display_data"
    }
   ],
   "source": [
    "#Histogram on 'condition'\n",
    "data_filtered.hist('condition')"
   ]
  },
  {
   "cell_type": "markdown",
   "metadata": {},
   "source": [
    "After removing outliers, the distribution of condition remained the same. most cars condition are 2(good) and 3(excellent)"
   ]
  },
  {
   "cell_type": "markdown",
   "metadata": {},
   "source": [
    "##### Investigate 'days_listed' column"
   ]
  },
  {
   "cell_type": "code",
   "execution_count": 66,
   "metadata": {},
   "outputs": [
    {
     "data": {
      "text/plain": [
       "array([[<matplotlib.axes._subplots.AxesSubplot object at 0x7f75d22ee0d0>]],\n",
       "      dtype=object)"
      ]
     },
     "execution_count": 66,
     "metadata": {},
     "output_type": "execute_result"
    },
    {
     "data": {
      "image/png": "[encoded data removed]",
      "text/plain": [
       "<Figure size 432x288 with 1 Axes>"
      ]
     },
     "metadata": {
      "needs_background": "light"
     },
     "output_type": "display_data"
    }
   ],
   "source": [
    "data_filtered.hist('days_listed',bins=30)"
   ]
  },
  {
   "cell_type": "code",
   "execution_count": 67,
   "metadata": {},
   "outputs": [
    {
     "data": {
      "text/plain": [
       "39.54868597653375"
      ]
     },
     "execution_count": 67,
     "metadata": {},
     "output_type": "execute_result"
    }
   ],
   "source": [
    "#Calculate mean value\n",
    "days_listed_mean = data_filtered['days_listed'].mean()\n",
    "days_listed_mean"
   ]
  },
  {
   "cell_type": "code",
   "execution_count": 68,
   "metadata": {},
   "outputs": [
    {
     "data": {
      "text/plain": [
       "33.0"
      ]
     },
     "execution_count": 68,
     "metadata": {},
     "output_type": "execute_result"
    }
   ],
   "source": [
    "#Calculate median value\n",
    "days_listed_median = data_filtered['days_listed'].median()\n",
    "days_listed_median"
   ]
  },
  {
   "cell_type": "code",
   "execution_count": 69,
   "metadata": {},
   "outputs": [
    {
     "data": {
      "text/plain": [
       "<matplotlib.axes._subplots.AxesSubplot at 0x7f75d22c0890>"
      ]
     },
     "execution_count": 69,
     "metadata": {},
     "output_type": "execute_result"
    },
    {
     "data": {
      "image/png": "[encoded data removed]",
      "text/plain": [
       "<Figure size 432x288 with 1 Axes>"
      ]
     },
     "metadata": {
      "needs_background": "light"
     },
     "output_type": "display_data"
    }
   ],
   "source": [
    "data_filtered.plot(x='type', y='days_listed')"
   ]
  },
  {
   "cell_type": "code",
   "execution_count": 70,
   "metadata": {},
   "outputs": [
    {
     "data": {
      "text/plain": [
       "<matplotlib.axes._subplots.AxesSubplot at 0x7f75d220f650>"
      ]
     },
     "execution_count": 70,
     "metadata": {},
     "output_type": "execute_result"
    },
    {
     "data": {
      "image/png": "[encoded data removed]",
      "text/plain": [
       "<Figure size 432x288 with 1 Axes>"
      ]
     },
     "metadata": {
      "needs_background": "light"
     },
     "output_type": "display_data"
    }
   ],
   "source": [
    "data_filtered.plot(x='condition', y='days_listed',kind='scatter')"
   ]
  },
  {
   "cell_type": "code",
   "execution_count": 71,
   "metadata": {},
   "outputs": [
    {
     "data": {
      "text/plain": [
       "<matplotlib.axes._subplots.AxesSubplot at 0x7f75d2087d10>"
      ]
     },
     "execution_count": 71,
     "metadata": {},
     "output_type": "execute_result"
    },
    {
     "data": {
      "image/png": "[encoded data removed]",
      "text/plain": [
       "<Figure size 432x288 with 1 Axes>"
      ]
     },
     "metadata": {
      "needs_background": "light"
     },
     "output_type": "display_data"
    }
   ],
   "source": [
    "data_filtered.plot(x='price', y='days_listed',kind='scatter')"
   ]
  },
  {
   "cell_type": "code",
   "execution_count": 72,
   "metadata": {},
   "outputs": [
    {
     "data": {
      "text/plain": [
       "<matplotlib.axes._subplots.AxesSubplot at 0x7f75d2162b50>"
      ]
     },
     "execution_count": 72,
     "metadata": {},
     "output_type": "execute_result"
    },
    {
     "data": {
      "image/png": "[encoded data removed]",
      "text/plain": [
       "<Figure size 432x288 with 1 Axes>"
      ]
     },
     "metadata": {
      "needs_background": "light"
     },
     "output_type": "display_data"
    }
   ],
   "source": [
    "data_filtered.plot(x='age', y='days_listed',kind='scatter')"
   ]
  },
  {
   "cell_type": "code",
   "execution_count": 73,
   "metadata": {},
   "outputs": [
    {
     "data": {
      "text/html": [
       "<div>\n",
       "<style scoped>\n",
       "    .dataframe tbody tr th:only-of-type {\n",
       "        vertical-align: middle;\n",
       "    }\n",
       "\n",
       "    .dataframe tbody tr th {\n",
       "        vertical-align: top;\n",
       "    }\n",
       "\n",
       "    .dataframe thead th {\n",
       "        text-align: right;\n",
       "    }\n",
       "</style>\n",
       "<table border=\"1\" class=\"dataframe\">\n",
       "  <thead>\n",
       "    <tr style=\"text-align: right;\">\n",
       "      <th></th>\n",
       "      <th>price</th>\n",
       "      <th>model_year</th>\n",
       "      <th>condition</th>\n",
       "      <th>cylinders</th>\n",
       "      <th>odometer</th>\n",
       "      <th>days_listed</th>\n",
       "      <th>year_date_posted</th>\n",
       "      <th>month_date_posted</th>\n",
       "      <th>day_date_posted</th>\n",
       "      <th>age</th>\n",
       "      <th>avg_mileage_year</th>\n",
       "    </tr>\n",
       "  </thead>\n",
       "  <tbody>\n",
       "    <tr>\n",
       "      <td>count</td>\n",
       "      <td>46194.000000</td>\n",
       "      <td>46194.000000</td>\n",
       "      <td>46194.000000</td>\n",
       "      <td>46194.000000</td>\n",
       "      <td>46194.000000</td>\n",
       "      <td>46194.000000</td>\n",
       "      <td>46194.000000</td>\n",
       "      <td>46194.000000</td>\n",
       "      <td>46194.000000</td>\n",
       "      <td>46194.000000</td>\n",
       "      <td>46194.000000</td>\n",
       "    </tr>\n",
       "    <tr>\n",
       "      <td>mean</td>\n",
       "      <td>11164.025869</td>\n",
       "      <td>2009.752847</td>\n",
       "      <td>2.625514</td>\n",
       "      <td>6.054769</td>\n",
       "      <td>118111.120189</td>\n",
       "      <td>39.548686</td>\n",
       "      <td>2018.310885</td>\n",
       "      <td>6.607633</td>\n",
       "      <td>15.449972</td>\n",
       "      <td>9.558038</td>\n",
       "      <td>14164.506384</td>\n",
       "    </tr>\n",
       "    <tr>\n",
       "      <td>std</td>\n",
       "      <td>7740.823957</td>\n",
       "      <td>4.941007</td>\n",
       "      <td>0.679572</td>\n",
       "      <td>1.618747</td>\n",
       "      <td>54492.185227</td>\n",
       "      <td>28.208730</td>\n",
       "      <td>0.462861</td>\n",
       "      <td>3.479514</td>\n",
       "      <td>8.740285</td>\n",
       "      <td>4.947745</td>\n",
       "      <td>7139.468189</td>\n",
       "    </tr>\n",
       "    <tr>\n",
       "      <td>min</td>\n",
       "      <td>1.000000</td>\n",
       "      <td>1993.000000</td>\n",
       "      <td>1.000000</td>\n",
       "      <td>4.000000</td>\n",
       "      <td>0.000000</td>\n",
       "      <td>0.000000</td>\n",
       "      <td>2018.000000</td>\n",
       "      <td>1.000000</td>\n",
       "      <td>1.000000</td>\n",
       "      <td>2.000000</td>\n",
       "      <td>0.000000</td>\n",
       "    </tr>\n",
       "    <tr>\n",
       "      <td>25%</td>\n",
       "      <td>5000.000000</td>\n",
       "      <td>2007.000000</td>\n",
       "      <td>2.000000</td>\n",
       "      <td>4.000000</td>\n",
       "      <td>80125.000000</td>\n",
       "      <td>19.000000</td>\n",
       "      <td>2018.000000</td>\n",
       "      <td>3.000000</td>\n",
       "      <td>8.000000</td>\n",
       "      <td>6.000000</td>\n",
       "      <td>9859.050000</td>\n",
       "    </tr>\n",
       "    <tr>\n",
       "      <td>50%</td>\n",
       "      <td>8995.000000</td>\n",
       "      <td>2011.000000</td>\n",
       "      <td>3.000000</td>\n",
       "      <td>6.000000</td>\n",
       "      <td>118095.000000</td>\n",
       "      <td>33.000000</td>\n",
       "      <td>2018.000000</td>\n",
       "      <td>7.000000</td>\n",
       "      <td>15.000000</td>\n",
       "      <td>9.000000</td>\n",
       "      <td>13113.848214</td>\n",
       "    </tr>\n",
       "    <tr>\n",
       "      <td>75%</td>\n",
       "      <td>15500.000000</td>\n",
       "      <td>2014.000000</td>\n",
       "      <td>3.000000</td>\n",
       "      <td>8.000000</td>\n",
       "      <td>154000.000000</td>\n",
       "      <td>53.000000</td>\n",
       "      <td>2019.000000</td>\n",
       "      <td>10.000000</td>\n",
       "      <td>23.000000</td>\n",
       "      <td>13.000000</td>\n",
       "      <td>17216.666667</td>\n",
       "    </tr>\n",
       "    <tr>\n",
       "      <td>max</td>\n",
       "      <td>35000.000000</td>\n",
       "      <td>2018.000000</td>\n",
       "      <td>4.000000</td>\n",
       "      <td>8.000000</td>\n",
       "      <td>270000.000000</td>\n",
       "      <td>271.000000</td>\n",
       "      <td>2019.000000</td>\n",
       "      <td>12.000000</td>\n",
       "      <td>31.000000</td>\n",
       "      <td>26.000000</td>\n",
       "      <td>82204.500000</td>\n",
       "    </tr>\n",
       "  </tbody>\n",
       "</table>\n",
       "</div>"
      ],
      "text/plain": [
       "              price    model_year     condition     cylinders       odometer  \\\n",
       "count  46194.000000  46194.000000  46194.000000  46194.000000   46194.000000   \n",
       "mean   11164.025869   2009.752847      2.625514      6.054769  118111.120189   \n",
       "std     7740.823957      4.941007      0.679572      1.618747   54492.185227   \n",
       "min        1.000000   1993.000000      1.000000      4.000000       0.000000   \n",
       "25%     5000.000000   2007.000000      2.000000      4.000000   80125.000000   \n",
       "50%     8995.000000   2011.000000      3.000000      6.000000  118095.000000   \n",
       "75%    15500.000000   2014.000000      3.000000      8.000000  154000.000000   \n",
       "max    35000.000000   2018.000000      4.000000      8.000000  270000.000000   \n",
       "\n",
       "        days_listed  year_date_posted  month_date_posted  day_date_posted  \\\n",
       "count  46194.000000      46194.000000       46194.000000     46194.000000   \n",
       "mean      39.548686       2018.310885           6.607633        15.449972   \n",
       "std       28.208730          0.462861           3.479514         8.740285   \n",
       "min        0.000000       2018.000000           1.000000         1.000000   \n",
       "25%       19.000000       2018.000000           3.000000         8.000000   \n",
       "50%       33.000000       2018.000000           7.000000        15.000000   \n",
       "75%       53.000000       2019.000000          10.000000        23.000000   \n",
       "max      271.000000       2019.000000          12.000000        31.000000   \n",
       "\n",
       "                age  avg_mileage_year  \n",
       "count  46194.000000      46194.000000  \n",
       "mean       9.558038      14164.506384  \n",
       "std        4.947745       7139.468189  \n",
       "min        2.000000          0.000000  \n",
       "25%        6.000000       9859.050000  \n",
       "50%        9.000000      13113.848214  \n",
       "75%       13.000000      17216.666667  \n",
       "max       26.000000      82204.500000  "
      ]
     },
     "execution_count": 73,
     "metadata": {},
     "output_type": "execute_result"
    }
   ],
   "source": [
    "data_filtered.describe()"
   ]
  },
  {
   "cell_type": "markdown",
   "metadata": {},
   "source": [
    "##### Conclusion about 'days_listed'"
   ]
  },
  {
   "cell_type": "markdown",
   "metadata": {},
   "source": [
    "1. mean value for ad a car is 39.6 days\n",
    "2. In order to sale a car fast , the car should have the following parameters:\n",
    "    - price of 5250\n",
    "    - model year  2007\n",
    "    - odometer of 72285 \n",
    "    - age of 7 years\n",
    "    - average mileage per year of 7875\n",
    "3. increase of the parameters above will increase the  days advertisementing an add \n",
    "4. days_listed_mean = 39.6\n",
    "   days_listed_median = 33\n",
    "   days_listed_mean > days_listed_median -> Thats mean that there are outliers of ad's that were posted for very long time\n",
    "5. Car's listed for an abnormally long time  when price is high, the car is newer while the odometer and the average mileage      per year are higher. "
   ]
  },
  {
   "cell_type": "markdown",
   "metadata": {},
   "source": [
    "##### Analyze the number of ads and the average price for each type of vehicle"
   ]
  },
  {
   "cell_type": "code",
   "execution_count": 74,
   "metadata": {},
   "outputs": [],
   "source": [
    "#Calculate number of ads for each type of vehicle\n",
    "#data_filtered_avgPrice_sumOfAds1['sum_ads'] = data_filtered.groupby('type')['days_listed'].count()\n",
    "#data_filtered_avgPrice_sumOfAds1 = data_filtered.groupby('type')['days_listed'].count()\n",
    "#Calculate average price for each type of vehicle\n",
    "#data_filtered_avgPrice_sumOfAds1['avg_price'] = data_filtered.groupby('type')['price'].mean()\n",
    "#data_filtered_avgPrice_sumOfAds1"
   ]
  },
  {
   "cell_type": "code",
   "execution_count": 75,
   "metadata": {},
   "outputs": [
    {
     "data": {
      "text/html": [
       "<div>\n",
       "<style scoped>\n",
       "    .dataframe tbody tr th:only-of-type {\n",
       "        vertical-align: middle;\n",
       "    }\n",
       "\n",
       "    .dataframe tbody tr th {\n",
       "        vertical-align: top;\n",
       "    }\n",
       "\n",
       "    .dataframe thead th {\n",
       "        text-align: right;\n",
       "    }\n",
       "</style>\n",
       "<table border=\"1\" class=\"dataframe\">\n",
       "  <thead>\n",
       "    <tr style=\"text-align: right;\">\n",
       "      <th></th>\n",
       "      <th>avg_price</th>\n",
       "      <th>num_of_ads</th>\n",
       "    </tr>\n",
       "    <tr>\n",
       "      <th>type</th>\n",
       "      <th></th>\n",
       "      <th></th>\n",
       "    </tr>\n",
       "  </thead>\n",
       "  <tbody>\n",
       "    <tr>\n",
       "      <td>SUV</td>\n",
       "      <td>10397.399185</td>\n",
       "      <td>11536</td>\n",
       "    </tr>\n",
       "    <tr>\n",
       "      <td>sedan</td>\n",
       "      <td>6830.184745</td>\n",
       "      <td>11367</td>\n",
       "    </tr>\n",
       "    <tr>\n",
       "      <td>truck</td>\n",
       "      <td>15265.360623</td>\n",
       "      <td>10651</td>\n",
       "    </tr>\n",
       "    <tr>\n",
       "      <td>pickup</td>\n",
       "      <td>14629.958803</td>\n",
       "      <td>5947</td>\n",
       "    </tr>\n",
       "    <tr>\n",
       "      <td>coupe</td>\n",
       "      <td>13463.433438</td>\n",
       "      <td>1908</td>\n",
       "    </tr>\n",
       "    <tr>\n",
       "      <td>wagon</td>\n",
       "      <td>8979.429825</td>\n",
       "      <td>1482</td>\n",
       "    </tr>\n",
       "    <tr>\n",
       "      <td>mini-van</td>\n",
       "      <td>7736.816547</td>\n",
       "      <td>1112</td>\n",
       "    </tr>\n",
       "    <tr>\n",
       "      <td>hatchback</td>\n",
       "      <td>6636.909624</td>\n",
       "      <td>852</td>\n",
       "    </tr>\n",
       "    <tr>\n",
       "      <td>van</td>\n",
       "      <td>10156.825043</td>\n",
       "      <td>583</td>\n",
       "    </tr>\n",
       "    <tr>\n",
       "      <td>convertible</td>\n",
       "      <td>12899.182891</td>\n",
       "      <td>339</td>\n",
       "    </tr>\n",
       "    <tr>\n",
       "      <td>other</td>\n",
       "      <td>10248.455752</td>\n",
       "      <td>226</td>\n",
       "    </tr>\n",
       "    <tr>\n",
       "      <td>offroad</td>\n",
       "      <td>14266.695652</td>\n",
       "      <td>184</td>\n",
       "    </tr>\n",
       "    <tr>\n",
       "      <td>bus</td>\n",
       "      <td>6139.285714</td>\n",
       "      <td>7</td>\n",
       "    </tr>\n",
       "  </tbody>\n",
       "</table>\n",
       "</div>"
      ],
      "text/plain": [
       "                avg_price  num_of_ads\n",
       "type                                 \n",
       "SUV          10397.399185       11536\n",
       "sedan         6830.184745       11367\n",
       "truck        15265.360623       10651\n",
       "pickup       14629.958803        5947\n",
       "coupe        13463.433438        1908\n",
       "wagon         8979.429825        1482\n",
       "mini-van      7736.816547        1112\n",
       "hatchback     6636.909624         852\n",
       "van          10156.825043         583\n",
       "convertible  12899.182891         339\n",
       "other        10248.455752         226\n",
       "offroad      14266.695652         184\n",
       "bus           6139.285714           7"
      ]
     },
     "execution_count": 75,
     "metadata": {},
     "output_type": "execute_result"
    }
   ],
   "source": [
    "#Calculate number of ads for each type of vehicle\n",
    "data_filtered_avgPrice_sumOfAds = data_filtered.pivot_table(index='type', values='price', aggfunc='mean')\n",
    "data_filtered_avgPrice_sumOfAds['num_of_ads'] = data_filtered.pivot_table(index='type', values='days_listed', aggfunc='count')\n",
    "data_filtered_avgPrice_sumOfAds.rename(columns={'price':'avg_price'},inplace=True)\n",
    "data_filtered_avgPrice_sumOfAds.sort_values('num_of_ads', ascending=False)"
   ]
  },
  {
   "cell_type": "code",
   "execution_count": 76,
   "metadata": {},
   "outputs": [
    {
     "data": {
      "text/plain": [
       "<matplotlib.axes._subplots.AxesSubplot at 0x7f75d2149a50>"
      ]
     },
     "execution_count": 76,
     "metadata": {},
     "output_type": "execute_result"
    },
    {
     "data": {
      "image/png": "[encoded data removed]",
      "text/plain": [
       "<Figure size 864x432 with 1 Axes>"
      ]
     },
     "metadata": {
      "needs_background": "light"
     },
     "output_type": "display_data"
    }
   ],
   "source": [
    "# graph showing the dependence of the number of ads on the vehicle type\n",
    "data_filtered_avgPrice_sumOfAds.plot( y='num_of_ads', style='o',kind='bar', grid=True, figsize=(12,6))\n"
   ]
  },
  {
   "cell_type": "markdown",
   "metadata": {},
   "source": [
    "###### conclusion"
   ]
  },
  {
   "cell_type": "markdown",
   "metadata": {},
   "source": [
    "'SUV' and 'sedan' have the greatest number of ads"
   ]
  },
  {
   "cell_type": "markdown",
   "metadata": {},
   "source": [
    "##### What factors impact the price most"
   ]
  },
  {
   "cell_type": "code",
   "execution_count": 77,
   "metadata": {},
   "outputs": [],
   "source": [
    "#Get data for SUV\n",
    "SUV_data_filtered = data_filtered.query(\"type=='SUV'\")"
   ]
  },
  {
   "cell_type": "code",
   "execution_count": 78,
   "metadata": {},
   "outputs": [
    {
     "data": {
      "text/html": [
       "<div>\n",
       "<style scoped>\n",
       "    .dataframe tbody tr th:only-of-type {\n",
       "        vertical-align: middle;\n",
       "    }\n",
       "\n",
       "    .dataframe tbody tr th {\n",
       "        vertical-align: top;\n",
       "    }\n",
       "\n",
       "    .dataframe thead th {\n",
       "        text-align: right;\n",
       "    }\n",
       "</style>\n",
       "<table border=\"1\" class=\"dataframe\">\n",
       "  <thead>\n",
       "    <tr style=\"text-align: right;\">\n",
       "      <th></th>\n",
       "      <th>price</th>\n",
       "      <th>model_year</th>\n",
       "      <th>model</th>\n",
       "      <th>condition</th>\n",
       "      <th>cylinders</th>\n",
       "      <th>fuel</th>\n",
       "      <th>odometer</th>\n",
       "      <th>transmission</th>\n",
       "      <th>type</th>\n",
       "      <th>is_4wd</th>\n",
       "      <th>date_posted</th>\n",
       "      <th>days_listed</th>\n",
       "      <th>year_date_posted</th>\n",
       "      <th>month_date_posted</th>\n",
       "      <th>day_date_posted</th>\n",
       "      <th>age</th>\n",
       "      <th>avg_mileage_year</th>\n",
       "    </tr>\n",
       "    <tr>\n",
       "      <th>paint_color</th>\n",
       "      <th></th>\n",
       "      <th></th>\n",
       "      <th></th>\n",
       "      <th></th>\n",
       "      <th></th>\n",
       "      <th></th>\n",
       "      <th></th>\n",
       "      <th></th>\n",
       "      <th></th>\n",
       "      <th></th>\n",
       "      <th></th>\n",
       "      <th></th>\n",
       "      <th></th>\n",
       "      <th></th>\n",
       "      <th></th>\n",
       "      <th></th>\n",
       "      <th></th>\n",
       "    </tr>\n",
       "  </thead>\n",
       "  <tbody>\n",
       "    <tr>\n",
       "      <td>purple</td>\n",
       "      <td>39</td>\n",
       "      <td>39</td>\n",
       "      <td>39</td>\n",
       "      <td>39</td>\n",
       "      <td>39</td>\n",
       "      <td>39</td>\n",
       "      <td>39</td>\n",
       "      <td>39</td>\n",
       "      <td>39</td>\n",
       "      <td>39</td>\n",
       "      <td>39</td>\n",
       "      <td>39</td>\n",
       "      <td>39</td>\n",
       "      <td>39</td>\n",
       "      <td>39</td>\n",
       "      <td>39</td>\n",
       "      <td>39</td>\n",
       "    </tr>\n",
       "    <tr>\n",
       "      <td>yellow</td>\n",
       "      <td>45</td>\n",
       "      <td>45</td>\n",
       "      <td>45</td>\n",
       "      <td>45</td>\n",
       "      <td>45</td>\n",
       "      <td>45</td>\n",
       "      <td>45</td>\n",
       "      <td>45</td>\n",
       "      <td>45</td>\n",
       "      <td>45</td>\n",
       "      <td>45</td>\n",
       "      <td>45</td>\n",
       "      <td>45</td>\n",
       "      <td>45</td>\n",
       "      <td>45</td>\n",
       "      <td>45</td>\n",
       "      <td>45</td>\n",
       "    </tr>\n",
       "    <tr>\n",
       "      <td>orange</td>\n",
       "      <td>80</td>\n",
       "      <td>80</td>\n",
       "      <td>80</td>\n",
       "      <td>80</td>\n",
       "      <td>80</td>\n",
       "      <td>80</td>\n",
       "      <td>80</td>\n",
       "      <td>80</td>\n",
       "      <td>80</td>\n",
       "      <td>80</td>\n",
       "      <td>80</td>\n",
       "      <td>80</td>\n",
       "      <td>80</td>\n",
       "      <td>80</td>\n",
       "      <td>80</td>\n",
       "      <td>80</td>\n",
       "      <td>80</td>\n",
       "    </tr>\n",
       "    <tr>\n",
       "      <td>custom</td>\n",
       "      <td>280</td>\n",
       "      <td>280</td>\n",
       "      <td>280</td>\n",
       "      <td>280</td>\n",
       "      <td>280</td>\n",
       "      <td>280</td>\n",
       "      <td>280</td>\n",
       "      <td>280</td>\n",
       "      <td>280</td>\n",
       "      <td>280</td>\n",
       "      <td>280</td>\n",
       "      <td>280</td>\n",
       "      <td>280</td>\n",
       "      <td>280</td>\n",
       "      <td>280</td>\n",
       "      <td>280</td>\n",
       "      <td>280</td>\n",
       "    </tr>\n",
       "    <tr>\n",
       "      <td>brown</td>\n",
       "      <td>353</td>\n",
       "      <td>353</td>\n",
       "      <td>353</td>\n",
       "      <td>353</td>\n",
       "      <td>353</td>\n",
       "      <td>353</td>\n",
       "      <td>353</td>\n",
       "      <td>353</td>\n",
       "      <td>353</td>\n",
       "      <td>353</td>\n",
       "      <td>353</td>\n",
       "      <td>353</td>\n",
       "      <td>353</td>\n",
       "      <td>353</td>\n",
       "      <td>353</td>\n",
       "      <td>353</td>\n",
       "      <td>353</td>\n",
       "    </tr>\n",
       "    <tr>\n",
       "      <td>green</td>\n",
       "      <td>415</td>\n",
       "      <td>415</td>\n",
       "      <td>415</td>\n",
       "      <td>415</td>\n",
       "      <td>415</td>\n",
       "      <td>415</td>\n",
       "      <td>415</td>\n",
       "      <td>415</td>\n",
       "      <td>415</td>\n",
       "      <td>415</td>\n",
       "      <td>415</td>\n",
       "      <td>415</td>\n",
       "      <td>415</td>\n",
       "      <td>415</td>\n",
       "      <td>415</td>\n",
       "      <td>415</td>\n",
       "      <td>415</td>\n",
       "    </tr>\n",
       "    <tr>\n",
       "      <td>red</td>\n",
       "      <td>859</td>\n",
       "      <td>859</td>\n",
       "      <td>859</td>\n",
       "      <td>859</td>\n",
       "      <td>859</td>\n",
       "      <td>859</td>\n",
       "      <td>859</td>\n",
       "      <td>859</td>\n",
       "      <td>859</td>\n",
       "      <td>859</td>\n",
       "      <td>859</td>\n",
       "      <td>859</td>\n",
       "      <td>859</td>\n",
       "      <td>859</td>\n",
       "      <td>859</td>\n",
       "      <td>859</td>\n",
       "      <td>859</td>\n",
       "    </tr>\n",
       "    <tr>\n",
       "      <td>blue</td>\n",
       "      <td>991</td>\n",
       "      <td>991</td>\n",
       "      <td>991</td>\n",
       "      <td>991</td>\n",
       "      <td>991</td>\n",
       "      <td>991</td>\n",
       "      <td>991</td>\n",
       "      <td>991</td>\n",
       "      <td>991</td>\n",
       "      <td>991</td>\n",
       "      <td>991</td>\n",
       "      <td>991</td>\n",
       "      <td>991</td>\n",
       "      <td>991</td>\n",
       "      <td>991</td>\n",
       "      <td>991</td>\n",
       "      <td>991</td>\n",
       "    </tr>\n",
       "    <tr>\n",
       "      <td>grey</td>\n",
       "      <td>1115</td>\n",
       "      <td>1115</td>\n",
       "      <td>1115</td>\n",
       "      <td>1115</td>\n",
       "      <td>1115</td>\n",
       "      <td>1115</td>\n",
       "      <td>1115</td>\n",
       "      <td>1115</td>\n",
       "      <td>1115</td>\n",
       "      <td>1115</td>\n",
       "      <td>1115</td>\n",
       "      <td>1115</td>\n",
       "      <td>1115</td>\n",
       "      <td>1115</td>\n",
       "      <td>1115</td>\n",
       "      <td>1115</td>\n",
       "      <td>1115</td>\n",
       "    </tr>\n",
       "    <tr>\n",
       "      <td>silver</td>\n",
       "      <td>1477</td>\n",
       "      <td>1477</td>\n",
       "      <td>1477</td>\n",
       "      <td>1477</td>\n",
       "      <td>1477</td>\n",
       "      <td>1477</td>\n",
       "      <td>1477</td>\n",
       "      <td>1477</td>\n",
       "      <td>1477</td>\n",
       "      <td>1477</td>\n",
       "      <td>1477</td>\n",
       "      <td>1477</td>\n",
       "      <td>1477</td>\n",
       "      <td>1477</td>\n",
       "      <td>1477</td>\n",
       "      <td>1477</td>\n",
       "      <td>1477</td>\n",
       "    </tr>\n",
       "    <tr>\n",
       "      <td>white</td>\n",
       "      <td>1813</td>\n",
       "      <td>1813</td>\n",
       "      <td>1813</td>\n",
       "      <td>1813</td>\n",
       "      <td>1813</td>\n",
       "      <td>1813</td>\n",
       "      <td>1813</td>\n",
       "      <td>1813</td>\n",
       "      <td>1813</td>\n",
       "      <td>1813</td>\n",
       "      <td>1813</td>\n",
       "      <td>1813</td>\n",
       "      <td>1813</td>\n",
       "      <td>1813</td>\n",
       "      <td>1813</td>\n",
       "      <td>1813</td>\n",
       "      <td>1813</td>\n",
       "    </tr>\n",
       "    <tr>\n",
       "      <td>black</td>\n",
       "      <td>2010</td>\n",
       "      <td>2010</td>\n",
       "      <td>2010</td>\n",
       "      <td>2010</td>\n",
       "      <td>2010</td>\n",
       "      <td>2010</td>\n",
       "      <td>2010</td>\n",
       "      <td>2010</td>\n",
       "      <td>2010</td>\n",
       "      <td>2010</td>\n",
       "      <td>2010</td>\n",
       "      <td>2010</td>\n",
       "      <td>2010</td>\n",
       "      <td>2010</td>\n",
       "      <td>2010</td>\n",
       "      <td>2010</td>\n",
       "      <td>2010</td>\n",
       "    </tr>\n",
       "    <tr>\n",
       "      <td>other</td>\n",
       "      <td>2059</td>\n",
       "      <td>2059</td>\n",
       "      <td>2059</td>\n",
       "      <td>2059</td>\n",
       "      <td>2059</td>\n",
       "      <td>2059</td>\n",
       "      <td>2059</td>\n",
       "      <td>2059</td>\n",
       "      <td>2059</td>\n",
       "      <td>2059</td>\n",
       "      <td>2059</td>\n",
       "      <td>2059</td>\n",
       "      <td>2059</td>\n",
       "      <td>2059</td>\n",
       "      <td>2059</td>\n",
       "      <td>2059</td>\n",
       "      <td>2059</td>\n",
       "    </tr>\n",
       "  </tbody>\n",
       "</table>\n",
       "</div>"
      ],
      "text/plain": [
       "             price  model_year  model  condition  cylinders  fuel  odometer  \\\n",
       "paint_color                                                                   \n",
       "purple          39          39     39         39         39    39        39   \n",
       "yellow          45          45     45         45         45    45        45   \n",
       "orange          80          80     80         80         80    80        80   \n",
       "custom         280         280    280        280        280   280       280   \n",
       "brown          353         353    353        353        353   353       353   \n",
       "green          415         415    415        415        415   415       415   \n",
       "red            859         859    859        859        859   859       859   \n",
       "blue           991         991    991        991        991   991       991   \n",
       "grey          1115        1115   1115       1115       1115  1115      1115   \n",
       "silver        1477        1477   1477       1477       1477  1477      1477   \n",
       "white         1813        1813   1813       1813       1813  1813      1813   \n",
       "black         2010        2010   2010       2010       2010  2010      2010   \n",
       "other         2059        2059   2059       2059       2059  2059      2059   \n",
       "\n",
       "             transmission  type  is_4wd  date_posted  days_listed  \\\n",
       "paint_color                                                         \n",
       "purple                 39    39      39           39           39   \n",
       "yellow                 45    45      45           45           45   \n",
       "orange                 80    80      80           80           80   \n",
       "custom                280   280     280          280          280   \n",
       "brown                 353   353     353          353          353   \n",
       "green                 415   415     415          415          415   \n",
       "red                   859   859     859          859          859   \n",
       "blue                  991   991     991          991          991   \n",
       "grey                 1115  1115    1115         1115         1115   \n",
       "silver               1477  1477    1477         1477         1477   \n",
       "white                1813  1813    1813         1813         1813   \n",
       "black                2010  2010    2010         2010         2010   \n",
       "other                2059  2059    2059         2059         2059   \n",
       "\n",
       "             year_date_posted  month_date_posted  day_date_posted   age  \\\n",
       "paint_color                                                               \n",
       "purple                     39                 39               39    39   \n",
       "yellow                     45                 45               45    45   \n",
       "orange                     80                 80               80    80   \n",
       "custom                    280                280              280   280   \n",
       "brown                     353                353              353   353   \n",
       "green                     415                415              415   415   \n",
       "red                       859                859              859   859   \n",
       "blue                      991                991              991   991   \n",
       "grey                     1115               1115             1115  1115   \n",
       "silver                   1477               1477             1477  1477   \n",
       "white                    1813               1813             1813  1813   \n",
       "black                    2010               2010             2010  2010   \n",
       "other                    2059               2059             2059  2059   \n",
       "\n",
       "             avg_mileage_year  \n",
       "paint_color                    \n",
       "purple                     39  \n",
       "yellow                     45  \n",
       "orange                     80  \n",
       "custom                    280  \n",
       "brown                     353  \n",
       "green                     415  \n",
       "red                       859  \n",
       "blue                      991  \n",
       "grey                     1115  \n",
       "silver                   1477  \n",
       "white                    1813  \n",
       "black                    2010  \n",
       "other                    2059  "
      ]
     },
     "execution_count": 78,
     "metadata": {},
     "output_type": "execute_result"
    }
   ],
   "source": [
    "#Check dependecny of price to paint_color\n",
    "SUV_data_filtered.groupby('paint_color').count().sort_values('model')"
   ]
  },
  {
   "cell_type": "markdown",
   "metadata": {},
   "source": [
    "we can see that colors 'yellow' and 'purple' as less than 50 ads.  those colors are not valid for analysis.\n",
    "so we'll remove them"
   ]
  },
  {
   "cell_type": "code",
   "execution_count": 79,
   "metadata": {},
   "outputs": [
    {
     "data": {
      "text/html": [
       "<div>\n",
       "<style scoped>\n",
       "    .dataframe tbody tr th:only-of-type {\n",
       "        vertical-align: middle;\n",
       "    }\n",
       "\n",
       "    .dataframe tbody tr th {\n",
       "        vertical-align: top;\n",
       "    }\n",
       "\n",
       "    .dataframe thead th {\n",
       "        text-align: right;\n",
       "    }\n",
       "</style>\n",
       "<table border=\"1\" class=\"dataframe\">\n",
       "  <thead>\n",
       "    <tr style=\"text-align: right;\">\n",
       "      <th></th>\n",
       "      <th>price</th>\n",
       "      <th>model_year</th>\n",
       "      <th>model</th>\n",
       "      <th>condition</th>\n",
       "      <th>cylinders</th>\n",
       "      <th>fuel</th>\n",
       "      <th>odometer</th>\n",
       "      <th>transmission</th>\n",
       "      <th>type</th>\n",
       "      <th>is_4wd</th>\n",
       "      <th>date_posted</th>\n",
       "      <th>days_listed</th>\n",
       "      <th>year_date_posted</th>\n",
       "      <th>month_date_posted</th>\n",
       "      <th>day_date_posted</th>\n",
       "      <th>age</th>\n",
       "      <th>avg_mileage_year</th>\n",
       "    </tr>\n",
       "    <tr>\n",
       "      <th>paint_color</th>\n",
       "      <th></th>\n",
       "      <th></th>\n",
       "      <th></th>\n",
       "      <th></th>\n",
       "      <th></th>\n",
       "      <th></th>\n",
       "      <th></th>\n",
       "      <th></th>\n",
       "      <th></th>\n",
       "      <th></th>\n",
       "      <th></th>\n",
       "      <th></th>\n",
       "      <th></th>\n",
       "      <th></th>\n",
       "      <th></th>\n",
       "      <th></th>\n",
       "      <th></th>\n",
       "    </tr>\n",
       "  </thead>\n",
       "  <tbody>\n",
       "    <tr>\n",
       "      <td>orange</td>\n",
       "      <td>80</td>\n",
       "      <td>80</td>\n",
       "      <td>80</td>\n",
       "      <td>80</td>\n",
       "      <td>80</td>\n",
       "      <td>80</td>\n",
       "      <td>80</td>\n",
       "      <td>80</td>\n",
       "      <td>80</td>\n",
       "      <td>80</td>\n",
       "      <td>80</td>\n",
       "      <td>80</td>\n",
       "      <td>80</td>\n",
       "      <td>80</td>\n",
       "      <td>80</td>\n",
       "      <td>80</td>\n",
       "      <td>80</td>\n",
       "    </tr>\n",
       "    <tr>\n",
       "      <td>custom</td>\n",
       "      <td>280</td>\n",
       "      <td>280</td>\n",
       "      <td>280</td>\n",
       "      <td>280</td>\n",
       "      <td>280</td>\n",
       "      <td>280</td>\n",
       "      <td>280</td>\n",
       "      <td>280</td>\n",
       "      <td>280</td>\n",
       "      <td>280</td>\n",
       "      <td>280</td>\n",
       "      <td>280</td>\n",
       "      <td>280</td>\n",
       "      <td>280</td>\n",
       "      <td>280</td>\n",
       "      <td>280</td>\n",
       "      <td>280</td>\n",
       "    </tr>\n",
       "    <tr>\n",
       "      <td>brown</td>\n",
       "      <td>353</td>\n",
       "      <td>353</td>\n",
       "      <td>353</td>\n",
       "      <td>353</td>\n",
       "      <td>353</td>\n",
       "      <td>353</td>\n",
       "      <td>353</td>\n",
       "      <td>353</td>\n",
       "      <td>353</td>\n",
       "      <td>353</td>\n",
       "      <td>353</td>\n",
       "      <td>353</td>\n",
       "      <td>353</td>\n",
       "      <td>353</td>\n",
       "      <td>353</td>\n",
       "      <td>353</td>\n",
       "      <td>353</td>\n",
       "    </tr>\n",
       "    <tr>\n",
       "      <td>green</td>\n",
       "      <td>415</td>\n",
       "      <td>415</td>\n",
       "      <td>415</td>\n",
       "      <td>415</td>\n",
       "      <td>415</td>\n",
       "      <td>415</td>\n",
       "      <td>415</td>\n",
       "      <td>415</td>\n",
       "      <td>415</td>\n",
       "      <td>415</td>\n",
       "      <td>415</td>\n",
       "      <td>415</td>\n",
       "      <td>415</td>\n",
       "      <td>415</td>\n",
       "      <td>415</td>\n",
       "      <td>415</td>\n",
       "      <td>415</td>\n",
       "    </tr>\n",
       "    <tr>\n",
       "      <td>red</td>\n",
       "      <td>859</td>\n",
       "      <td>859</td>\n",
       "      <td>859</td>\n",
       "      <td>859</td>\n",
       "      <td>859</td>\n",
       "      <td>859</td>\n",
       "      <td>859</td>\n",
       "      <td>859</td>\n",
       "      <td>859</td>\n",
       "      <td>859</td>\n",
       "      <td>859</td>\n",
       "      <td>859</td>\n",
       "      <td>859</td>\n",
       "      <td>859</td>\n",
       "      <td>859</td>\n",
       "      <td>859</td>\n",
       "      <td>859</td>\n",
       "    </tr>\n",
       "    <tr>\n",
       "      <td>blue</td>\n",
       "      <td>991</td>\n",
       "      <td>991</td>\n",
       "      <td>991</td>\n",
       "      <td>991</td>\n",
       "      <td>991</td>\n",
       "      <td>991</td>\n",
       "      <td>991</td>\n",
       "      <td>991</td>\n",
       "      <td>991</td>\n",
       "      <td>991</td>\n",
       "      <td>991</td>\n",
       "      <td>991</td>\n",
       "      <td>991</td>\n",
       "      <td>991</td>\n",
       "      <td>991</td>\n",
       "      <td>991</td>\n",
       "      <td>991</td>\n",
       "    </tr>\n",
       "    <tr>\n",
       "      <td>grey</td>\n",
       "      <td>1115</td>\n",
       "      <td>1115</td>\n",
       "      <td>1115</td>\n",
       "      <td>1115</td>\n",
       "      <td>1115</td>\n",
       "      <td>1115</td>\n",
       "      <td>1115</td>\n",
       "      <td>1115</td>\n",
       "      <td>1115</td>\n",
       "      <td>1115</td>\n",
       "      <td>1115</td>\n",
       "      <td>1115</td>\n",
       "      <td>1115</td>\n",
       "      <td>1115</td>\n",
       "      <td>1115</td>\n",
       "      <td>1115</td>\n",
       "      <td>1115</td>\n",
       "    </tr>\n",
       "    <tr>\n",
       "      <td>silver</td>\n",
       "      <td>1477</td>\n",
       "      <td>1477</td>\n",
       "      <td>1477</td>\n",
       "      <td>1477</td>\n",
       "      <td>1477</td>\n",
       "      <td>1477</td>\n",
       "      <td>1477</td>\n",
       "      <td>1477</td>\n",
       "      <td>1477</td>\n",
       "      <td>1477</td>\n",
       "      <td>1477</td>\n",
       "      <td>1477</td>\n",
       "      <td>1477</td>\n",
       "      <td>1477</td>\n",
       "      <td>1477</td>\n",
       "      <td>1477</td>\n",
       "      <td>1477</td>\n",
       "    </tr>\n",
       "    <tr>\n",
       "      <td>white</td>\n",
       "      <td>1813</td>\n",
       "      <td>1813</td>\n",
       "      <td>1813</td>\n",
       "      <td>1813</td>\n",
       "      <td>1813</td>\n",
       "      <td>1813</td>\n",
       "      <td>1813</td>\n",
       "      <td>1813</td>\n",
       "      <td>1813</td>\n",
       "      <td>1813</td>\n",
       "      <td>1813</td>\n",
       "      <td>1813</td>\n",
       "      <td>1813</td>\n",
       "      <td>1813</td>\n",
       "      <td>1813</td>\n",
       "      <td>1813</td>\n",
       "      <td>1813</td>\n",
       "    </tr>\n",
       "    <tr>\n",
       "      <td>black</td>\n",
       "      <td>2010</td>\n",
       "      <td>2010</td>\n",
       "      <td>2010</td>\n",
       "      <td>2010</td>\n",
       "      <td>2010</td>\n",
       "      <td>2010</td>\n",
       "      <td>2010</td>\n",
       "      <td>2010</td>\n",
       "      <td>2010</td>\n",
       "      <td>2010</td>\n",
       "      <td>2010</td>\n",
       "      <td>2010</td>\n",
       "      <td>2010</td>\n",
       "      <td>2010</td>\n",
       "      <td>2010</td>\n",
       "      <td>2010</td>\n",
       "      <td>2010</td>\n",
       "    </tr>\n",
       "    <tr>\n",
       "      <td>other</td>\n",
       "      <td>2059</td>\n",
       "      <td>2059</td>\n",
       "      <td>2059</td>\n",
       "      <td>2059</td>\n",
       "      <td>2059</td>\n",
       "      <td>2059</td>\n",
       "      <td>2059</td>\n",
       "      <td>2059</td>\n",
       "      <td>2059</td>\n",
       "      <td>2059</td>\n",
       "      <td>2059</td>\n",
       "      <td>2059</td>\n",
       "      <td>2059</td>\n",
       "      <td>2059</td>\n",
       "      <td>2059</td>\n",
       "      <td>2059</td>\n",
       "      <td>2059</td>\n",
       "    </tr>\n",
       "  </tbody>\n",
       "</table>\n",
       "</div>"
      ],
      "text/plain": [
       "             price  model_year  model  condition  cylinders  fuel  odometer  \\\n",
       "paint_color                                                                   \n",
       "orange          80          80     80         80         80    80        80   \n",
       "custom         280         280    280        280        280   280       280   \n",
       "brown          353         353    353        353        353   353       353   \n",
       "green          415         415    415        415        415   415       415   \n",
       "red            859         859    859        859        859   859       859   \n",
       "blue           991         991    991        991        991   991       991   \n",
       "grey          1115        1115   1115       1115       1115  1115      1115   \n",
       "silver        1477        1477   1477       1477       1477  1477      1477   \n",
       "white         1813        1813   1813       1813       1813  1813      1813   \n",
       "black         2010        2010   2010       2010       2010  2010      2010   \n",
       "other         2059        2059   2059       2059       2059  2059      2059   \n",
       "\n",
       "             transmission  type  is_4wd  date_posted  days_listed  \\\n",
       "paint_color                                                         \n",
       "orange                 80    80      80           80           80   \n",
       "custom                280   280     280          280          280   \n",
       "brown                 353   353     353          353          353   \n",
       "green                 415   415     415          415          415   \n",
       "red                   859   859     859          859          859   \n",
       "blue                  991   991     991          991          991   \n",
       "grey                 1115  1115    1115         1115         1115   \n",
       "silver               1477  1477    1477         1477         1477   \n",
       "white                1813  1813    1813         1813         1813   \n",
       "black                2010  2010    2010         2010         2010   \n",
       "other                2059  2059    2059         2059         2059   \n",
       "\n",
       "             year_date_posted  month_date_posted  day_date_posted   age  \\\n",
       "paint_color                                                               \n",
       "orange                     80                 80               80    80   \n",
       "custom                    280                280              280   280   \n",
       "brown                     353                353              353   353   \n",
       "green                     415                415              415   415   \n",
       "red                       859                859              859   859   \n",
       "blue                      991                991              991   991   \n",
       "grey                     1115               1115             1115  1115   \n",
       "silver                   1477               1477             1477  1477   \n",
       "white                    1813               1813             1813  1813   \n",
       "black                    2010               2010             2010  2010   \n",
       "other                    2059               2059             2059  2059   \n",
       "\n",
       "             avg_mileage_year  \n",
       "paint_color                    \n",
       "orange                     80  \n",
       "custom                    280  \n",
       "brown                     353  \n",
       "green                     415  \n",
       "red                       859  \n",
       "blue                      991  \n",
       "grey                     1115  \n",
       "silver                   1477  \n",
       "white                    1813  \n",
       "black                    2010  \n",
       "other                    2059  "
      ]
     },
     "execution_count": 79,
     "metadata": {},
     "output_type": "execute_result"
    }
   ],
   "source": [
    "#Remove colors yellow and purple\n",
    "SUV_data_filtered = SUV_data_filtered.query(\"paint_color not in ('yellow', 'purple')\")\n",
    "#Check the data to varify that the colors removed\n",
    "SUV_data_filtered.groupby('paint_color').count().sort_values('model')"
   ]
  },
  {
   "cell_type": "code",
   "execution_count": 80,
   "metadata": {},
   "outputs": [
    {
     "data": {
      "text/html": [
       "<div>\n",
       "<style scoped>\n",
       "    .dataframe tbody tr th:only-of-type {\n",
       "        vertical-align: middle;\n",
       "    }\n",
       "\n",
       "    .dataframe tbody tr th {\n",
       "        vertical-align: top;\n",
       "    }\n",
       "\n",
       "    .dataframe thead th {\n",
       "        text-align: right;\n",
       "    }\n",
       "</style>\n",
       "<table border=\"1\" class=\"dataframe\">\n",
       "  <thead>\n",
       "    <tr style=\"text-align: right;\">\n",
       "      <th></th>\n",
       "      <th>price</th>\n",
       "      <th>model_year</th>\n",
       "      <th>model</th>\n",
       "      <th>condition</th>\n",
       "      <th>cylinders</th>\n",
       "      <th>fuel</th>\n",
       "      <th>odometer</th>\n",
       "      <th>type</th>\n",
       "      <th>paint_color</th>\n",
       "      <th>is_4wd</th>\n",
       "      <th>date_posted</th>\n",
       "      <th>days_listed</th>\n",
       "      <th>year_date_posted</th>\n",
       "      <th>month_date_posted</th>\n",
       "      <th>day_date_posted</th>\n",
       "      <th>age</th>\n",
       "      <th>avg_mileage_year</th>\n",
       "    </tr>\n",
       "    <tr>\n",
       "      <th>transmission</th>\n",
       "      <th></th>\n",
       "      <th></th>\n",
       "      <th></th>\n",
       "      <th></th>\n",
       "      <th></th>\n",
       "      <th></th>\n",
       "      <th></th>\n",
       "      <th></th>\n",
       "      <th></th>\n",
       "      <th></th>\n",
       "      <th></th>\n",
       "      <th></th>\n",
       "      <th></th>\n",
       "      <th></th>\n",
       "      <th></th>\n",
       "      <th></th>\n",
       "      <th></th>\n",
       "    </tr>\n",
       "  </thead>\n",
       "  <tbody>\n",
       "    <tr>\n",
       "      <td>other</td>\n",
       "      <td>93</td>\n",
       "      <td>93</td>\n",
       "      <td>93</td>\n",
       "      <td>93</td>\n",
       "      <td>93</td>\n",
       "      <td>93</td>\n",
       "      <td>93</td>\n",
       "      <td>93</td>\n",
       "      <td>93</td>\n",
       "      <td>93</td>\n",
       "      <td>93</td>\n",
       "      <td>93</td>\n",
       "      <td>93</td>\n",
       "      <td>93</td>\n",
       "      <td>93</td>\n",
       "      <td>93</td>\n",
       "      <td>93</td>\n",
       "    </tr>\n",
       "    <tr>\n",
       "      <td>manual</td>\n",
       "      <td>459</td>\n",
       "      <td>459</td>\n",
       "      <td>459</td>\n",
       "      <td>459</td>\n",
       "      <td>459</td>\n",
       "      <td>459</td>\n",
       "      <td>459</td>\n",
       "      <td>459</td>\n",
       "      <td>459</td>\n",
       "      <td>459</td>\n",
       "      <td>459</td>\n",
       "      <td>459</td>\n",
       "      <td>459</td>\n",
       "      <td>459</td>\n",
       "      <td>459</td>\n",
       "      <td>459</td>\n",
       "      <td>459</td>\n",
       "    </tr>\n",
       "    <tr>\n",
       "      <td>automatic</td>\n",
       "      <td>10900</td>\n",
       "      <td>10900</td>\n",
       "      <td>10900</td>\n",
       "      <td>10900</td>\n",
       "      <td>10900</td>\n",
       "      <td>10900</td>\n",
       "      <td>10900</td>\n",
       "      <td>10900</td>\n",
       "      <td>10900</td>\n",
       "      <td>10900</td>\n",
       "      <td>10900</td>\n",
       "      <td>10900</td>\n",
       "      <td>10900</td>\n",
       "      <td>10900</td>\n",
       "      <td>10900</td>\n",
       "      <td>10900</td>\n",
       "      <td>10900</td>\n",
       "    </tr>\n",
       "  </tbody>\n",
       "</table>\n",
       "</div>"
      ],
      "text/plain": [
       "              price  model_year  model  condition  cylinders   fuel  odometer  \\\n",
       "transmission                                                                    \n",
       "other            93          93     93         93         93     93        93   \n",
       "manual          459         459    459        459        459    459       459   \n",
       "automatic     10900       10900  10900      10900      10900  10900     10900   \n",
       "\n",
       "               type  paint_color  is_4wd  date_posted  days_listed  \\\n",
       "transmission                                                         \n",
       "other            93           93      93           93           93   \n",
       "manual          459          459     459          459          459   \n",
       "automatic     10900        10900   10900        10900        10900   \n",
       "\n",
       "              year_date_posted  month_date_posted  day_date_posted    age  \\\n",
       "transmission                                                                \n",
       "other                       93                 93               93     93   \n",
       "manual                     459                459              459    459   \n",
       "automatic                10900              10900            10900  10900   \n",
       "\n",
       "              avg_mileage_year  \n",
       "transmission                    \n",
       "other                       93  \n",
       "manual                     459  \n",
       "automatic                10900  "
      ]
     },
     "execution_count": 80,
     "metadata": {},
     "output_type": "execute_result"
    }
   ],
   "source": [
    "#Check dependecny of price to paint_color\n",
    "SUV_data_filtered.groupby('transmission').count().sort_values('model')"
   ]
  },
  {
   "cell_type": "markdown",
   "metadata": {},
   "source": [
    "transmission does'nt have less then 50 ad's"
   ]
  },
  {
   "cell_type": "code",
   "execution_count": 81,
   "metadata": {},
   "outputs": [
    {
     "data": {
      "text/plain": [
       "<matplotlib.axes._subplots.AxesSubplot at 0x7f75d20056d0>"
      ]
     },
     "execution_count": 81,
     "metadata": {},
     "output_type": "execute_result"
    },
    {
     "data": {
      "image/png": "[encoded data removed]",
      "text/plain": [
       "<Figure size 432x288 with 1 Axes>"
      ]
     },
     "metadata": {
      "needs_background": "light"
     },
     "output_type": "display_data"
    }
   ],
   "source": [
    "#Check dependecny of price to age\n",
    "SUV_data_filtered.plot(x='age', y='price', kind='scatter')"
   ]
  },
  {
   "cell_type": "markdown",
   "metadata": {},
   "source": [
    "As we can see from the graph, age impact the price.\n",
    "as much the car is newer, the price is higher"
   ]
  },
  {
   "cell_type": "code",
   "execution_count": 82,
   "metadata": {},
   "outputs": [
    {
     "data": {
      "text/plain": [
       "<matplotlib.axes._subplots.AxesSubplot at 0x7f75d1f76f50>"
      ]
     },
     "execution_count": 82,
     "metadata": {},
     "output_type": "execute_result"
    },
    {
     "data": {
      "image/png": "[encoded data removed]",
      "text/plain": [
       "<Figure size 432x288 with 1 Axes>"
      ]
     },
     "metadata": {
      "needs_background": "light"
     },
     "output_type": "display_data"
    }
   ],
   "source": [
    "#Check dependecny of price to odometer\n",
    "SUV_data_filtered.plot(x='odometer', y='price', kind='scatter')"
   ]
  },
  {
   "cell_type": "markdown",
   "metadata": {},
   "source": [
    "As we can see from the graph, odometer impact the price.\n",
    "as much the odometer is lower, the price is higher"
   ]
  },
  {
   "cell_type": "code",
   "execution_count": 83,
   "metadata": {},
   "outputs": [
    {
     "data": {
      "text/plain": [
       "<matplotlib.axes._subplots.AxesSubplot at 0x7f75d1eec7d0>"
      ]
     },
     "execution_count": 83,
     "metadata": {},
     "output_type": "execute_result"
    },
    {
     "data": {
      "image/png": "[encoded data removed]",
      "text/plain": [
       "<Figure size 432x288 with 1 Axes>"
      ]
     },
     "metadata": {
      "needs_background": "light"
     },
     "output_type": "display_data"
    }
   ],
   "source": [
    "#Check dependecny of price to condition\n",
    "SUV_data_filtered.plot(x='condition', y='price', kind='scatter')"
   ]
  },
  {
   "cell_type": "markdown",
   "metadata": {},
   "source": [
    "As we can see from the graph, condition dos'nt impact the price."
   ]
  },
  {
   "cell_type": "code",
   "execution_count": 84,
   "metadata": {},
   "outputs": [
    {
     "name": "stderr",
     "output_type": "stream",
     "text": [
      "/opt/conda/lib/python3.7/site-packages/numpy/core/_asarray.py:83: VisibleDeprecationWarning: Creating an ndarray from ragged nested sequences (which is a list-or-tuple of lists-or-tuples-or ndarrays with different lengths or shapes) is deprecated. If you meant to do this, you must specify 'dtype=object' when creating the ndarray\n",
      "  return array(a, dtype, copy=False, order=order)\n"
     ]
    },
    {
     "data": {
      "text/plain": [
       "<matplotlib.axes._subplots.AxesSubplot at 0x7f75d1f54b50>"
      ]
     },
     "execution_count": 84,
     "metadata": {},
     "output_type": "execute_result"
    },
    {
     "data": {
      "image/png": "[encoded data removed]",
      "text/plain": [
       "<Figure size 432x288 with 1 Axes>"
      ]
     },
     "metadata": {
      "needs_background": "light"
     },
     "output_type": "display_data"
    }
   ],
   "source": [
    "import matplotlib.pyplot as plt \n",
    "#Check dependecny of price to transmission\n",
    "SUV_data_filtered[['transmission','price']].boxplot(by='transmission')"
   ]
  },
  {
   "cell_type": "code",
   "execution_count": 85,
   "metadata": {},
   "outputs": [
    {
     "name": "stderr",
     "output_type": "stream",
     "text": [
      "/opt/conda/lib/python3.7/site-packages/numpy/core/_asarray.py:83: VisibleDeprecationWarning: Creating an ndarray from ragged nested sequences (which is a list-or-tuple of lists-or-tuples-or ndarrays with different lengths or shapes) is deprecated. If you meant to do this, you must specify 'dtype=object' when creating the ndarray\n",
      "  return array(a, dtype, copy=False, order=order)\n"
     ]
    },
    {
     "data": {
      "text/plain": [
       "<matplotlib.axes._subplots.AxesSubplot at 0x7f75d1e062d0>"
      ]
     },
     "execution_count": 85,
     "metadata": {},
     "output_type": "execute_result"
    },
    {
     "data": {
      "image/png": "[encoded data removed]",
      "text/plain": [
       "<Figure size 432x288 with 1 Axes>"
      ]
     },
     "metadata": {
      "needs_background": "light"
     },
     "output_type": "display_data"
    }
   ],
   "source": [
    "#Check dependecny of price to paint_color\n",
    "\n",
    "SUV_data_filtered[['paint_color','price']].boxplot(by='paint_color')"
   ]
  },
  {
   "cell_type": "code",
   "execution_count": 86,
   "metadata": {},
   "outputs": [],
   "source": [
    "#import seaborn as sns\n",
    "#SUV_data_filtered.boxplot('transmission','price')"
   ]
  },
  {
   "cell_type": "code",
   "execution_count": 87,
   "metadata": {},
   "outputs": [],
   "source": [
    "#Get data for sedan\n",
    "sedan_data_filtered = data_filtered.query(\"type=='sedan'\")"
   ]
  },
  {
   "cell_type": "code",
   "execution_count": 88,
   "metadata": {},
   "outputs": [
    {
     "data": {
      "text/html": [
       "<div>\n",
       "<style scoped>\n",
       "    .dataframe tbody tr th:only-of-type {\n",
       "        vertical-align: middle;\n",
       "    }\n",
       "\n",
       "    .dataframe tbody tr th {\n",
       "        vertical-align: top;\n",
       "    }\n",
       "\n",
       "    .dataframe thead th {\n",
       "        text-align: right;\n",
       "    }\n",
       "</style>\n",
       "<table border=\"1\" class=\"dataframe\">\n",
       "  <thead>\n",
       "    <tr style=\"text-align: right;\">\n",
       "      <th></th>\n",
       "      <th>price</th>\n",
       "      <th>model_year</th>\n",
       "      <th>model</th>\n",
       "      <th>condition</th>\n",
       "      <th>cylinders</th>\n",
       "      <th>fuel</th>\n",
       "      <th>odometer</th>\n",
       "      <th>transmission</th>\n",
       "      <th>type</th>\n",
       "      <th>is_4wd</th>\n",
       "      <th>date_posted</th>\n",
       "      <th>days_listed</th>\n",
       "      <th>year_date_posted</th>\n",
       "      <th>month_date_posted</th>\n",
       "      <th>day_date_posted</th>\n",
       "      <th>age</th>\n",
       "      <th>avg_mileage_year</th>\n",
       "    </tr>\n",
       "    <tr>\n",
       "      <th>paint_color</th>\n",
       "      <th></th>\n",
       "      <th></th>\n",
       "      <th></th>\n",
       "      <th></th>\n",
       "      <th></th>\n",
       "      <th></th>\n",
       "      <th></th>\n",
       "      <th></th>\n",
       "      <th></th>\n",
       "      <th></th>\n",
       "      <th></th>\n",
       "      <th></th>\n",
       "      <th></th>\n",
       "      <th></th>\n",
       "      <th></th>\n",
       "      <th></th>\n",
       "      <th></th>\n",
       "    </tr>\n",
       "  </thead>\n",
       "  <tbody>\n",
       "    <tr>\n",
       "      <td>orange</td>\n",
       "      <td>7</td>\n",
       "      <td>7</td>\n",
       "      <td>7</td>\n",
       "      <td>7</td>\n",
       "      <td>7</td>\n",
       "      <td>7</td>\n",
       "      <td>7</td>\n",
       "      <td>7</td>\n",
       "      <td>7</td>\n",
       "      <td>7</td>\n",
       "      <td>7</td>\n",
       "      <td>7</td>\n",
       "      <td>7</td>\n",
       "      <td>7</td>\n",
       "      <td>7</td>\n",
       "      <td>7</td>\n",
       "      <td>7</td>\n",
       "    </tr>\n",
       "    <tr>\n",
       "      <td>yellow</td>\n",
       "      <td>21</td>\n",
       "      <td>21</td>\n",
       "      <td>21</td>\n",
       "      <td>21</td>\n",
       "      <td>21</td>\n",
       "      <td>21</td>\n",
       "      <td>21</td>\n",
       "      <td>21</td>\n",
       "      <td>21</td>\n",
       "      <td>21</td>\n",
       "      <td>21</td>\n",
       "      <td>21</td>\n",
       "      <td>21</td>\n",
       "      <td>21</td>\n",
       "      <td>21</td>\n",
       "      <td>21</td>\n",
       "      <td>21</td>\n",
       "    </tr>\n",
       "    <tr>\n",
       "      <td>purple</td>\n",
       "      <td>24</td>\n",
       "      <td>24</td>\n",
       "      <td>24</td>\n",
       "      <td>24</td>\n",
       "      <td>24</td>\n",
       "      <td>24</td>\n",
       "      <td>24</td>\n",
       "      <td>24</td>\n",
       "      <td>24</td>\n",
       "      <td>24</td>\n",
       "      <td>24</td>\n",
       "      <td>24</td>\n",
       "      <td>24</td>\n",
       "      <td>24</td>\n",
       "      <td>24</td>\n",
       "      <td>24</td>\n",
       "      <td>24</td>\n",
       "    </tr>\n",
       "    <tr>\n",
       "      <td>green</td>\n",
       "      <td>204</td>\n",
       "      <td>204</td>\n",
       "      <td>204</td>\n",
       "      <td>204</td>\n",
       "      <td>204</td>\n",
       "      <td>204</td>\n",
       "      <td>204</td>\n",
       "      <td>204</td>\n",
       "      <td>204</td>\n",
       "      <td>204</td>\n",
       "      <td>204</td>\n",
       "      <td>204</td>\n",
       "      <td>204</td>\n",
       "      <td>204</td>\n",
       "      <td>204</td>\n",
       "      <td>204</td>\n",
       "      <td>204</td>\n",
       "    </tr>\n",
       "    <tr>\n",
       "      <td>brown</td>\n",
       "      <td>253</td>\n",
       "      <td>253</td>\n",
       "      <td>253</td>\n",
       "      <td>253</td>\n",
       "      <td>253</td>\n",
       "      <td>253</td>\n",
       "      <td>253</td>\n",
       "      <td>253</td>\n",
       "      <td>253</td>\n",
       "      <td>253</td>\n",
       "      <td>253</td>\n",
       "      <td>253</td>\n",
       "      <td>253</td>\n",
       "      <td>253</td>\n",
       "      <td>253</td>\n",
       "      <td>253</td>\n",
       "      <td>253</td>\n",
       "    </tr>\n",
       "    <tr>\n",
       "      <td>custom</td>\n",
       "      <td>262</td>\n",
       "      <td>262</td>\n",
       "      <td>262</td>\n",
       "      <td>262</td>\n",
       "      <td>262</td>\n",
       "      <td>262</td>\n",
       "      <td>262</td>\n",
       "      <td>262</td>\n",
       "      <td>262</td>\n",
       "      <td>262</td>\n",
       "      <td>262</td>\n",
       "      <td>262</td>\n",
       "      <td>262</td>\n",
       "      <td>262</td>\n",
       "      <td>262</td>\n",
       "      <td>262</td>\n",
       "      <td>262</td>\n",
       "    </tr>\n",
       "    <tr>\n",
       "      <td>red</td>\n",
       "      <td>888</td>\n",
       "      <td>888</td>\n",
       "      <td>888</td>\n",
       "      <td>888</td>\n",
       "      <td>888</td>\n",
       "      <td>888</td>\n",
       "      <td>888</td>\n",
       "      <td>888</td>\n",
       "      <td>888</td>\n",
       "      <td>888</td>\n",
       "      <td>888</td>\n",
       "      <td>888</td>\n",
       "      <td>888</td>\n",
       "      <td>888</td>\n",
       "      <td>888</td>\n",
       "      <td>888</td>\n",
       "      <td>888</td>\n",
       "    </tr>\n",
       "    <tr>\n",
       "      <td>blue</td>\n",
       "      <td>1156</td>\n",
       "      <td>1156</td>\n",
       "      <td>1156</td>\n",
       "      <td>1156</td>\n",
       "      <td>1156</td>\n",
       "      <td>1156</td>\n",
       "      <td>1156</td>\n",
       "      <td>1156</td>\n",
       "      <td>1156</td>\n",
       "      <td>1156</td>\n",
       "      <td>1156</td>\n",
       "      <td>1156</td>\n",
       "      <td>1156</td>\n",
       "      <td>1156</td>\n",
       "      <td>1156</td>\n",
       "      <td>1156</td>\n",
       "      <td>1156</td>\n",
       "    </tr>\n",
       "    <tr>\n",
       "      <td>white</td>\n",
       "      <td>1383</td>\n",
       "      <td>1383</td>\n",
       "      <td>1383</td>\n",
       "      <td>1383</td>\n",
       "      <td>1383</td>\n",
       "      <td>1383</td>\n",
       "      <td>1383</td>\n",
       "      <td>1383</td>\n",
       "      <td>1383</td>\n",
       "      <td>1383</td>\n",
       "      <td>1383</td>\n",
       "      <td>1383</td>\n",
       "      <td>1383</td>\n",
       "      <td>1383</td>\n",
       "      <td>1383</td>\n",
       "      <td>1383</td>\n",
       "      <td>1383</td>\n",
       "    </tr>\n",
       "    <tr>\n",
       "      <td>grey</td>\n",
       "      <td>1515</td>\n",
       "      <td>1515</td>\n",
       "      <td>1515</td>\n",
       "      <td>1515</td>\n",
       "      <td>1515</td>\n",
       "      <td>1515</td>\n",
       "      <td>1515</td>\n",
       "      <td>1515</td>\n",
       "      <td>1515</td>\n",
       "      <td>1515</td>\n",
       "      <td>1515</td>\n",
       "      <td>1515</td>\n",
       "      <td>1515</td>\n",
       "      <td>1515</td>\n",
       "      <td>1515</td>\n",
       "      <td>1515</td>\n",
       "      <td>1515</td>\n",
       "    </tr>\n",
       "    <tr>\n",
       "      <td>black</td>\n",
       "      <td>1664</td>\n",
       "      <td>1664</td>\n",
       "      <td>1664</td>\n",
       "      <td>1664</td>\n",
       "      <td>1664</td>\n",
       "      <td>1664</td>\n",
       "      <td>1664</td>\n",
       "      <td>1664</td>\n",
       "      <td>1664</td>\n",
       "      <td>1664</td>\n",
       "      <td>1664</td>\n",
       "      <td>1664</td>\n",
       "      <td>1664</td>\n",
       "      <td>1664</td>\n",
       "      <td>1664</td>\n",
       "      <td>1664</td>\n",
       "      <td>1664</td>\n",
       "    </tr>\n",
       "    <tr>\n",
       "      <td>silver</td>\n",
       "      <td>1938</td>\n",
       "      <td>1938</td>\n",
       "      <td>1938</td>\n",
       "      <td>1938</td>\n",
       "      <td>1938</td>\n",
       "      <td>1938</td>\n",
       "      <td>1938</td>\n",
       "      <td>1938</td>\n",
       "      <td>1938</td>\n",
       "      <td>1938</td>\n",
       "      <td>1938</td>\n",
       "      <td>1938</td>\n",
       "      <td>1938</td>\n",
       "      <td>1938</td>\n",
       "      <td>1938</td>\n",
       "      <td>1938</td>\n",
       "      <td>1938</td>\n",
       "    </tr>\n",
       "    <tr>\n",
       "      <td>other</td>\n",
       "      <td>2052</td>\n",
       "      <td>2052</td>\n",
       "      <td>2052</td>\n",
       "      <td>2052</td>\n",
       "      <td>2052</td>\n",
       "      <td>2052</td>\n",
       "      <td>2052</td>\n",
       "      <td>2052</td>\n",
       "      <td>2052</td>\n",
       "      <td>2052</td>\n",
       "      <td>2052</td>\n",
       "      <td>2052</td>\n",
       "      <td>2052</td>\n",
       "      <td>2052</td>\n",
       "      <td>2052</td>\n",
       "      <td>2052</td>\n",
       "      <td>2052</td>\n",
       "    </tr>\n",
       "  </tbody>\n",
       "</table>\n",
       "</div>"
      ],
      "text/plain": [
       "             price  model_year  model  condition  cylinders  fuel  odometer  \\\n",
       "paint_color                                                                   \n",
       "orange           7           7      7          7          7     7         7   \n",
       "yellow          21          21     21         21         21    21        21   \n",
       "purple          24          24     24         24         24    24        24   \n",
       "green          204         204    204        204        204   204       204   \n",
       "brown          253         253    253        253        253   253       253   \n",
       "custom         262         262    262        262        262   262       262   \n",
       "red            888         888    888        888        888   888       888   \n",
       "blue          1156        1156   1156       1156       1156  1156      1156   \n",
       "white         1383        1383   1383       1383       1383  1383      1383   \n",
       "grey          1515        1515   1515       1515       1515  1515      1515   \n",
       "black         1664        1664   1664       1664       1664  1664      1664   \n",
       "silver        1938        1938   1938       1938       1938  1938      1938   \n",
       "other         2052        2052   2052       2052       2052  2052      2052   \n",
       "\n",
       "             transmission  type  is_4wd  date_posted  days_listed  \\\n",
       "paint_color                                                         \n",
       "orange                  7     7       7            7            7   \n",
       "yellow                 21    21      21           21           21   \n",
       "purple                 24    24      24           24           24   \n",
       "green                 204   204     204          204          204   \n",
       "brown                 253   253     253          253          253   \n",
       "custom                262   262     262          262          262   \n",
       "red                   888   888     888          888          888   \n",
       "blue                 1156  1156    1156         1156         1156   \n",
       "white                1383  1383    1383         1383         1383   \n",
       "grey                 1515  1515    1515         1515         1515   \n",
       "black                1664  1664    1664         1664         1664   \n",
       "silver               1938  1938    1938         1938         1938   \n",
       "other                2052  2052    2052         2052         2052   \n",
       "\n",
       "             year_date_posted  month_date_posted  day_date_posted   age  \\\n",
       "paint_color                                                               \n",
       "orange                      7                  7                7     7   \n",
       "yellow                     21                 21               21    21   \n",
       "purple                     24                 24               24    24   \n",
       "green                     204                204              204   204   \n",
       "brown                     253                253              253   253   \n",
       "custom                    262                262              262   262   \n",
       "red                       888                888              888   888   \n",
       "blue                     1156               1156             1156  1156   \n",
       "white                    1383               1383             1383  1383   \n",
       "grey                     1515               1515             1515  1515   \n",
       "black                    1664               1664             1664  1664   \n",
       "silver                   1938               1938             1938  1938   \n",
       "other                    2052               2052             2052  2052   \n",
       "\n",
       "             avg_mileage_year  \n",
       "paint_color                    \n",
       "orange                      7  \n",
       "yellow                     21  \n",
       "purple                     24  \n",
       "green                     204  \n",
       "brown                     253  \n",
       "custom                    262  \n",
       "red                       888  \n",
       "blue                     1156  \n",
       "white                    1383  \n",
       "grey                     1515  \n",
       "black                    1664  \n",
       "silver                   1938  \n",
       "other                    2052  "
      ]
     },
     "execution_count": 88,
     "metadata": {},
     "output_type": "execute_result"
    }
   ],
   "source": [
    "#check number of ads for each color to see if there are colores with less then 50 ads\n",
    "sedan_data_filtered.groupby('paint_color').count().sort_values('model')"
   ]
  },
  {
   "cell_type": "markdown",
   "metadata": {},
   "source": [
    "The colors yellow, purple, orange  have less then 50 ads,so we'll remove them"
   ]
  },
  {
   "cell_type": "code",
   "execution_count": 89,
   "metadata": {},
   "outputs": [
    {
     "data": {
      "text/html": [
       "<div>\n",
       "<style scoped>\n",
       "    .dataframe tbody tr th:only-of-type {\n",
       "        vertical-align: middle;\n",
       "    }\n",
       "\n",
       "    .dataframe tbody tr th {\n",
       "        vertical-align: top;\n",
       "    }\n",
       "\n",
       "    .dataframe thead th {\n",
       "        text-align: right;\n",
       "    }\n",
       "</style>\n",
       "<table border=\"1\" class=\"dataframe\">\n",
       "  <thead>\n",
       "    <tr style=\"text-align: right;\">\n",
       "      <th></th>\n",
       "      <th>price</th>\n",
       "      <th>model_year</th>\n",
       "      <th>model</th>\n",
       "      <th>condition</th>\n",
       "      <th>cylinders</th>\n",
       "      <th>fuel</th>\n",
       "      <th>odometer</th>\n",
       "      <th>transmission</th>\n",
       "      <th>type</th>\n",
       "      <th>is_4wd</th>\n",
       "      <th>date_posted</th>\n",
       "      <th>days_listed</th>\n",
       "      <th>year_date_posted</th>\n",
       "      <th>month_date_posted</th>\n",
       "      <th>day_date_posted</th>\n",
       "      <th>age</th>\n",
       "      <th>avg_mileage_year</th>\n",
       "    </tr>\n",
       "    <tr>\n",
       "      <th>paint_color</th>\n",
       "      <th></th>\n",
       "      <th></th>\n",
       "      <th></th>\n",
       "      <th></th>\n",
       "      <th></th>\n",
       "      <th></th>\n",
       "      <th></th>\n",
       "      <th></th>\n",
       "      <th></th>\n",
       "      <th></th>\n",
       "      <th></th>\n",
       "      <th></th>\n",
       "      <th></th>\n",
       "      <th></th>\n",
       "      <th></th>\n",
       "      <th></th>\n",
       "      <th></th>\n",
       "    </tr>\n",
       "  </thead>\n",
       "  <tbody>\n",
       "    <tr>\n",
       "      <td>green</td>\n",
       "      <td>204</td>\n",
       "      <td>204</td>\n",
       "      <td>204</td>\n",
       "      <td>204</td>\n",
       "      <td>204</td>\n",
       "      <td>204</td>\n",
       "      <td>204</td>\n",
       "      <td>204</td>\n",
       "      <td>204</td>\n",
       "      <td>204</td>\n",
       "      <td>204</td>\n",
       "      <td>204</td>\n",
       "      <td>204</td>\n",
       "      <td>204</td>\n",
       "      <td>204</td>\n",
       "      <td>204</td>\n",
       "      <td>204</td>\n",
       "    </tr>\n",
       "    <tr>\n",
       "      <td>brown</td>\n",
       "      <td>253</td>\n",
       "      <td>253</td>\n",
       "      <td>253</td>\n",
       "      <td>253</td>\n",
       "      <td>253</td>\n",
       "      <td>253</td>\n",
       "      <td>253</td>\n",
       "      <td>253</td>\n",
       "      <td>253</td>\n",
       "      <td>253</td>\n",
       "      <td>253</td>\n",
       "      <td>253</td>\n",
       "      <td>253</td>\n",
       "      <td>253</td>\n",
       "      <td>253</td>\n",
       "      <td>253</td>\n",
       "      <td>253</td>\n",
       "    </tr>\n",
       "    <tr>\n",
       "      <td>custom</td>\n",
       "      <td>262</td>\n",
       "      <td>262</td>\n",
       "      <td>262</td>\n",
       "      <td>262</td>\n",
       "      <td>262</td>\n",
       "      <td>262</td>\n",
       "      <td>262</td>\n",
       "      <td>262</td>\n",
       "      <td>262</td>\n",
       "      <td>262</td>\n",
       "      <td>262</td>\n",
       "      <td>262</td>\n",
       "      <td>262</td>\n",
       "      <td>262</td>\n",
       "      <td>262</td>\n",
       "      <td>262</td>\n",
       "      <td>262</td>\n",
       "    </tr>\n",
       "    <tr>\n",
       "      <td>red</td>\n",
       "      <td>888</td>\n",
       "      <td>888</td>\n",
       "      <td>888</td>\n",
       "      <td>888</td>\n",
       "      <td>888</td>\n",
       "      <td>888</td>\n",
       "      <td>888</td>\n",
       "      <td>888</td>\n",
       "      <td>888</td>\n",
       "      <td>888</td>\n",
       "      <td>888</td>\n",
       "      <td>888</td>\n",
       "      <td>888</td>\n",
       "      <td>888</td>\n",
       "      <td>888</td>\n",
       "      <td>888</td>\n",
       "      <td>888</td>\n",
       "    </tr>\n",
       "    <tr>\n",
       "      <td>blue</td>\n",
       "      <td>1156</td>\n",
       "      <td>1156</td>\n",
       "      <td>1156</td>\n",
       "      <td>1156</td>\n",
       "      <td>1156</td>\n",
       "      <td>1156</td>\n",
       "      <td>1156</td>\n",
       "      <td>1156</td>\n",
       "      <td>1156</td>\n",
       "      <td>1156</td>\n",
       "      <td>1156</td>\n",
       "      <td>1156</td>\n",
       "      <td>1156</td>\n",
       "      <td>1156</td>\n",
       "      <td>1156</td>\n",
       "      <td>1156</td>\n",
       "      <td>1156</td>\n",
       "    </tr>\n",
       "    <tr>\n",
       "      <td>white</td>\n",
       "      <td>1383</td>\n",
       "      <td>1383</td>\n",
       "      <td>1383</td>\n",
       "      <td>1383</td>\n",
       "      <td>1383</td>\n",
       "      <td>1383</td>\n",
       "      <td>1383</td>\n",
       "      <td>1383</td>\n",
       "      <td>1383</td>\n",
       "      <td>1383</td>\n",
       "      <td>1383</td>\n",
       "      <td>1383</td>\n",
       "      <td>1383</td>\n",
       "      <td>1383</td>\n",
       "      <td>1383</td>\n",
       "      <td>1383</td>\n",
       "      <td>1383</td>\n",
       "    </tr>\n",
       "    <tr>\n",
       "      <td>grey</td>\n",
       "      <td>1515</td>\n",
       "      <td>1515</td>\n",
       "      <td>1515</td>\n",
       "      <td>1515</td>\n",
       "      <td>1515</td>\n",
       "      <td>1515</td>\n",
       "      <td>1515</td>\n",
       "      <td>1515</td>\n",
       "      <td>1515</td>\n",
       "      <td>1515</td>\n",
       "      <td>1515</td>\n",
       "      <td>1515</td>\n",
       "      <td>1515</td>\n",
       "      <td>1515</td>\n",
       "      <td>1515</td>\n",
       "      <td>1515</td>\n",
       "      <td>1515</td>\n",
       "    </tr>\n",
       "    <tr>\n",
       "      <td>black</td>\n",
       "      <td>1664</td>\n",
       "      <td>1664</td>\n",
       "      <td>1664</td>\n",
       "      <td>1664</td>\n",
       "      <td>1664</td>\n",
       "      <td>1664</td>\n",
       "      <td>1664</td>\n",
       "      <td>1664</td>\n",
       "      <td>1664</td>\n",
       "      <td>1664</td>\n",
       "      <td>1664</td>\n",
       "      <td>1664</td>\n",
       "      <td>1664</td>\n",
       "      <td>1664</td>\n",
       "      <td>1664</td>\n",
       "      <td>1664</td>\n",
       "      <td>1664</td>\n",
       "    </tr>\n",
       "    <tr>\n",
       "      <td>silver</td>\n",
       "      <td>1938</td>\n",
       "      <td>1938</td>\n",
       "      <td>1938</td>\n",
       "      <td>1938</td>\n",
       "      <td>1938</td>\n",
       "      <td>1938</td>\n",
       "      <td>1938</td>\n",
       "      <td>1938</td>\n",
       "      <td>1938</td>\n",
       "      <td>1938</td>\n",
       "      <td>1938</td>\n",
       "      <td>1938</td>\n",
       "      <td>1938</td>\n",
       "      <td>1938</td>\n",
       "      <td>1938</td>\n",
       "      <td>1938</td>\n",
       "      <td>1938</td>\n",
       "    </tr>\n",
       "    <tr>\n",
       "      <td>other</td>\n",
       "      <td>2052</td>\n",
       "      <td>2052</td>\n",
       "      <td>2052</td>\n",
       "      <td>2052</td>\n",
       "      <td>2052</td>\n",
       "      <td>2052</td>\n",
       "      <td>2052</td>\n",
       "      <td>2052</td>\n",
       "      <td>2052</td>\n",
       "      <td>2052</td>\n",
       "      <td>2052</td>\n",
       "      <td>2052</td>\n",
       "      <td>2052</td>\n",
       "      <td>2052</td>\n",
       "      <td>2052</td>\n",
       "      <td>2052</td>\n",
       "      <td>2052</td>\n",
       "    </tr>\n",
       "  </tbody>\n",
       "</table>\n",
       "</div>"
      ],
      "text/plain": [
       "             price  model_year  model  condition  cylinders  fuel  odometer  \\\n",
       "paint_color                                                                   \n",
       "green          204         204    204        204        204   204       204   \n",
       "brown          253         253    253        253        253   253       253   \n",
       "custom         262         262    262        262        262   262       262   \n",
       "red            888         888    888        888        888   888       888   \n",
       "blue          1156        1156   1156       1156       1156  1156      1156   \n",
       "white         1383        1383   1383       1383       1383  1383      1383   \n",
       "grey          1515        1515   1515       1515       1515  1515      1515   \n",
       "black         1664        1664   1664       1664       1664  1664      1664   \n",
       "silver        1938        1938   1938       1938       1938  1938      1938   \n",
       "other         2052        2052   2052       2052       2052  2052      2052   \n",
       "\n",
       "             transmission  type  is_4wd  date_posted  days_listed  \\\n",
       "paint_color                                                         \n",
       "green                 204   204     204          204          204   \n",
       "brown                 253   253     253          253          253   \n",
       "custom                262   262     262          262          262   \n",
       "red                   888   888     888          888          888   \n",
       "blue                 1156  1156    1156         1156         1156   \n",
       "white                1383  1383    1383         1383         1383   \n",
       "grey                 1515  1515    1515         1515         1515   \n",
       "black                1664  1664    1664         1664         1664   \n",
       "silver               1938  1938    1938         1938         1938   \n",
       "other                2052  2052    2052         2052         2052   \n",
       "\n",
       "             year_date_posted  month_date_posted  day_date_posted   age  \\\n",
       "paint_color                                                               \n",
       "green                     204                204              204   204   \n",
       "brown                     253                253              253   253   \n",
       "custom                    262                262              262   262   \n",
       "red                       888                888              888   888   \n",
       "blue                     1156               1156             1156  1156   \n",
       "white                    1383               1383             1383  1383   \n",
       "grey                     1515               1515             1515  1515   \n",
       "black                    1664               1664             1664  1664   \n",
       "silver                   1938               1938             1938  1938   \n",
       "other                    2052               2052             2052  2052   \n",
       "\n",
       "             avg_mileage_year  \n",
       "paint_color                    \n",
       "green                     204  \n",
       "brown                     253  \n",
       "custom                    262  \n",
       "red                       888  \n",
       "blue                     1156  \n",
       "white                    1383  \n",
       "grey                     1515  \n",
       "black                    1664  \n",
       "silver                   1938  \n",
       "other                    2052  "
      ]
     },
     "execution_count": 89,
     "metadata": {},
     "output_type": "execute_result"
    }
   ],
   "source": [
    "#Remove colors yellow, purple, orange - they have less then 50 ads\n",
    "sedan_data_filtered = sedan_data_filtered.query(\"paint_color not in ('yellow', 'purple','orange')\")\n",
    "#Check the data to varify that the colors removed\n",
    "sedan_data_filtered.groupby('paint_color').count().sort_values('model')"
   ]
  },
  {
   "cell_type": "code",
   "execution_count": 90,
   "metadata": {},
   "outputs": [
    {
     "data": {
      "text/html": [
       "<div>\n",
       "<style scoped>\n",
       "    .dataframe tbody tr th:only-of-type {\n",
       "        vertical-align: middle;\n",
       "    }\n",
       "\n",
       "    .dataframe tbody tr th {\n",
       "        vertical-align: top;\n",
       "    }\n",
       "\n",
       "    .dataframe thead th {\n",
       "        text-align: right;\n",
       "    }\n",
       "</style>\n",
       "<table border=\"1\" class=\"dataframe\">\n",
       "  <thead>\n",
       "    <tr style=\"text-align: right;\">\n",
       "      <th></th>\n",
       "      <th>price</th>\n",
       "      <th>model_year</th>\n",
       "      <th>model</th>\n",
       "      <th>condition</th>\n",
       "      <th>cylinders</th>\n",
       "      <th>fuel</th>\n",
       "      <th>odometer</th>\n",
       "      <th>type</th>\n",
       "      <th>paint_color</th>\n",
       "      <th>is_4wd</th>\n",
       "      <th>date_posted</th>\n",
       "      <th>days_listed</th>\n",
       "      <th>year_date_posted</th>\n",
       "      <th>month_date_posted</th>\n",
       "      <th>day_date_posted</th>\n",
       "      <th>age</th>\n",
       "      <th>avg_mileage_year</th>\n",
       "    </tr>\n",
       "    <tr>\n",
       "      <th>transmission</th>\n",
       "      <th></th>\n",
       "      <th></th>\n",
       "      <th></th>\n",
       "      <th></th>\n",
       "      <th></th>\n",
       "      <th></th>\n",
       "      <th></th>\n",
       "      <th></th>\n",
       "      <th></th>\n",
       "      <th></th>\n",
       "      <th></th>\n",
       "      <th></th>\n",
       "      <th></th>\n",
       "      <th></th>\n",
       "      <th></th>\n",
       "      <th></th>\n",
       "      <th></th>\n",
       "    </tr>\n",
       "  </thead>\n",
       "  <tbody>\n",
       "    <tr>\n",
       "      <td>other</td>\n",
       "      <td>69</td>\n",
       "      <td>69</td>\n",
       "      <td>69</td>\n",
       "      <td>69</td>\n",
       "      <td>69</td>\n",
       "      <td>69</td>\n",
       "      <td>69</td>\n",
       "      <td>69</td>\n",
       "      <td>69</td>\n",
       "      <td>69</td>\n",
       "      <td>69</td>\n",
       "      <td>69</td>\n",
       "      <td>69</td>\n",
       "      <td>69</td>\n",
       "      <td>69</td>\n",
       "      <td>69</td>\n",
       "      <td>69</td>\n",
       "    </tr>\n",
       "    <tr>\n",
       "      <td>manual</td>\n",
       "      <td>539</td>\n",
       "      <td>539</td>\n",
       "      <td>539</td>\n",
       "      <td>539</td>\n",
       "      <td>539</td>\n",
       "      <td>539</td>\n",
       "      <td>539</td>\n",
       "      <td>539</td>\n",
       "      <td>539</td>\n",
       "      <td>539</td>\n",
       "      <td>539</td>\n",
       "      <td>539</td>\n",
       "      <td>539</td>\n",
       "      <td>539</td>\n",
       "      <td>539</td>\n",
       "      <td>539</td>\n",
       "      <td>539</td>\n",
       "    </tr>\n",
       "    <tr>\n",
       "      <td>automatic</td>\n",
       "      <td>10707</td>\n",
       "      <td>10707</td>\n",
       "      <td>10707</td>\n",
       "      <td>10707</td>\n",
       "      <td>10707</td>\n",
       "      <td>10707</td>\n",
       "      <td>10707</td>\n",
       "      <td>10707</td>\n",
       "      <td>10707</td>\n",
       "      <td>10707</td>\n",
       "      <td>10707</td>\n",
       "      <td>10707</td>\n",
       "      <td>10707</td>\n",
       "      <td>10707</td>\n",
       "      <td>10707</td>\n",
       "      <td>10707</td>\n",
       "      <td>10707</td>\n",
       "    </tr>\n",
       "  </tbody>\n",
       "</table>\n",
       "</div>"
      ],
      "text/plain": [
       "              price  model_year  model  condition  cylinders   fuel  odometer  \\\n",
       "transmission                                                                    \n",
       "other            69          69     69         69         69     69        69   \n",
       "manual          539         539    539        539        539    539       539   \n",
       "automatic     10707       10707  10707      10707      10707  10707     10707   \n",
       "\n",
       "               type  paint_color  is_4wd  date_posted  days_listed  \\\n",
       "transmission                                                         \n",
       "other            69           69      69           69           69   \n",
       "manual          539          539     539          539          539   \n",
       "automatic     10707        10707   10707        10707        10707   \n",
       "\n",
       "              year_date_posted  month_date_posted  day_date_posted    age  \\\n",
       "transmission                                                                \n",
       "other                       69                 69               69     69   \n",
       "manual                     539                539              539    539   \n",
       "automatic                10707              10707            10707  10707   \n",
       "\n",
       "              avg_mileage_year  \n",
       "transmission                    \n",
       "other                       69  \n",
       "manual                     539  \n",
       "automatic                10707  "
      ]
     },
     "execution_count": 90,
     "metadata": {},
     "output_type": "execute_result"
    }
   ],
   "source": [
    "#check number of ads for each color to see if there are colores with less then 50 ads\n",
    "sedan_data_filtered.groupby('transmission').count().sort_values('model')"
   ]
  },
  {
   "cell_type": "markdown",
   "metadata": {},
   "source": [
    "transmission dose'nt have ad's less then 50"
   ]
  },
  {
   "cell_type": "code",
   "execution_count": 91,
   "metadata": {},
   "outputs": [
    {
     "data": {
      "text/plain": [
       "<matplotlib.axes._subplots.AxesSubplot at 0x7f75d1c7a890>"
      ]
     },
     "execution_count": 91,
     "metadata": {},
     "output_type": "execute_result"
    },
    {
     "data": {
      "image/png": "[encoded data removed]",
      "text/plain": [
       "<Figure size 432x288 with 1 Axes>"
      ]
     },
     "metadata": {
      "needs_background": "light"
     },
     "output_type": "display_data"
    }
   ],
   "source": [
    "#Check dependecny of price to age\n",
    "sedan_data_filtered.plot(x='age', y='price', kind='scatter')"
   ]
  },
  {
   "cell_type": "markdown",
   "metadata": {},
   "source": [
    "As we can see from the graph,for sedan cars, age impact the price.\n",
    "as much the car is newer, the price is higher"
   ]
  },
  {
   "cell_type": "code",
   "execution_count": 92,
   "metadata": {},
   "outputs": [
    {
     "data": {
      "text/plain": [
       "<matplotlib.axes._subplots.AxesSubplot at 0x7f75d1bd8d10>"
      ]
     },
     "execution_count": 92,
     "metadata": {},
     "output_type": "execute_result"
    },
    {
     "data": {
      "image/png": "[encoded data removed]",
      "text/plain": [
       "<Figure size 432x288 with 1 Axes>"
      ]
     },
     "metadata": {
      "needs_background": "light"
     },
     "output_type": "display_data"
    }
   ],
   "source": [
    "#Check dependecny of price to odometer\n",
    "sedan_data_filtered.plot(x='odometer', y='price', kind='scatter')"
   ]
  },
  {
   "cell_type": "markdown",
   "metadata": {},
   "source": [
    "As we can see from the graph,for sedan cars odometer impact the price.\n",
    "as much the odometer is lower, the price is higher"
   ]
  },
  {
   "cell_type": "code",
   "execution_count": 93,
   "metadata": {},
   "outputs": [
    {
     "data": {
      "text/plain": [
       "<matplotlib.axes._subplots.AxesSubplot at 0x7f75d1b59150>"
      ]
     },
     "execution_count": 93,
     "metadata": {},
     "output_type": "execute_result"
    },
    {
     "data": {
      "image/png": "[encoded data removed]",
      "text/plain": [
       "<Figure size 432x288 with 1 Axes>"
      ]
     },
     "metadata": {
      "needs_background": "light"
     },
     "output_type": "display_data"
    }
   ],
   "source": [
    "#Check dependecny of price to condition\n",
    "sedan_data_filtered.plot(x='condition', y='price', kind='scatter')"
   ]
  },
  {
   "cell_type": "code",
   "execution_count": 94,
   "metadata": {},
   "outputs": [
    {
     "name": "stderr",
     "output_type": "stream",
     "text": [
      "/opt/conda/lib/python3.7/site-packages/numpy/core/_asarray.py:83: VisibleDeprecationWarning: Creating an ndarray from ragged nested sequences (which is a list-or-tuple of lists-or-tuples-or ndarrays with different lengths or shapes) is deprecated. If you meant to do this, you must specify 'dtype=object' when creating the ndarray\n",
      "  return array(a, dtype, copy=False, order=order)\n"
     ]
    },
    {
     "data": {
      "text/plain": [
       "<matplotlib.axes._subplots.AxesSubplot at 0x7f75d1ba6b50>"
      ]
     },
     "execution_count": 94,
     "metadata": {},
     "output_type": "execute_result"
    },
    {
     "data": {
      "image/png": "[encoded data removed]",
      "text/plain": [
       "<Figure size 432x288 with 1 Axes>"
      ]
     },
     "metadata": {
      "needs_background": "light"
     },
     "output_type": "display_data"
    }
   ],
   "source": [
    "#Check dependecny of price to transmission\n",
    "sedan_data_filtered[['transmission','price']].boxplot(by='transmission')"
   ]
  },
  {
   "cell_type": "code",
   "execution_count": 95,
   "metadata": {},
   "outputs": [
    {
     "name": "stderr",
     "output_type": "stream",
     "text": [
      "/opt/conda/lib/python3.7/site-packages/numpy/core/_asarray.py:83: VisibleDeprecationWarning: Creating an ndarray from ragged nested sequences (which is a list-or-tuple of lists-or-tuples-or ndarrays with different lengths or shapes) is deprecated. If you meant to do this, you must specify 'dtype=object' when creating the ndarray\n",
      "  return array(a, dtype, copy=False, order=order)\n"
     ]
    },
    {
     "data": {
      "text/plain": [
       "<matplotlib.axes._subplots.AxesSubplot at 0x7f75d1a57f10>"
      ]
     },
     "execution_count": 95,
     "metadata": {},
     "output_type": "execute_result"
    },
    {
     "data": {
      "image/png": "[encoded data removed]",
      "text/plain": [
       "<Figure size 432x288 with 1 Axes>"
      ]
     },
     "metadata": {
      "needs_background": "light"
     },
     "output_type": "display_data"
    }
   ],
   "source": [
    "#Check dependecny of price to paint_color\n",
    "sedan_data_filtered[['paint_color','price']].boxplot(by='paint_color')"
   ]
  },
  {
   "cell_type": "markdown",
   "metadata": {},
   "source": [
    "##### Conclusion"
   ]
  },
  {
   "cell_type": "markdown",
   "metadata": {},
   "source": [
    "As we can see from the graph, price and odometer impact the price.\n",
    "as much the price and odometer is lower, the price is higher\n",
    "condition,transmission and color dos'nt impact the price.\n",
    "Checking the most popular types (sedan,SUV) gave us the same results"
   ]
  },
  {
   "cell_type": "code",
   "execution_count": 96,
   "metadata": {},
   "outputs": [
    {
     "data": {
      "text/html": [
       "<div>\n",
       "<style scoped>\n",
       "    .dataframe tbody tr th:only-of-type {\n",
       "        vertical-align: middle;\n",
       "    }\n",
       "\n",
       "    .dataframe tbody tr th {\n",
       "        vertical-align: top;\n",
       "    }\n",
       "\n",
       "    .dataframe thead th {\n",
       "        text-align: right;\n",
       "    }\n",
       "</style>\n",
       "<table border=\"1\" class=\"dataframe\">\n",
       "  <thead>\n",
       "    <tr style=\"text-align: right;\">\n",
       "      <th></th>\n",
       "      <th>price</th>\n",
       "      <th>model_year</th>\n",
       "      <th>condition</th>\n",
       "      <th>cylinders</th>\n",
       "      <th>odometer</th>\n",
       "      <th>is_4wd</th>\n",
       "      <th>days_listed</th>\n",
       "      <th>year_date_posted</th>\n",
       "      <th>month_date_posted</th>\n",
       "      <th>day_date_posted</th>\n",
       "      <th>age</th>\n",
       "      <th>avg_mileage_year</th>\n",
       "    </tr>\n",
       "  </thead>\n",
       "  <tbody>\n",
       "    <tr>\n",
       "      <td>price</td>\n",
       "      <td>1.000000</td>\n",
       "      <td>0.524356</td>\n",
       "      <td>0.198295</td>\n",
       "      <td>0.357964</td>\n",
       "      <td>-0.440767</td>\n",
       "      <td>0.340348</td>\n",
       "      <td>-0.002989</td>\n",
       "      <td>0.017383</td>\n",
       "      <td>-0.016406</td>\n",
       "      <td>-0.002241</td>\n",
       "      <td>-0.522016</td>\n",
       "      <td>0.167183</td>\n",
       "    </tr>\n",
       "    <tr>\n",
       "      <td>model_year</td>\n",
       "      <td>0.524356</td>\n",
       "      <td>1.000000</td>\n",
       "      <td>0.263778</td>\n",
       "      <td>-0.166476</td>\n",
       "      <td>-0.553399</td>\n",
       "      <td>-0.093804</td>\n",
       "      <td>-0.001315</td>\n",
       "      <td>0.032272</td>\n",
       "      <td>-0.030070</td>\n",
       "      <td>0.001048</td>\n",
       "      <td>-0.995619</td>\n",
       "      <td>0.477456</td>\n",
       "    </tr>\n",
       "    <tr>\n",
       "      <td>condition</td>\n",
       "      <td>0.198295</td>\n",
       "      <td>0.263778</td>\n",
       "      <td>1.000000</td>\n",
       "      <td>-0.079987</td>\n",
       "      <td>-0.262702</td>\n",
       "      <td>-0.037606</td>\n",
       "      <td>0.000336</td>\n",
       "      <td>0.010116</td>\n",
       "      <td>-0.009591</td>\n",
       "      <td>-0.011102</td>\n",
       "      <td>-0.262473</td>\n",
       "      <td>0.035448</td>\n",
       "    </tr>\n",
       "    <tr>\n",
       "      <td>cylinders</td>\n",
       "      <td>0.357964</td>\n",
       "      <td>-0.166476</td>\n",
       "      <td>-0.079987</td>\n",
       "      <td>1.000000</td>\n",
       "      <td>0.144358</td>\n",
       "      <td>0.547097</td>\n",
       "      <td>0.003134</td>\n",
       "      <td>-0.003309</td>\n",
       "      <td>0.002409</td>\n",
       "      <td>-0.005922</td>\n",
       "      <td>0.165940</td>\n",
       "      <td>-0.020555</td>\n",
       "    </tr>\n",
       "    <tr>\n",
       "      <td>odometer</td>\n",
       "      <td>-0.440767</td>\n",
       "      <td>-0.553399</td>\n",
       "      <td>-0.262702</td>\n",
       "      <td>0.144358</td>\n",
       "      <td>1.000000</td>\n",
       "      <td>0.125975</td>\n",
       "      <td>0.004739</td>\n",
       "      <td>-0.027640</td>\n",
       "      <td>0.028400</td>\n",
       "      <td>-0.001501</td>\n",
       "      <td>0.550060</td>\n",
       "      <td>0.287651</td>\n",
       "    </tr>\n",
       "    <tr>\n",
       "      <td>is_4wd</td>\n",
       "      <td>0.340348</td>\n",
       "      <td>-0.093804</td>\n",
       "      <td>-0.037606</td>\n",
       "      <td>0.547097</td>\n",
       "      <td>0.125975</td>\n",
       "      <td>1.000000</td>\n",
       "      <td>0.001768</td>\n",
       "      <td>-0.003369</td>\n",
       "      <td>0.003859</td>\n",
       "      <td>-0.004593</td>\n",
       "      <td>0.093361</td>\n",
       "      <td>0.036531</td>\n",
       "    </tr>\n",
       "    <tr>\n",
       "      <td>days_listed</td>\n",
       "      <td>-0.002989</td>\n",
       "      <td>-0.001315</td>\n",
       "      <td>0.000336</td>\n",
       "      <td>0.003134</td>\n",
       "      <td>0.004739</td>\n",
       "      <td>0.001768</td>\n",
       "      <td>1.000000</td>\n",
       "      <td>0.009650</td>\n",
       "      <td>-0.010454</td>\n",
       "      <td>-0.000161</td>\n",
       "      <td>0.002216</td>\n",
       "      <td>0.000380</td>\n",
       "    </tr>\n",
       "    <tr>\n",
       "      <td>year_date_posted</td>\n",
       "      <td>0.017383</td>\n",
       "      <td>0.032272</td>\n",
       "      <td>0.010116</td>\n",
       "      <td>-0.003309</td>\n",
       "      <td>-0.027640</td>\n",
       "      <td>-0.003369</td>\n",
       "      <td>0.009650</td>\n",
       "      <td>1.000000</td>\n",
       "      <td>-0.819316</td>\n",
       "      <td>-0.062764</td>\n",
       "      <td>0.061321</td>\n",
       "      <td>-0.130527</td>\n",
       "    </tr>\n",
       "    <tr>\n",
       "      <td>month_date_posted</td>\n",
       "      <td>-0.016406</td>\n",
       "      <td>-0.030070</td>\n",
       "      <td>-0.009591</td>\n",
       "      <td>0.002409</td>\n",
       "      <td>0.028400</td>\n",
       "      <td>0.003859</td>\n",
       "      <td>-0.010454</td>\n",
       "      <td>-0.819316</td>\n",
       "      <td>1.000000</td>\n",
       "      <td>0.033117</td>\n",
       "      <td>-0.046618</td>\n",
       "      <td>0.110162</td>\n",
       "    </tr>\n",
       "    <tr>\n",
       "      <td>day_date_posted</td>\n",
       "      <td>-0.002241</td>\n",
       "      <td>0.001048</td>\n",
       "      <td>-0.011102</td>\n",
       "      <td>-0.005922</td>\n",
       "      <td>-0.001501</td>\n",
       "      <td>-0.004593</td>\n",
       "      <td>-0.000161</td>\n",
       "      <td>-0.062764</td>\n",
       "      <td>0.033117</td>\n",
       "      <td>1.000000</td>\n",
       "      <td>-0.006918</td>\n",
       "      <td>0.010929</td>\n",
       "    </tr>\n",
       "    <tr>\n",
       "      <td>age</td>\n",
       "      <td>-0.522016</td>\n",
       "      <td>-0.995619</td>\n",
       "      <td>-0.262473</td>\n",
       "      <td>0.165940</td>\n",
       "      <td>0.550060</td>\n",
       "      <td>0.093361</td>\n",
       "      <td>0.002216</td>\n",
       "      <td>0.061321</td>\n",
       "      <td>-0.046618</td>\n",
       "      <td>-0.006918</td>\n",
       "      <td>1.000000</td>\n",
       "      <td>-0.489016</td>\n",
       "    </tr>\n",
       "    <tr>\n",
       "      <td>avg_mileage_year</td>\n",
       "      <td>0.167183</td>\n",
       "      <td>0.477456</td>\n",
       "      <td>0.035448</td>\n",
       "      <td>-0.020555</td>\n",
       "      <td>0.287651</td>\n",
       "      <td>0.036531</td>\n",
       "      <td>0.000380</td>\n",
       "      <td>-0.130527</td>\n",
       "      <td>0.110162</td>\n",
       "      <td>0.010929</td>\n",
       "      <td>-0.489016</td>\n",
       "      <td>1.000000</td>\n",
       "    </tr>\n",
       "  </tbody>\n",
       "</table>\n",
       "</div>"
      ],
      "text/plain": [
       "                      price  model_year  condition  cylinders  odometer  \\\n",
       "price              1.000000    0.524356   0.198295   0.357964 -0.440767   \n",
       "model_year         0.524356    1.000000   0.263778  -0.166476 -0.553399   \n",
       "condition          0.198295    0.263778   1.000000  -0.079987 -0.262702   \n",
       "cylinders          0.357964   -0.166476  -0.079987   1.000000  0.144358   \n",
       "odometer          -0.440767   -0.553399  -0.262702   0.144358  1.000000   \n",
       "is_4wd             0.340348   -0.093804  -0.037606   0.547097  0.125975   \n",
       "days_listed       -0.002989   -0.001315   0.000336   0.003134  0.004739   \n",
       "year_date_posted   0.017383    0.032272   0.010116  -0.003309 -0.027640   \n",
       "month_date_posted -0.016406   -0.030070  -0.009591   0.002409  0.028400   \n",
       "day_date_posted   -0.002241    0.001048  -0.011102  -0.005922 -0.001501   \n",
       "age               -0.522016   -0.995619  -0.262473   0.165940  0.550060   \n",
       "avg_mileage_year   0.167183    0.477456   0.035448  -0.020555  0.287651   \n",
       "\n",
       "                     is_4wd  days_listed  year_date_posted  month_date_posted  \\\n",
       "price              0.340348    -0.002989          0.017383          -0.016406   \n",
       "model_year        -0.093804    -0.001315          0.032272          -0.030070   \n",
       "condition         -0.037606     0.000336          0.010116          -0.009591   \n",
       "cylinders          0.547097     0.003134         -0.003309           0.002409   \n",
       "odometer           0.125975     0.004739         -0.027640           0.028400   \n",
       "is_4wd             1.000000     0.001768         -0.003369           0.003859   \n",
       "days_listed        0.001768     1.000000          0.009650          -0.010454   \n",
       "year_date_posted  -0.003369     0.009650          1.000000          -0.819316   \n",
       "month_date_posted  0.003859    -0.010454         -0.819316           1.000000   \n",
       "day_date_posted   -0.004593    -0.000161         -0.062764           0.033117   \n",
       "age                0.093361     0.002216          0.061321          -0.046618   \n",
       "avg_mileage_year   0.036531     0.000380         -0.130527           0.110162   \n",
       "\n",
       "                   day_date_posted       age  avg_mileage_year  \n",
       "price                    -0.002241 -0.522016          0.167183  \n",
       "model_year                0.001048 -0.995619          0.477456  \n",
       "condition                -0.011102 -0.262473          0.035448  \n",
       "cylinders                -0.005922  0.165940         -0.020555  \n",
       "odometer                 -0.001501  0.550060          0.287651  \n",
       "is_4wd                   -0.004593  0.093361          0.036531  \n",
       "days_listed              -0.000161  0.002216          0.000380  \n",
       "year_date_posted         -0.062764  0.061321         -0.130527  \n",
       "month_date_posted         0.033117 -0.046618          0.110162  \n",
       "day_date_posted           1.000000 -0.006918          0.010929  \n",
       "age                      -0.006918  1.000000         -0.489016  \n",
       "avg_mileage_year          0.010929 -0.489016          1.000000  "
      ]
     },
     "execution_count": 96,
     "metadata": {},
     "output_type": "execute_result"
    }
   ],
   "source": [
    "#correlation \n",
    "data_filtered.corr()"
   ]
  },
  {
   "cell_type": "markdown",
   "metadata": {},
   "source": [
    "##### Conclution"
   ]
  },
  {
   "cell_type": "markdown",
   "metadata": {},
   "source": [
    "1.There is a negative correlation between price and age. as age increase, price decrease\n",
    "2.There is a negative correlation between price and odometer. as odometer increase, price decrease\n",
    "3.The condition of the car does'nt affect the price"
   ]
  },
  {
   "cell_type": "markdown",
   "metadata": {},
   "source": [
    "## Overall conclusion"
   ]
  },
  {
   "cell_type": "markdown",
   "metadata": {},
   "source": [
    "1. We have data about vehicales advertisments. the data was collected over the last few years.\n",
    "2. We want to determine which factors influence the price of a vehicle. \n",
    "3. Before removing outliers , most cars price are in ranfe of 0 to 13000\n",
    "   After removing outliers, we can see more clearly the distribution of price. most cars price range are  4000 to 8000\n",
    "4. Before removing outliers , most cars age are in range 2 to 20\n",
    "   After removing outliers, we can see more clearly the distribution of age. most cars age are from 7 to 16\n",
    "5. Before removing outliers , most cars aodometerge are in range 0 to 200,000\n",
    "   After removing outliers, we can see more clearly the distribution of odometer. most cars odometer are from 80,000 to 160,000\n",
    "6. Most cars has number of cylinders of 4,6,8\n",
    "7. Most cars condition are 2(good) and 3(excellent)\n",
    "8. days_listed\n",
    "   mean value for ad a car is 39.6 days\n",
    "   In order to sale a car fast , the car should have the following parameters:\n",
    "    -price of 5250\n",
    "    -model year 2007\n",
    "    -odometer of 72285\n",
    "    -age of 7 years\n",
    "    -average mileage per year of 7875\n",
    "    -increase of the parameters above will increase the days advertisementing an add\n",
    "    -days_listed_mean = 39.6 days_listed_median = 33 days_listed_mean > days_listed_median -> Thats mean that there are              outliers of ad's that were posted for very long time\n",
    "     Car's listed for an abnormally long time when price is high, the car is newer while the odometer and the average mileage        per year are higher.\n",
    "9.  SUV and sedan are the types with the greatest number of ads    \n",
    "10. age influece the price of a car. The younger the vehicle, the price is higher\n",
    "11. odometer influence the price of a car. The bigger it is, the price is lower\n",
    "12. There is a negative correlation between price and age. as age increase, price decrease 2.There is a negative correlation       between price and odometer. as odometer increase, price decrease 3.The condition of the car does'nt affect the price"
   ]
  }
 ],
 "metadata": {
  "ExecuteTimeLog": [
   {
    "duration": 764,
    "start_time": "2021-06-24T10:42:10.755Z"
   },
   {
    "duration": 1342,
    "start_time": "2021-06-24T10:44:28.456Z"
   },
   {
    "duration": 110,
    "start_time": "2021-06-24T10:44:42.533Z"
   },
   {
    "duration": 28,
    "start_time": "2021-06-24T10:52:55.613Z"
   },
   {
    "duration": 180,
    "start_time": "2021-06-24T11:41:55.804Z"
   },
   {
    "duration": 191,
    "start_time": "2021-06-24T11:42:04.003Z"
   },
   {
    "duration": 36,
    "start_time": "2021-06-24T11:43:22.863Z"
   },
   {
    "duration": 33,
    "start_time": "2021-06-24T11:43:30.382Z"
   },
   {
    "duration": 35,
    "start_time": "2021-06-24T11:43:36.661Z"
   },
   {
    "duration": 36,
    "start_time": "2021-06-24T11:44:30.465Z"
   },
   {
    "duration": 97,
    "start_time": "2021-06-24T12:00:16.778Z"
   },
   {
    "duration": 18,
    "start_time": "2021-06-24T12:06:44.691Z"
   },
   {
    "duration": 18,
    "start_time": "2021-06-24T12:07:47.606Z"
   },
   {
    "duration": 22,
    "start_time": "2021-06-24T12:09:46.440Z"
   },
   {
    "duration": 6,
    "start_time": "2021-06-24T12:11:11.025Z"
   },
   {
    "duration": 21,
    "start_time": "2021-06-24T12:11:42.592Z"
   },
   {
    "duration": 365,
    "start_time": "2021-06-24T17:05:12.041Z"
   },
   {
    "duration": 293,
    "start_time": "2021-06-24T17:05:19.269Z"
   },
   {
    "duration": 1687,
    "start_time": "2021-06-24T17:05:26.398Z"
   },
   {
    "duration": 57,
    "start_time": "2021-06-24T17:05:28.088Z"
   },
   {
    "duration": 39,
    "start_time": "2021-06-24T17:05:28.148Z"
   },
   {
    "duration": 10,
    "start_time": "2021-06-24T17:05:28.190Z"
   },
   {
    "duration": 37,
    "start_time": "2021-06-24T17:05:28.203Z"
   },
   {
    "duration": 343,
    "start_time": "2021-06-24T17:05:28.243Z"
   },
   {
    "duration": 297,
    "start_time": "2021-06-24T17:10:37.313Z"
   },
   {
    "duration": 18,
    "start_time": "2021-06-24T17:10:49.802Z"
   },
   {
    "duration": 139,
    "start_time": "2021-06-24T17:10:58.972Z"
   },
   {
    "duration": 37,
    "start_time": "2021-06-24T17:11:11.920Z"
   },
   {
    "duration": 64,
    "start_time": "2021-06-24T17:11:23.581Z"
   },
   {
    "duration": 7,
    "start_time": "2021-06-24T17:12:13.822Z"
   },
   {
    "duration": 7,
    "start_time": "2021-06-24T17:12:22.536Z"
   },
   {
    "duration": 191,
    "start_time": "2021-06-24T17:12:39.253Z"
   },
   {
    "duration": 82,
    "start_time": "2021-06-24T17:12:39.449Z"
   },
   {
    "duration": 34,
    "start_time": "2021-06-24T17:12:39.536Z"
   },
   {
    "duration": 11,
    "start_time": "2021-06-24T17:12:39.588Z"
   },
   {
    "duration": 36,
    "start_time": "2021-06-24T17:12:39.602Z"
   },
   {
    "duration": 9,
    "start_time": "2021-06-24T17:12:39.641Z"
   },
   {
    "duration": 33,
    "start_time": "2021-06-24T17:12:39.652Z"
   },
   {
    "duration": 5,
    "start_time": "2021-06-24T17:12:39.687Z"
   },
   {
    "duration": 28,
    "start_time": "2021-06-24T17:13:04.081Z"
   },
   {
    "duration": 36,
    "start_time": "2021-06-24T17:13:13.916Z"
   },
   {
    "duration": 133,
    "start_time": "2021-06-24T17:13:26.994Z"
   },
   {
    "duration": 37,
    "start_time": "2021-06-24T17:13:32.619Z"
   },
   {
    "duration": 378,
    "start_time": "2021-06-25T05:54:09.070Z"
   },
   {
    "duration": 952,
    "start_time": "2021-06-25T05:54:19.986Z"
   },
   {
    "duration": 67,
    "start_time": "2021-06-25T05:54:20.940Z"
   },
   {
    "duration": 24,
    "start_time": "2021-06-25T05:54:21.010Z"
   },
   {
    "duration": 27,
    "start_time": "2021-06-25T05:54:21.037Z"
   },
   {
    "duration": 36,
    "start_time": "2021-06-25T05:54:21.067Z"
   },
   {
    "duration": 440,
    "start_time": "2021-06-25T05:54:25.696Z"
   },
   {
    "duration": 16,
    "start_time": "2021-06-25T05:55:11.053Z"
   },
   {
    "duration": 15,
    "start_time": "2021-06-25T05:55:44.818Z"
   },
   {
    "duration": 379,
    "start_time": "2021-06-25T05:55:58.241Z"
   },
   {
    "duration": 17,
    "start_time": "2021-06-25T05:56:16.188Z"
   },
   {
    "duration": 14,
    "start_time": "2021-06-25T06:00:18.768Z"
   },
   {
    "duration": 12,
    "start_time": "2021-06-25T06:00:47.824Z"
   },
   {
    "duration": 15,
    "start_time": "2021-06-25T06:00:53.190Z"
   },
   {
    "duration": 10,
    "start_time": "2021-06-25T06:01:01.254Z"
   },
   {
    "duration": 14,
    "start_time": "2021-06-25T06:01:07.222Z"
   },
   {
    "duration": 11,
    "start_time": "2021-06-25T06:03:12.203Z"
   },
   {
    "duration": 13,
    "start_time": "2021-06-25T06:03:13.416Z"
   },
   {
    "duration": 17,
    "start_time": "2021-06-25T06:04:16.332Z"
   },
   {
    "duration": 19,
    "start_time": "2021-06-25T06:05:54.915Z"
   },
   {
    "duration": 17,
    "start_time": "2021-06-25T06:06:09.202Z"
   },
   {
    "duration": 17,
    "start_time": "2021-06-25T06:06:09.694Z"
   },
   {
    "duration": 19,
    "start_time": "2021-06-25T06:06:10.526Z"
   },
   {
    "duration": 22,
    "start_time": "2021-06-25T06:06:11.915Z"
   },
   {
    "duration": 17,
    "start_time": "2021-06-25T06:08:57.709Z"
   },
   {
    "duration": 8,
    "start_time": "2021-06-25T06:10:29.027Z"
   },
   {
    "duration": 12,
    "start_time": "2021-06-25T06:10:33.196Z"
   },
   {
    "duration": 12,
    "start_time": "2021-06-25T06:10:34.501Z"
   },
   {
    "duration": 8,
    "start_time": "2021-06-25T06:10:36.555Z"
   },
   {
    "duration": 12,
    "start_time": "2021-06-25T06:10:45.755Z"
   },
   {
    "duration": 13,
    "start_time": "2021-06-25T06:10:54.992Z"
   },
   {
    "duration": 45,
    "start_time": "2021-06-25T06:11:45.730Z"
   },
   {
    "duration": 39,
    "start_time": "2021-06-25T06:12:13.451Z"
   },
   {
    "duration": 12,
    "start_time": "2021-06-25T06:12:26.467Z"
   },
   {
    "duration": 12,
    "start_time": "2021-06-25T06:15:00.342Z"
   },
   {
    "duration": 8,
    "start_time": "2021-06-25T06:15:16.239Z"
   },
   {
    "duration": 12,
    "start_time": "2021-06-25T06:15:18.203Z"
   },
   {
    "duration": 5,
    "start_time": "2021-06-25T06:16:05.147Z"
   },
   {
    "duration": 14,
    "start_time": "2021-06-25T06:16:06.724Z"
   },
   {
    "duration": 128,
    "start_time": "2021-06-25T06:16:15.570Z"
   },
   {
    "duration": 17,
    "start_time": "2021-06-25T06:16:28.371Z"
   },
   {
    "duration": 385,
    "start_time": "2021-06-25T06:20:02.776Z"
   },
   {
    "duration": 10,
    "start_time": "2021-06-25T06:51:43.785Z"
   },
   {
    "duration": 12,
    "start_time": "2021-06-25T06:51:49.764Z"
   },
   {
    "duration": 18,
    "start_time": "2021-06-25T06:52:03.346Z"
   },
   {
    "duration": 17,
    "start_time": "2021-06-25T06:52:24.459Z"
   },
   {
    "duration": 8,
    "start_time": "2021-06-25T06:52:38.289Z"
   },
   {
    "duration": 12,
    "start_time": "2021-06-25T06:52:41.506Z"
   },
   {
    "duration": 26,
    "start_time": "2021-06-25T06:52:55.799Z"
   },
   {
    "duration": 12,
    "start_time": "2021-06-25T06:52:57.564Z"
   },
   {
    "duration": 13,
    "start_time": "2021-06-25T06:53:43.292Z"
   },
   {
    "duration": 12,
    "start_time": "2021-06-25T06:55:14.795Z"
   },
   {
    "duration": 131,
    "start_time": "2021-06-25T06:55:20.781Z"
   },
   {
    "duration": 11,
    "start_time": "2021-06-25T06:55:25.937Z"
   },
   {
    "duration": 8,
    "start_time": "2021-06-25T06:55:27.733Z"
   },
   {
    "duration": 12,
    "start_time": "2021-06-25T06:55:29.909Z"
   },
   {
    "duration": 8,
    "start_time": "2021-06-25T07:00:05.760Z"
   },
   {
    "duration": 15,
    "start_time": "2021-06-25T07:04:38.157Z"
   },
   {
    "duration": 18,
    "start_time": "2021-06-25T07:04:39.424Z"
   },
   {
    "duration": 14,
    "start_time": "2021-06-25T07:04:40.693Z"
   },
   {
    "duration": 13,
    "start_time": "2021-06-25T07:12:06.300Z"
   },
   {
    "duration": 380,
    "start_time": "2021-06-25T07:12:08.276Z"
   },
   {
    "duration": 384,
    "start_time": "2021-06-25T07:12:29.946Z"
   },
   {
    "duration": 344,
    "start_time": "2021-06-25T07:12:57.939Z"
   },
   {
    "duration": 326,
    "start_time": "2021-06-25T07:13:29.014Z"
   },
   {
    "duration": 177,
    "start_time": "2021-06-25T07:15:16.256Z"
   },
   {
    "duration": 15,
    "start_time": "2021-06-25T07:18:31.625Z"
   },
   {
    "duration": 13,
    "start_time": "2021-06-25T07:18:33.537Z"
   },
   {
    "duration": 13,
    "start_time": "2021-06-25T07:18:35.585Z"
   },
   {
    "duration": 25,
    "start_time": "2021-06-25T07:22:46.908Z"
   },
   {
    "duration": 25,
    "start_time": "2021-06-25T07:23:38.086Z"
   },
   {
    "duration": 27,
    "start_time": "2021-06-25T07:23:47.628Z"
   },
   {
    "duration": 363,
    "start_time": "2021-06-25T07:25:26.991Z"
   },
   {
    "duration": 324,
    "start_time": "2021-06-25T07:26:00.236Z"
   },
   {
    "duration": 321,
    "start_time": "2021-06-25T07:27:26.949Z"
   },
   {
    "duration": 6,
    "start_time": "2021-06-25T07:27:40.424Z"
   },
   {
    "duration": 11,
    "start_time": "2021-06-25T07:27:58.904Z"
   },
   {
    "duration": 327,
    "start_time": "2021-06-25T07:37:18.953Z"
   },
   {
    "duration": 16,
    "start_time": "2021-06-25T07:37:30.570Z"
   },
   {
    "duration": 389,
    "start_time": "2021-06-25T07:37:52.489Z"
   },
   {
    "duration": 25,
    "start_time": "2021-06-25T07:39:57.239Z"
   },
   {
    "duration": 38,
    "start_time": "2021-06-25T07:40:20.067Z"
   },
   {
    "duration": 25,
    "start_time": "2021-06-25T07:40:29.081Z"
   },
   {
    "duration": 24,
    "start_time": "2021-06-25T07:40:40.643Z"
   },
   {
    "duration": 131,
    "start_time": "2021-06-25T07:47:22.856Z"
   },
   {
    "duration": 81,
    "start_time": "2021-06-25T07:47:22.990Z"
   },
   {
    "duration": 35,
    "start_time": "2021-06-25T07:47:23.075Z"
   },
   {
    "duration": 11,
    "start_time": "2021-06-25T07:47:23.114Z"
   },
   {
    "duration": 79,
    "start_time": "2021-06-25T07:47:23.128Z"
   },
   {
    "duration": 23,
    "start_time": "2021-06-25T07:47:23.210Z"
   },
   {
    "duration": 37,
    "start_time": "2021-06-25T07:47:23.236Z"
   },
   {
    "duration": 22,
    "start_time": "2021-06-25T07:47:23.276Z"
   },
   {
    "duration": 17,
    "start_time": "2021-06-25T07:47:23.303Z"
   },
   {
    "duration": 50,
    "start_time": "2021-06-25T07:47:23.323Z"
   },
   {
    "duration": 19,
    "start_time": "2021-06-25T07:47:23.375Z"
   },
   {
    "duration": 28,
    "start_time": "2021-06-25T07:47:34.356Z"
   },
   {
    "duration": 16,
    "start_time": "2021-06-25T07:48:17.320Z"
   },
   {
    "duration": 25,
    "start_time": "2021-06-25T07:48:22.385Z"
   },
   {
    "duration": 35,
    "start_time": "2021-06-25T07:48:41.538Z"
   },
   {
    "duration": 24,
    "start_time": "2021-06-25T07:48:53.890Z"
   },
   {
    "duration": 14,
    "start_time": "2021-06-25T07:51:05.371Z"
   },
   {
    "duration": 25,
    "start_time": "2021-06-25T07:51:09.451Z"
   },
   {
    "duration": 15,
    "start_time": "2021-06-25T07:53:05.494Z"
   },
   {
    "duration": 24,
    "start_time": "2021-06-25T07:53:11.316Z"
   },
   {
    "duration": 15,
    "start_time": "2021-06-25T07:53:43.134Z"
   },
   {
    "duration": 25,
    "start_time": "2021-06-25T07:53:46.580Z"
   },
   {
    "duration": 16,
    "start_time": "2021-06-25T07:56:16.399Z"
   },
   {
    "duration": 24,
    "start_time": "2021-06-25T07:56:22.799Z"
   },
   {
    "duration": 11,
    "start_time": "2021-06-25T08:00:06.907Z"
   },
   {
    "duration": 2265,
    "start_time": "2021-06-25T08:00:27.980Z"
   },
   {
    "duration": 44,
    "start_time": "2021-06-25T08:01:56.167Z"
   },
   {
    "duration": 18,
    "start_time": "2021-06-25T08:02:12.956Z"
   },
   {
    "duration": 379,
    "start_time": "2021-06-25T08:05:16.114Z"
   },
   {
    "duration": 322,
    "start_time": "2021-06-25T08:07:30.733Z"
   },
   {
    "duration": 17,
    "start_time": "2021-06-25T08:08:03.512Z"
   },
   {
    "duration": 21,
    "start_time": "2021-06-25T08:08:10.665Z"
   },
   {
    "duration": 430,
    "start_time": "2021-06-25T08:11:49.019Z"
   },
   {
    "duration": 994,
    "start_time": "2021-06-25T08:13:09.492Z"
   },
   {
    "duration": 354,
    "start_time": "2021-06-25T08:13:46.216Z"
   },
   {
    "duration": 16,
    "start_time": "2021-06-25T08:14:08.431Z"
   },
   {
    "duration": 16,
    "start_time": "2021-06-25T08:14:54.595Z"
   },
   {
    "duration": 12,
    "start_time": "2021-06-25T08:15:34.353Z"
   },
   {
    "duration": 14,
    "start_time": "2021-06-25T08:15:43.903Z"
   },
   {
    "duration": 14,
    "start_time": "2021-06-25T08:15:56.247Z"
   },
   {
    "duration": 14,
    "start_time": "2021-06-25T08:16:11.628Z"
   },
   {
    "duration": 15,
    "start_time": "2021-06-25T08:16:18.850Z"
   },
   {
    "duration": 24,
    "start_time": "2021-06-25T08:18:19.425Z"
   },
   {
    "duration": 23,
    "start_time": "2021-06-25T08:18:47.542Z"
   },
   {
    "duration": 13,
    "start_time": "2021-06-25T08:20:21.779Z"
   },
   {
    "duration": 13,
    "start_time": "2021-06-25T08:21:10.366Z"
   },
   {
    "duration": 15,
    "start_time": "2021-06-25T08:21:52.367Z"
   },
   {
    "duration": 24,
    "start_time": "2021-06-25T08:21:59.628Z"
   },
   {
    "duration": 6,
    "start_time": "2021-06-25T08:23:37.106Z"
   },
   {
    "duration": 6,
    "start_time": "2021-06-25T08:23:45.361Z"
   },
   {
    "duration": 13,
    "start_time": "2021-06-25T08:24:27.434Z"
   },
   {
    "duration": 45,
    "start_time": "2021-06-25T08:27:35.042Z"
   },
   {
    "duration": 358,
    "start_time": "2021-06-25T08:30:19.459Z"
   },
   {
    "duration": 22,
    "start_time": "2021-06-25T08:30:28.009Z"
   },
   {
    "duration": 17,
    "start_time": "2021-06-25T08:31:10.526Z"
   },
   {
    "duration": 6,
    "start_time": "2021-06-25T08:31:15.061Z"
   },
   {
    "duration": 22,
    "start_time": "2021-06-25T08:35:17.873Z"
   },
   {
    "duration": 27,
    "start_time": "2021-06-25T08:35:30.786Z"
   },
   {
    "duration": 21,
    "start_time": "2021-06-25T08:35:38.171Z"
   },
   {
    "duration": 24,
    "start_time": "2021-06-25T08:37:30.755Z"
   },
   {
    "duration": 373,
    "start_time": "2021-06-25T08:56:46.902Z"
   },
   {
    "duration": 397,
    "start_time": "2021-06-25T08:57:03.220Z"
   },
   {
    "duration": 323,
    "start_time": "2021-06-25T08:57:41.328Z"
   },
   {
    "duration": 318,
    "start_time": "2021-06-25T08:58:23.310Z"
   },
   {
    "duration": 417,
    "start_time": "2021-06-25T08:58:49.190Z"
   },
   {
    "duration": 39,
    "start_time": "2021-06-25T08:59:09.382Z"
   },
   {
    "duration": 421,
    "start_time": "2021-06-25T11:07:20.907Z"
   },
   {
    "duration": 929,
    "start_time": "2021-06-25T11:07:33.891Z"
   },
   {
    "duration": 59,
    "start_time": "2021-06-25T11:07:34.823Z"
   },
   {
    "duration": 39,
    "start_time": "2021-06-25T11:07:34.885Z"
   },
   {
    "duration": 9,
    "start_time": "2021-06-25T11:07:34.928Z"
   },
   {
    "duration": 69,
    "start_time": "2021-06-25T11:07:34.940Z"
   },
   {
    "duration": 17,
    "start_time": "2021-06-25T11:07:35.011Z"
   },
   {
    "duration": 17,
    "start_time": "2021-06-25T11:07:35.030Z"
   },
   {
    "duration": 15,
    "start_time": "2021-06-25T11:07:35.051Z"
   },
   {
    "duration": 45,
    "start_time": "2021-06-25T11:07:35.069Z"
   },
   {
    "duration": 19,
    "start_time": "2021-06-25T11:07:35.117Z"
   },
   {
    "duration": 16,
    "start_time": "2021-06-25T11:07:35.139Z"
   },
   {
    "duration": 17,
    "start_time": "2021-06-25T11:07:35.158Z"
   },
   {
    "duration": 41,
    "start_time": "2021-06-25T11:07:35.177Z"
   },
   {
    "duration": 25,
    "start_time": "2021-06-25T11:07:35.221Z"
   },
   {
    "duration": 25,
    "start_time": "2021-06-25T11:07:35.249Z"
   },
   {
    "duration": 18,
    "start_time": "2021-06-25T11:07:35.277Z"
   },
   {
    "duration": 24,
    "start_time": "2021-06-25T11:07:35.298Z"
   },
   {
    "duration": 18,
    "start_time": "2021-06-25T11:07:35.325Z"
   },
   {
    "duration": 13,
    "start_time": "2021-06-25T11:07:35.346Z"
   },
   {
    "duration": 58,
    "start_time": "2021-06-25T11:07:35.362Z"
   },
   {
    "duration": 71,
    "start_time": "2021-06-25T11:07:40.589Z"
   },
   {
    "duration": 42,
    "start_time": "2021-06-25T11:08:11.997Z"
   },
   {
    "duration": 23,
    "start_time": "2021-06-25T11:09:35.458Z"
   },
   {
    "duration": 396,
    "start_time": "2021-06-25T11:13:01.866Z"
   },
   {
    "duration": 26,
    "start_time": "2021-06-25T11:13:58.539Z"
   },
   {
    "duration": 24,
    "start_time": "2021-06-25T11:14:10.993Z"
   },
   {
    "duration": 26,
    "start_time": "2021-06-25T11:15:43.973Z"
   },
   {
    "duration": 35,
    "start_time": "2021-06-25T11:16:12.641Z"
   },
   {
    "duration": 9,
    "start_time": "2021-06-25T11:17:05.166Z"
   },
   {
    "duration": 41,
    "start_time": "2021-06-25T11:17:22.638Z"
   },
   {
    "duration": 368,
    "start_time": "2021-06-25T11:18:11.969Z"
   },
   {
    "duration": 10,
    "start_time": "2021-06-25T11:18:40.075Z"
   },
   {
    "duration": 6,
    "start_time": "2021-06-25T11:18:56.442Z"
   },
   {
    "duration": 26,
    "start_time": "2021-06-25T11:19:43.535Z"
   },
   {
    "duration": 338,
    "start_time": "2021-06-25T11:22:34.174Z"
   },
   {
    "duration": 30,
    "start_time": "2021-06-25T11:22:46.391Z"
   },
   {
    "duration": 23,
    "start_time": "2021-06-25T11:23:36.291Z"
   },
   {
    "duration": 25,
    "start_time": "2021-06-25T11:23:52.363Z"
   },
   {
    "duration": 391,
    "start_time": "2021-06-25T11:53:45.291Z"
   },
   {
    "duration": 286,
    "start_time": "2021-06-25T11:54:11.669Z"
   },
   {
    "duration": 12,
    "start_time": "2021-06-25T11:54:27.350Z"
   },
   {
    "duration": 17,
    "start_time": "2021-06-25T11:58:16.676Z"
   },
   {
    "duration": 389,
    "start_time": "2021-06-25T13:37:26.163Z"
   },
   {
    "duration": 885,
    "start_time": "2021-06-25T13:37:33.685Z"
   },
   {
    "duration": 57,
    "start_time": "2021-06-25T13:37:34.572Z"
   },
   {
    "duration": 48,
    "start_time": "2021-06-25T13:37:34.631Z"
   },
   {
    "duration": 12,
    "start_time": "2021-06-25T13:37:34.681Z"
   },
   {
    "duration": 66,
    "start_time": "2021-06-25T13:37:34.695Z"
   },
   {
    "duration": 15,
    "start_time": "2021-06-25T13:37:34.763Z"
   },
   {
    "duration": 15,
    "start_time": "2021-06-25T13:37:34.780Z"
   },
   {
    "duration": 13,
    "start_time": "2021-06-25T13:37:34.799Z"
   },
   {
    "duration": 54,
    "start_time": "2021-06-25T13:37:34.815Z"
   },
   {
    "duration": 15,
    "start_time": "2021-06-25T13:37:34.871Z"
   },
   {
    "duration": 21,
    "start_time": "2021-06-25T13:37:34.889Z"
   },
   {
    "duration": 18,
    "start_time": "2021-06-25T13:37:34.912Z"
   },
   {
    "duration": 36,
    "start_time": "2021-06-25T13:37:34.933Z"
   },
   {
    "duration": 28,
    "start_time": "2021-06-25T13:37:34.972Z"
   },
   {
    "duration": 23,
    "start_time": "2021-06-25T13:37:35.002Z"
   },
   {
    "duration": 26,
    "start_time": "2021-06-25T13:37:35.027Z"
   },
   {
    "duration": 20,
    "start_time": "2021-06-25T13:37:35.056Z"
   },
   {
    "duration": 23,
    "start_time": "2021-06-25T13:37:35.078Z"
   },
   {
    "duration": 23,
    "start_time": "2021-06-25T13:37:35.103Z"
   },
   {
    "duration": 35,
    "start_time": "2021-06-25T13:37:35.128Z"
   },
   {
    "duration": 55,
    "start_time": "2021-06-25T13:37:35.166Z"
   },
   {
    "duration": 4,
    "start_time": "2021-06-25T13:37:35.224Z"
   },
   {
    "duration": 29,
    "start_time": "2021-06-25T13:37:35.232Z"
   },
   {
    "duration": 3,
    "start_time": "2021-06-25T13:37:35.264Z"
   },
   {
    "duration": 17,
    "start_time": "2021-06-25T13:37:35.269Z"
   },
   {
    "duration": 13,
    "start_time": "2021-06-25T13:37:35.288Z"
   },
   {
    "duration": 27,
    "start_time": "2021-06-25T13:37:35.303Z"
   },
   {
    "duration": 11,
    "start_time": "2021-06-25T13:48:08.615Z"
   },
   {
    "duration": 21,
    "start_time": "2021-06-25T13:49:15.468Z"
   },
   {
    "duration": 398,
    "start_time": "2021-06-25T13:49:54.669Z"
   },
   {
    "duration": 350,
    "start_time": "2021-06-25T13:51:06.197Z"
   },
   {
    "duration": 8,
    "start_time": "2021-06-25T13:51:43.205Z"
   },
   {
    "duration": 326,
    "start_time": "2021-06-25T13:51:59.623Z"
   },
   {
    "duration": 31,
    "start_time": "2021-06-25T13:52:20.548Z"
   },
   {
    "duration": 22,
    "start_time": "2021-06-25T13:52:33.832Z"
   },
   {
    "duration": 47,
    "start_time": "2021-06-25T13:56:35.362Z"
   },
   {
    "duration": 15,
    "start_time": "2021-06-25T14:12:40.017Z"
   },
   {
    "duration": 22,
    "start_time": "2021-06-25T14:13:01.403Z"
   },
   {
    "duration": 17,
    "start_time": "2021-06-25T14:14:33.120Z"
   },
   {
    "duration": 23,
    "start_time": "2021-06-25T14:14:40.899Z"
   },
   {
    "duration": 16,
    "start_time": "2021-06-25T14:15:38.822Z"
   },
   {
    "duration": 23,
    "start_time": "2021-06-25T14:15:47.762Z"
   },
   {
    "duration": 16,
    "start_time": "2021-06-25T14:17:09.931Z"
   },
   {
    "duration": 33,
    "start_time": "2021-06-25T14:17:14.806Z"
   },
   {
    "duration": 19,
    "start_time": "2021-06-25T14:18:19.127Z"
   },
   {
    "duration": 24,
    "start_time": "2021-06-25T14:18:24.827Z"
   },
   {
    "duration": 16,
    "start_time": "2021-06-25T14:19:36.543Z"
   },
   {
    "duration": 22,
    "start_time": "2021-06-25T14:19:44.564Z"
   },
   {
    "duration": 15,
    "start_time": "2021-06-25T14:20:48.177Z"
   },
   {
    "duration": 24,
    "start_time": "2021-06-25T14:20:56.236Z"
   },
   {
    "duration": 14,
    "start_time": "2021-06-25T14:22:03.271Z"
   },
   {
    "duration": 22,
    "start_time": "2021-06-25T14:22:11.855Z"
   },
   {
    "duration": 16,
    "start_time": "2021-06-25T14:25:48.150Z"
   },
   {
    "duration": 46,
    "start_time": "2021-06-25T14:27:12.322Z"
   },
   {
    "duration": 22,
    "start_time": "2021-06-25T14:27:23.399Z"
   },
   {
    "duration": 23,
    "start_time": "2021-06-25T14:27:41.662Z"
   },
   {
    "duration": 14,
    "start_time": "2021-06-25T14:28:18.464Z"
   },
   {
    "duration": 22,
    "start_time": "2021-06-25T14:28:24.314Z"
   },
   {
    "duration": 22,
    "start_time": "2021-06-25T14:28:25.942Z"
   },
   {
    "duration": 17,
    "start_time": "2021-06-25T14:29:19.815Z"
   },
   {
    "duration": 22,
    "start_time": "2021-06-25T14:29:23.660Z"
   },
   {
    "duration": 14,
    "start_time": "2021-06-25T14:30:53.351Z"
   },
   {
    "duration": 27,
    "start_time": "2021-06-25T14:30:57.891Z"
   },
   {
    "duration": 16,
    "start_time": "2021-06-25T14:35:23.347Z"
   },
   {
    "duration": 21,
    "start_time": "2021-06-25T14:35:27.791Z"
   },
   {
    "duration": 22,
    "start_time": "2021-06-25T14:37:49.065Z"
   },
   {
    "duration": 21,
    "start_time": "2021-06-25T14:37:55.926Z"
   },
   {
    "duration": 24,
    "start_time": "2021-06-25T14:38:46.317Z"
   },
   {
    "duration": 9,
    "start_time": "2021-06-25T14:39:32.945Z"
   },
   {
    "duration": 36,
    "start_time": "2021-06-25T14:40:14.629Z"
   },
   {
    "duration": 39,
    "start_time": "2021-06-25T15:08:15.709Z"
   },
   {
    "duration": 25,
    "start_time": "2021-06-25T16:15:06.903Z"
   },
   {
    "duration": 21,
    "start_time": "2021-06-25T16:15:10.327Z"
   },
   {
    "duration": 30,
    "start_time": "2021-06-25T16:20:41.197Z"
   },
   {
    "duration": 30,
    "start_time": "2021-06-25T16:21:18.880Z"
   },
   {
    "duration": 27,
    "start_time": "2021-06-25T16:21:30.297Z"
   },
   {
    "duration": 33,
    "start_time": "2021-06-25T16:22:47.792Z"
   },
   {
    "duration": 374,
    "start_time": "2021-06-25T16:23:10.849Z"
   },
   {
    "duration": 8,
    "start_time": "2021-06-25T16:23:51.709Z"
   },
   {
    "duration": 365,
    "start_time": "2021-06-25T17:14:31.300Z"
   },
   {
    "duration": 11,
    "start_time": "2021-06-25T17:15:03.753Z"
   },
   {
    "duration": 37,
    "start_time": "2021-06-25T17:15:12.100Z"
   },
   {
    "duration": 11,
    "start_time": "2021-06-25T17:15:35.044Z"
   },
   {
    "duration": 9,
    "start_time": "2021-06-25T17:15:51.020Z"
   },
   {
    "duration": 11,
    "start_time": "2021-06-25T17:15:58.377Z"
   },
   {
    "duration": 37,
    "start_time": "2021-06-25T17:16:08.362Z"
   },
   {
    "duration": 10,
    "start_time": "2021-06-25T17:18:02.563Z"
   },
   {
    "duration": 8,
    "start_time": "2021-06-25T17:18:19.002Z"
   },
   {
    "duration": 31,
    "start_time": "2021-06-25T17:19:57.256Z"
   },
   {
    "duration": 17,
    "start_time": "2021-06-25T17:20:29.496Z"
   },
   {
    "duration": 31,
    "start_time": "2021-06-25T17:20:37.515Z"
   },
   {
    "duration": -95,
    "start_time": "2021-06-25T17:21:03.462Z"
   },
   {
    "duration": -110,
    "start_time": "2021-06-25T17:21:23.036Z"
   },
   {
    "duration": 31,
    "start_time": "2021-06-25T17:21:26.649Z"
   },
   {
    "duration": 8501,
    "start_time": "2021-06-25T17:21:49.618Z"
   },
   {
    "duration": 9355,
    "start_time": "2021-06-25T17:22:06.296Z"
   },
   {
    "duration": 8965,
    "start_time": "2021-06-25T17:23:06.464Z"
   },
   {
    "duration": 9249,
    "start_time": "2021-06-25T17:24:05.708Z"
   },
   {
    "duration": 19,
    "start_time": "2021-06-25T17:26:01.456Z"
   },
   {
    "duration": 8528,
    "start_time": "2021-06-25T17:26:37.517Z"
   },
   {
    "duration": 20,
    "start_time": "2021-06-25T17:31:31.659Z"
   },
   {
    "duration": 21,
    "start_time": "2021-06-25T17:39:35.965Z"
   },
   {
    "duration": 20,
    "start_time": "2021-06-25T17:39:55.933Z"
   },
   {
    "duration": 6983,
    "start_time": "2021-06-25T17:40:16.497Z"
   },
   {
    "duration": 8644,
    "start_time": "2021-06-25T17:40:42.188Z"
   },
   {
    "duration": 12926,
    "start_time": "2021-06-25T17:41:18.293Z"
   },
   {
    "duration": 20,
    "start_time": "2021-06-25T17:41:53.095Z"
   },
   {
    "duration": 408,
    "start_time": "2021-06-25T17:46:54.699Z"
   },
   {
    "duration": 6,
    "start_time": "2021-06-25T17:59:45.819Z"
   },
   {
    "duration": 6,
    "start_time": "2021-06-25T18:00:02.349Z"
   },
   {
    "duration": 13,
    "start_time": "2021-06-25T18:00:17.911Z"
   },
   {
    "duration": 48,
    "start_time": "2021-06-25T18:02:33.701Z"
   },
   {
    "duration": 69,
    "start_time": "2021-06-25T18:03:29.866Z"
   },
   {
    "duration": 68,
    "start_time": "2021-06-25T18:31:47.697Z"
   },
   {
    "duration": 70,
    "start_time": "2021-06-25T18:32:09.449Z"
   },
   {
    "duration": 36,
    "start_time": "2021-06-25T18:32:46.085Z"
   },
   {
    "duration": 69,
    "start_time": "2021-06-25T18:32:54.611Z"
   },
   {
    "duration": 368,
    "start_time": "2021-06-25T18:36:50.513Z"
   },
   {
    "duration": 77,
    "start_time": "2021-06-25T18:37:16.722Z"
   },
   {
    "duration": 338,
    "start_time": "2021-06-25T18:38:33.825Z"
   },
   {
    "duration": 341,
    "start_time": "2021-06-25T18:38:46.614Z"
   },
   {
    "duration": 105,
    "start_time": "2021-06-25T18:39:06.266Z"
   },
   {
    "duration": 300,
    "start_time": "2021-06-25T18:39:12.769Z"
   },
   {
    "duration": 64,
    "start_time": "2021-06-25T18:39:21.306Z"
   },
   {
    "duration": 17,
    "start_time": "2021-06-25T18:39:59.644Z"
   },
   {
    "duration": 16,
    "start_time": "2021-06-25T18:40:52.674Z"
   },
   {
    "duration": 18,
    "start_time": "2021-06-25T18:41:04.236Z"
   },
   {
    "duration": 13,
    "start_time": "2021-06-25T18:41:11.697Z"
   },
   {
    "duration": 14,
    "start_time": "2021-06-25T18:41:28.657Z"
   },
   {
    "duration": 421,
    "start_time": "2021-06-25T18:42:04.759Z"
   },
   {
    "duration": 371,
    "start_time": "2021-06-25T18:42:18.904Z"
   },
   {
    "duration": 12,
    "start_time": "2021-06-25T18:42:27.883Z"
   },
   {
    "duration": 368,
    "start_time": "2021-06-25T18:43:01.691Z"
   },
   {
    "duration": 13,
    "start_time": "2021-06-25T18:43:07.332Z"
   },
   {
    "duration": 110,
    "start_time": "2021-06-25T18:53:28.722Z"
   },
   {
    "duration": 34,
    "start_time": "2021-06-25T18:59:55.248Z"
   },
   {
    "duration": 36,
    "start_time": "2021-06-25T19:00:10.600Z"
   },
   {
    "duration": 124,
    "start_time": "2021-06-25T19:00:37.932Z"
   },
   {
    "duration": 31,
    "start_time": "2021-06-25T19:00:47.338Z"
   },
   {
    "duration": 36,
    "start_time": "2021-06-25T19:01:02.711Z"
   },
   {
    "duration": 359,
    "start_time": "2021-06-26T11:18:23.198Z"
   },
   {
    "duration": 926,
    "start_time": "2021-06-26T11:18:31.196Z"
   },
   {
    "duration": 65,
    "start_time": "2021-06-26T11:18:32.125Z"
   },
   {
    "duration": 23,
    "start_time": "2021-06-26T11:18:32.193Z"
   },
   {
    "duration": 7,
    "start_time": "2021-06-26T11:18:32.218Z"
   },
   {
    "duration": 61,
    "start_time": "2021-06-26T11:18:32.227Z"
   },
   {
    "duration": 14,
    "start_time": "2021-06-26T11:18:32.290Z"
   },
   {
    "duration": 15,
    "start_time": "2021-06-26T11:18:32.307Z"
   },
   {
    "duration": 14,
    "start_time": "2021-06-26T11:18:32.325Z"
   },
   {
    "duration": 16,
    "start_time": "2021-06-26T11:18:32.367Z"
   },
   {
    "duration": 15,
    "start_time": "2021-06-26T11:18:32.385Z"
   },
   {
    "duration": 15,
    "start_time": "2021-06-26T11:18:32.403Z"
   },
   {
    "duration": 48,
    "start_time": "2021-06-26T11:18:32.421Z"
   },
   {
    "duration": 14,
    "start_time": "2021-06-26T11:18:32.472Z"
   },
   {
    "duration": 14,
    "start_time": "2021-06-26T11:18:32.489Z"
   },
   {
    "duration": 18,
    "start_time": "2021-06-26T11:18:32.505Z"
   },
   {
    "duration": 42,
    "start_time": "2021-06-26T11:18:32.525Z"
   },
   {
    "duration": 15,
    "start_time": "2021-06-26T11:18:32.570Z"
   },
   {
    "duration": 15,
    "start_time": "2021-06-26T11:18:32.588Z"
   },
   {
    "duration": 12,
    "start_time": "2021-06-26T11:18:32.606Z"
   },
   {
    "duration": 49,
    "start_time": "2021-06-26T11:18:32.620Z"
   },
   {
    "duration": 42,
    "start_time": "2021-06-26T11:18:32.671Z"
   },
   {
    "duration": 15,
    "start_time": "2021-06-26T11:18:32.715Z"
   },
   {
    "duration": 37,
    "start_time": "2021-06-26T11:18:32.734Z"
   },
   {
    "duration": 15,
    "start_time": "2021-06-26T11:18:32.774Z"
   },
   {
    "duration": 14,
    "start_time": "2021-06-26T11:18:32.792Z"
   },
   {
    "duration": 13,
    "start_time": "2021-06-26T11:18:32.808Z"
   },
   {
    "duration": 48,
    "start_time": "2021-06-26T11:18:32.823Z"
   },
   {
    "duration": 13,
    "start_time": "2021-06-26T11:18:32.873Z"
   },
   {
    "duration": 18,
    "start_time": "2021-06-26T11:18:32.888Z"
   },
   {
    "duration": 14,
    "start_time": "2021-06-26T11:18:32.908Z"
   },
   {
    "duration": 42,
    "start_time": "2021-06-26T11:18:32.924Z"
   },
   {
    "duration": 14,
    "start_time": "2021-06-26T11:18:32.969Z"
   },
   {
    "duration": 15,
    "start_time": "2021-06-26T11:18:32.985Z"
   },
   {
    "duration": 16,
    "start_time": "2021-06-26T11:18:33.003Z"
   },
   {
    "duration": 15,
    "start_time": "2021-06-26T11:18:33.021Z"
   },
   {
    "duration": 3,
    "start_time": "2021-06-26T11:18:33.067Z"
   },
   {
    "duration": 31,
    "start_time": "2021-06-26T11:18:33.072Z"
   },
   {
    "duration": 341,
    "start_time": "2021-06-26T11:18:33.105Z"
   },
   {
    "duration": -1249,
    "start_time": "2021-06-26T11:18:34.698Z"
   },
   {
    "duration": -1250,
    "start_time": "2021-06-26T11:18:34.700Z"
   },
   {
    "duration": -1251,
    "start_time": "2021-06-26T11:18:34.702Z"
   },
   {
    "duration": -1253,
    "start_time": "2021-06-26T11:18:34.706Z"
   },
   {
    "duration": -1256,
    "start_time": "2021-06-26T11:18:34.710Z"
   },
   {
    "duration": -1259,
    "start_time": "2021-06-26T11:18:34.714Z"
   },
   {
    "duration": -1261,
    "start_time": "2021-06-26T11:18:34.717Z"
   },
   {
    "duration": 318,
    "start_time": "2021-06-26T11:18:37.731Z"
   },
   {
    "duration": 26,
    "start_time": "2021-06-26T11:20:19.118Z"
   },
   {
    "duration": 16,
    "start_time": "2021-06-26T11:20:31.401Z"
   },
   {
    "duration": 23,
    "start_time": "2021-06-26T11:20:33.839Z"
   },
   {
    "duration": 11,
    "start_time": "2021-06-26T11:20:41.825Z"
   },
   {
    "duration": 37,
    "start_time": "2021-06-26T11:20:57.247Z"
   },
   {
    "duration": 12,
    "start_time": "2021-06-26T11:21:58.664Z"
   },
   {
    "duration": 11,
    "start_time": "2021-06-26T11:22:26.674Z"
   },
   {
    "duration": 39,
    "start_time": "2021-06-26T11:22:32.739Z"
   },
   {
    "duration": 329,
    "start_time": "2021-06-26T11:29:33.375Z"
   },
   {
    "duration": 9,
    "start_time": "2021-06-26T11:29:45.838Z"
   },
   {
    "duration": 43,
    "start_time": "2021-06-26T11:29:54.529Z"
   },
   {
    "duration": 50,
    "start_time": "2021-06-26T11:30:12.482Z"
   },
   {
    "duration": 5,
    "start_time": "2021-06-26T11:30:40.175Z"
   },
   {
    "duration": 49,
    "start_time": "2021-06-26T11:30:41.376Z"
   },
   {
    "duration": 6,
    "start_time": "2021-06-26T11:35:07.830Z"
   },
   {
    "duration": 44,
    "start_time": "2021-06-26T11:35:16.677Z"
   },
   {
    "duration": 5,
    "start_time": "2021-06-26T11:35:39.155Z"
   },
   {
    "duration": 43,
    "start_time": "2021-06-26T11:35:41.632Z"
   },
   {
    "duration": 32,
    "start_time": "2021-06-26T11:36:45.803Z"
   },
   {
    "duration": 44,
    "start_time": "2021-06-26T11:36:48.436Z"
   },
   {
    "duration": 43,
    "start_time": "2021-06-26T12:13:46.131Z"
   },
   {
    "duration": 43,
    "start_time": "2021-06-26T12:32:03.332Z"
   },
   {
    "duration": 139,
    "start_time": "2021-06-26T12:32:52.590Z"
   },
   {
    "duration": 68,
    "start_time": "2021-06-26T12:32:52.731Z"
   },
   {
    "duration": 23,
    "start_time": "2021-06-26T12:32:52.802Z"
   },
   {
    "duration": 41,
    "start_time": "2021-06-26T12:32:52.828Z"
   },
   {
    "duration": 39,
    "start_time": "2021-06-26T12:32:52.872Z"
   },
   {
    "duration": 62,
    "start_time": "2021-06-26T12:32:52.914Z"
   },
   {
    "duration": 19,
    "start_time": "2021-06-26T12:32:52.978Z"
   },
   {
    "duration": 15,
    "start_time": "2021-06-26T12:32:53.002Z"
   },
   {
    "duration": 16,
    "start_time": "2021-06-26T12:32:53.020Z"
   },
   {
    "duration": 16,
    "start_time": "2021-06-26T12:32:53.068Z"
   },
   {
    "duration": 17,
    "start_time": "2021-06-26T12:32:53.087Z"
   },
   {
    "duration": 17,
    "start_time": "2021-06-26T12:32:53.107Z"
   },
   {
    "duration": 49,
    "start_time": "2021-06-26T12:32:53.126Z"
   },
   {
    "duration": 18,
    "start_time": "2021-06-26T12:32:53.178Z"
   },
   {
    "duration": 15,
    "start_time": "2021-06-26T12:32:53.199Z"
   },
   {
    "duration": 15,
    "start_time": "2021-06-26T12:32:53.216Z"
   },
   {
    "duration": 47,
    "start_time": "2021-06-26T12:32:53.233Z"
   },
   {
    "duration": 14,
    "start_time": "2021-06-26T12:32:53.283Z"
   },
   {
    "duration": 12,
    "start_time": "2021-06-26T12:32:53.299Z"
   },
   {
    "duration": 16,
    "start_time": "2021-06-26T12:32:53.313Z"
   },
   {
    "duration": 72,
    "start_time": "2021-06-26T12:32:53.331Z"
   },
   {
    "duration": 14,
    "start_time": "2021-06-26T12:32:53.406Z"
   },
   {
    "duration": 41,
    "start_time": "2021-06-26T12:32:53.426Z"
   },
   {
    "duration": 16,
    "start_time": "2021-06-26T12:32:53.470Z"
   },
   {
    "duration": 15,
    "start_time": "2021-06-26T12:32:53.488Z"
   },
   {
    "duration": 14,
    "start_time": "2021-06-26T12:32:53.506Z"
   },
   {
    "duration": 45,
    "start_time": "2021-06-26T12:32:53.522Z"
   },
   {
    "duration": 15,
    "start_time": "2021-06-26T12:32:53.569Z"
   },
   {
    "duration": 21,
    "start_time": "2021-06-26T12:32:53.586Z"
   },
   {
    "duration": 14,
    "start_time": "2021-06-26T12:32:53.610Z"
   },
   {
    "duration": 24,
    "start_time": "2021-06-26T12:32:53.626Z"
   },
   {
    "duration": 14,
    "start_time": "2021-06-26T12:32:53.667Z"
   },
   {
    "duration": 15,
    "start_time": "2021-06-26T12:32:53.684Z"
   },
   {
    "duration": 18,
    "start_time": "2021-06-26T12:32:53.701Z"
   },
   {
    "duration": 19,
    "start_time": "2021-06-26T12:32:53.722Z"
   },
   {
    "duration": 26,
    "start_time": "2021-06-26T12:32:53.743Z"
   },
   {
    "duration": 27,
    "start_time": "2021-06-26T12:32:53.772Z"
   },
   {
    "duration": 381,
    "start_time": "2021-06-26T12:32:53.801Z"
   },
   {
    "duration": -763,
    "start_time": "2021-06-26T12:32:54.947Z"
   },
   {
    "duration": -763,
    "start_time": "2021-06-26T12:32:54.949Z"
   },
   {
    "duration": -763,
    "start_time": "2021-06-26T12:32:54.950Z"
   },
   {
    "duration": -763,
    "start_time": "2021-06-26T12:32:54.952Z"
   },
   {
    "duration": -776,
    "start_time": "2021-06-26T12:32:54.966Z"
   },
   {
    "duration": -777,
    "start_time": "2021-06-26T12:32:54.969Z"
   },
   {
    "duration": -777,
    "start_time": "2021-06-26T12:32:54.970Z"
   },
   {
    "duration": -827,
    "start_time": "2021-06-26T12:32:55.022Z"
   },
   {
    "duration": -830,
    "start_time": "2021-06-26T12:32:55.027Z"
   },
   {
    "duration": -833,
    "start_time": "2021-06-26T12:32:55.031Z"
   },
   {
    "duration": -834,
    "start_time": "2021-06-26T12:32:55.034Z"
   },
   {
    "duration": -834,
    "start_time": "2021-06-26T12:32:55.035Z"
   },
   {
    "duration": -834,
    "start_time": "2021-06-26T12:32:55.037Z"
   },
   {
    "duration": -846,
    "start_time": "2021-06-26T12:32:55.050Z"
   },
   {
    "duration": -849,
    "start_time": "2021-06-26T12:32:55.055Z"
   },
   {
    "duration": -861,
    "start_time": "2021-06-26T12:32:55.068Z"
   },
   {
    "duration": -868,
    "start_time": "2021-06-26T12:32:55.076Z"
   },
   {
    "duration": 407,
    "start_time": "2021-06-26T12:33:00.594Z"
   },
   {
    "duration": 353,
    "start_time": "2021-06-26T12:33:05.023Z"
   },
   {
    "duration": 296,
    "start_time": "2021-06-26T12:33:29.127Z"
   },
   {
    "duration": 308,
    "start_time": "2021-06-26T12:33:31.741Z"
   },
   {
    "duration": 321,
    "start_time": "2021-06-26T12:33:34.120Z"
   },
   {
    "duration": 135,
    "start_time": "2021-06-26T12:34:12.407Z"
   },
   {
    "duration": 64,
    "start_time": "2021-06-26T12:34:12.544Z"
   },
   {
    "duration": 55,
    "start_time": "2021-06-26T12:34:12.611Z"
   },
   {
    "duration": 7,
    "start_time": "2021-06-26T12:34:12.669Z"
   },
   {
    "duration": 104,
    "start_time": "2021-06-26T12:34:12.678Z"
   },
   {
    "duration": 14,
    "start_time": "2021-06-26T12:34:12.785Z"
   },
   {
    "duration": 16,
    "start_time": "2021-06-26T12:34:12.802Z"
   },
   {
    "duration": 15,
    "start_time": "2021-06-26T12:34:12.822Z"
   },
   {
    "duration": 43,
    "start_time": "2021-06-26T12:34:12.840Z"
   },
   {
    "duration": 16,
    "start_time": "2021-06-26T12:34:12.885Z"
   },
   {
    "duration": 17,
    "start_time": "2021-06-26T12:34:12.903Z"
   },
   {
    "duration": 15,
    "start_time": "2021-06-26T12:34:12.922Z"
   },
   {
    "duration": 38,
    "start_time": "2021-06-26T12:34:12.940Z"
   },
   {
    "duration": 14,
    "start_time": "2021-06-26T12:34:12.981Z"
   },
   {
    "duration": 15,
    "start_time": "2021-06-26T12:34:12.997Z"
   },
   {
    "duration": 15,
    "start_time": "2021-06-26T12:34:13.015Z"
   },
   {
    "duration": 43,
    "start_time": "2021-06-26T12:34:13.032Z"
   },
   {
    "duration": 15,
    "start_time": "2021-06-26T12:34:13.077Z"
   },
   {
    "duration": 13,
    "start_time": "2021-06-26T12:34:13.095Z"
   },
   {
    "duration": 18,
    "start_time": "2021-06-26T12:34:13.110Z"
   },
   {
    "duration": 79,
    "start_time": "2021-06-26T12:34:13.130Z"
   },
   {
    "duration": 15,
    "start_time": "2021-06-26T12:34:13.212Z"
   },
   {
    "duration": 41,
    "start_time": "2021-06-26T12:34:13.232Z"
   },
   {
    "duration": 15,
    "start_time": "2021-06-26T12:34:13.276Z"
   },
   {
    "duration": 13,
    "start_time": "2021-06-26T12:34:13.294Z"
   },
   {
    "duration": 16,
    "start_time": "2021-06-26T12:34:13.309Z"
   },
   {
    "duration": 43,
    "start_time": "2021-06-26T12:34:13.327Z"
   },
   {
    "duration": 16,
    "start_time": "2021-06-26T12:34:13.372Z"
   },
   {
    "duration": 18,
    "start_time": "2021-06-26T12:34:13.390Z"
   },
   {
    "duration": 15,
    "start_time": "2021-06-26T12:34:13.410Z"
   },
   {
    "duration": 43,
    "start_time": "2021-06-26T12:34:13.427Z"
   },
   {
    "duration": 14,
    "start_time": "2021-06-26T12:34:13.473Z"
   },
   {
    "duration": 20,
    "start_time": "2021-06-26T12:34:13.489Z"
   },
   {
    "duration": 18,
    "start_time": "2021-06-26T12:34:13.512Z"
   },
   {
    "duration": 37,
    "start_time": "2021-06-26T12:34:13.532Z"
   },
   {
    "duration": 3,
    "start_time": "2021-06-26T12:34:13.571Z"
   },
   {
    "duration": 26,
    "start_time": "2021-06-26T12:34:13.576Z"
   },
   {
    "duration": 330,
    "start_time": "2021-06-26T12:34:13.604Z"
   },
   {
    "duration": -691,
    "start_time": "2021-06-26T12:34:14.627Z"
   },
   {
    "duration": -695,
    "start_time": "2021-06-26T12:34:14.632Z"
   },
   {
    "duration": -700,
    "start_time": "2021-06-26T12:34:14.639Z"
   },
   {
    "duration": -703,
    "start_time": "2021-06-26T12:34:14.643Z"
   },
   {
    "duration": -719,
    "start_time": "2021-06-26T12:34:14.661Z"
   },
   {
    "duration": -723,
    "start_time": "2021-06-26T12:34:14.666Z"
   },
   {
    "duration": -726,
    "start_time": "2021-06-26T12:34:14.670Z"
   },
   {
    "duration": -737,
    "start_time": "2021-06-26T12:34:14.682Z"
   },
   {
    "duration": -742,
    "start_time": "2021-06-26T12:34:14.689Z"
   },
   {
    "duration": -743,
    "start_time": "2021-06-26T12:34:14.691Z"
   },
   {
    "duration": -745,
    "start_time": "2021-06-26T12:34:14.694Z"
   },
   {
    "duration": -757,
    "start_time": "2021-06-26T12:34:14.707Z"
   },
   {
    "duration": 314,
    "start_time": "2021-06-26T12:34:17.449Z"
   },
   {
    "duration": 34,
    "start_time": "2021-06-26T12:35:09.433Z"
   },
   {
    "duration": 342,
    "start_time": "2021-06-26T12:35:32.164Z"
   },
   {
    "duration": 322,
    "start_time": "2021-06-26T12:35:48.235Z"
   },
   {
    "duration": 353,
    "start_time": "2021-06-26T12:35:49.544Z"
   },
   {
    "duration": 150,
    "start_time": "2021-06-26T12:36:07.519Z"
   },
   {
    "duration": 48,
    "start_time": "2021-06-26T12:36:07.671Z"
   },
   {
    "duration": 52,
    "start_time": "2021-06-26T12:36:07.721Z"
   },
   {
    "duration": 7,
    "start_time": "2021-06-26T12:36:07.775Z"
   },
   {
    "duration": 39,
    "start_time": "2021-06-26T12:36:07.785Z"
   },
   {
    "duration": 51,
    "start_time": "2021-06-26T12:36:07.826Z"
   },
   {
    "duration": 26,
    "start_time": "2021-06-26T12:36:07.880Z"
   },
   {
    "duration": 18,
    "start_time": "2021-06-26T12:36:07.909Z"
   },
   {
    "duration": 27,
    "start_time": "2021-06-26T12:36:07.930Z"
   },
   {
    "duration": 32,
    "start_time": "2021-06-26T12:36:07.959Z"
   },
   {
    "duration": 28,
    "start_time": "2021-06-26T12:36:07.993Z"
   },
   {
    "duration": 16,
    "start_time": "2021-06-26T12:36:08.023Z"
   },
   {
    "duration": 25,
    "start_time": "2021-06-26T12:36:08.041Z"
   },
   {
    "duration": 28,
    "start_time": "2021-06-26T12:36:08.068Z"
   },
   {
    "duration": 19,
    "start_time": "2021-06-26T12:36:08.099Z"
   },
   {
    "duration": 26,
    "start_time": "2021-06-26T12:36:08.120Z"
   },
   {
    "duration": 21,
    "start_time": "2021-06-26T12:36:08.149Z"
   },
   {
    "duration": 22,
    "start_time": "2021-06-26T12:36:08.172Z"
   },
   {
    "duration": 17,
    "start_time": "2021-06-26T12:36:08.196Z"
   },
   {
    "duration": 20,
    "start_time": "2021-06-26T12:36:08.215Z"
   },
   {
    "duration": 60,
    "start_time": "2021-06-26T12:36:08.237Z"
   },
   {
    "duration": 14,
    "start_time": "2021-06-26T12:36:08.300Z"
   },
   {
    "duration": 23,
    "start_time": "2021-06-26T12:36:08.319Z"
   },
   {
    "duration": 30,
    "start_time": "2021-06-26T12:36:08.345Z"
   },
   {
    "duration": 21,
    "start_time": "2021-06-26T12:36:08.377Z"
   },
   {
    "duration": 17,
    "start_time": "2021-06-26T12:36:08.400Z"
   },
   {
    "duration": 16,
    "start_time": "2021-06-26T12:36:08.420Z"
   },
   {
    "duration": 36,
    "start_time": "2021-06-26T12:36:08.438Z"
   },
   {
    "duration": 33,
    "start_time": "2021-06-26T12:36:08.476Z"
   },
   {
    "duration": 28,
    "start_time": "2021-06-26T12:36:08.511Z"
   },
   {
    "duration": 33,
    "start_time": "2021-06-26T12:36:08.541Z"
   },
   {
    "duration": 26,
    "start_time": "2021-06-26T12:36:08.576Z"
   },
   {
    "duration": 29,
    "start_time": "2021-06-26T12:36:08.604Z"
   },
   {
    "duration": 28,
    "start_time": "2021-06-26T12:36:08.635Z"
   },
   {
    "duration": 34,
    "start_time": "2021-06-26T12:36:08.665Z"
   },
   {
    "duration": 18,
    "start_time": "2021-06-26T12:36:08.702Z"
   },
   {
    "duration": 34,
    "start_time": "2021-06-26T12:36:08.722Z"
   },
   {
    "duration": 346,
    "start_time": "2021-06-26T12:36:08.758Z"
   },
   {
    "duration": -1045,
    "start_time": "2021-06-26T12:36:10.151Z"
   },
   {
    "duration": -1091,
    "start_time": "2021-06-26T12:36:10.198Z"
   },
   {
    "duration": -1093,
    "start_time": "2021-06-26T12:36:10.202Z"
   },
   {
    "duration": -1095,
    "start_time": "2021-06-26T12:36:10.205Z"
   },
   {
    "duration": -1096,
    "start_time": "2021-06-26T12:36:10.207Z"
   },
   {
    "duration": -1106,
    "start_time": "2021-06-26T12:36:10.218Z"
   },
   {
    "duration": -1109,
    "start_time": "2021-06-26T12:36:10.222Z"
   },
   {
    "duration": -1110,
    "start_time": "2021-06-26T12:36:10.224Z"
   },
   {
    "duration": -1110,
    "start_time": "2021-06-26T12:36:10.226Z"
   },
   {
    "duration": -1111,
    "start_time": "2021-06-26T12:36:10.228Z"
   },
   {
    "duration": -1112,
    "start_time": "2021-06-26T12:36:10.230Z"
   },
   {
    "duration": -1112,
    "start_time": "2021-06-26T12:36:10.231Z"
   },
   {
    "duration": -1125,
    "start_time": "2021-06-26T12:36:10.246Z"
   },
   {
    "duration": -1126,
    "start_time": "2021-06-26T12:36:10.248Z"
   },
   {
    "duration": -1128,
    "start_time": "2021-06-26T12:36:10.251Z"
   },
   {
    "duration": -1129,
    "start_time": "2021-06-26T12:36:10.253Z"
   },
   {
    "duration": -1130,
    "start_time": "2021-06-26T12:36:10.255Z"
   },
   {
    "duration": -1200,
    "start_time": "2021-06-26T12:36:10.327Z"
   },
   {
    "duration": 316,
    "start_time": "2021-06-26T12:39:17.506Z"
   },
   {
    "duration": 17,
    "start_time": "2021-06-26T12:39:25.379Z"
   },
   {
    "duration": 12,
    "start_time": "2021-06-26T12:39:27.226Z"
   },
   {
    "duration": 13,
    "start_time": "2021-06-26T12:39:28.811Z"
   },
   {
    "duration": 13,
    "start_time": "2021-06-26T12:39:30.075Z"
   },
   {
    "duration": 5,
    "start_time": "2021-06-26T12:39:31.426Z"
   },
   {
    "duration": 5,
    "start_time": "2021-06-26T12:39:33.340Z"
   },
   {
    "duration": 29,
    "start_time": "2021-06-26T12:39:34.323Z"
   },
   {
    "duration": 316,
    "start_time": "2021-06-26T12:39:36.539Z"
   },
   {
    "duration": 293,
    "start_time": "2021-06-26T12:39:40.604Z"
   },
   {
    "duration": 385,
    "start_time": "2021-06-26T12:39:47.909Z"
   },
   {
    "duration": 331,
    "start_time": "2021-06-26T12:39:53.443Z"
   },
   {
    "duration": 395,
    "start_time": "2021-06-26T12:40:10.157Z"
   },
   {
    "duration": 1258,
    "start_time": "2021-06-26T12:41:28.960Z"
   },
   {
    "duration": 365,
    "start_time": "2021-06-26T12:42:01.428Z"
   },
   {
    "duration": 41,
    "start_time": "2021-06-26T14:03:31.518Z"
   },
   {
    "duration": 317,
    "start_time": "2021-06-26T14:04:34.763Z"
   },
   {
    "duration": 3,
    "start_time": "2021-06-26T14:04:47.464Z"
   },
   {
    "duration": 888,
    "start_time": "2021-06-26T17:40:23.828Z"
   },
   {
    "duration": 44,
    "start_time": "2021-06-26T17:40:24.719Z"
   },
   {
    "duration": 62,
    "start_time": "2021-06-26T17:40:24.767Z"
   },
   {
    "duration": 24,
    "start_time": "2021-06-26T17:40:24.832Z"
   },
   {
    "duration": 8,
    "start_time": "2021-06-26T17:40:24.883Z"
   },
   {
    "duration": 26,
    "start_time": "2021-06-26T17:40:24.894Z"
   },
   {
    "duration": 16,
    "start_time": "2021-06-26T17:40:24.922Z"
   },
   {
    "duration": 15,
    "start_time": "2021-06-26T17:40:24.942Z"
   },
   {
    "duration": 14,
    "start_time": "2021-06-26T17:40:24.985Z"
   },
   {
    "duration": 27,
    "start_time": "2021-06-26T17:40:25.001Z"
   },
   {
    "duration": 17,
    "start_time": "2021-06-26T17:40:25.031Z"
   },
   {
    "duration": 36,
    "start_time": "2021-06-26T17:40:25.050Z"
   },
   {
    "duration": 14,
    "start_time": "2021-06-26T17:40:25.089Z"
   },
   {
    "duration": 16,
    "start_time": "2021-06-26T17:40:25.106Z"
   },
   {
    "duration": 19,
    "start_time": "2021-06-26T17:40:25.124Z"
   },
   {
    "duration": 28,
    "start_time": "2021-06-26T17:40:25.185Z"
   },
   {
    "duration": 26,
    "start_time": "2021-06-26T17:40:25.217Z"
   },
   {
    "duration": 38,
    "start_time": "2021-06-26T17:40:25.245Z"
   },
   {
    "duration": 13,
    "start_time": "2021-06-26T17:40:25.286Z"
   },
   {
    "duration": 16,
    "start_time": "2021-06-26T17:40:25.301Z"
   },
   {
    "duration": 65,
    "start_time": "2021-06-26T17:40:25.320Z"
   },
   {
    "duration": 15,
    "start_time": "2021-06-26T17:40:25.388Z"
   },
   {
    "duration": 16,
    "start_time": "2021-06-26T17:40:25.408Z"
   },
   {
    "duration": 15,
    "start_time": "2021-06-26T17:40:25.427Z"
   },
   {
    "duration": 48,
    "start_time": "2021-06-26T17:40:25.445Z"
   },
   {
    "duration": 14,
    "start_time": "2021-06-26T17:40:25.495Z"
   },
   {
    "duration": 15,
    "start_time": "2021-06-26T17:40:25.512Z"
   },
   {
    "duration": 63,
    "start_time": "2021-06-26T17:40:25.530Z"
   },
   {
    "duration": 19,
    "start_time": "2021-06-26T17:40:25.595Z"
   },
   {
    "duration": 15,
    "start_time": "2021-06-26T17:40:26.488Z"
   },
   {
    "duration": 17,
    "start_time": "2021-06-26T17:40:26.505Z"
   },
   {
    "duration": 13,
    "start_time": "2021-06-26T17:40:26.525Z"
   },
   {
    "duration": 51,
    "start_time": "2021-06-26T17:40:26.541Z"
   },
   {
    "duration": 15,
    "start_time": "2021-06-26T17:40:26.595Z"
   },
   {
    "duration": 20,
    "start_time": "2021-06-26T17:40:26.612Z"
   },
   {
    "duration": 7,
    "start_time": "2021-06-26T17:40:26.634Z"
   },
   {
    "duration": 59,
    "start_time": "2021-06-26T17:40:26.643Z"
   },
   {
    "duration": 375,
    "start_time": "2021-06-26T17:40:26.706Z"
   },
   {
    "duration": -1261,
    "start_time": "2021-06-26T17:40:28.345Z"
   },
   {
    "duration": -1328,
    "start_time": "2021-06-26T17:40:28.414Z"
   },
   {
    "duration": -1356,
    "start_time": "2021-06-26T17:40:28.443Z"
   },
   {
    "duration": -1359,
    "start_time": "2021-06-26T17:40:28.448Z"
   },
   {
    "duration": -1362,
    "start_time": "2021-06-26T17:40:28.452Z"
   },
   {
    "duration": -1364,
    "start_time": "2021-06-26T17:40:28.455Z"
   },
   {
    "duration": -1365,
    "start_time": "2021-06-26T17:40:28.458Z"
   },
   {
    "duration": -1366,
    "start_time": "2021-06-26T17:40:28.461Z"
   },
   {
    "duration": -1368,
    "start_time": "2021-06-26T17:40:28.464Z"
   },
   {
    "duration": -1372,
    "start_time": "2021-06-26T17:40:28.469Z"
   },
   {
    "duration": -1374,
    "start_time": "2021-06-26T17:40:28.473Z"
   },
   {
    "duration": -1377,
    "start_time": "2021-06-26T17:40:28.477Z"
   },
   {
    "duration": -1377,
    "start_time": "2021-06-26T17:40:28.479Z"
   },
   {
    "duration": -1378,
    "start_time": "2021-06-26T17:40:28.481Z"
   },
   {
    "duration": -1379,
    "start_time": "2021-06-26T17:40:28.483Z"
   },
   {
    "duration": -1385,
    "start_time": "2021-06-26T17:40:28.491Z"
   },
   {
    "duration": -1391,
    "start_time": "2021-06-26T17:40:28.498Z"
   },
   {
    "duration": -1396,
    "start_time": "2021-06-26T17:40:28.504Z"
   },
   {
    "duration": 64,
    "start_time": "2021-06-26T17:40:59.158Z"
   },
   {
    "duration": 12,
    "start_time": "2021-06-26T17:41:02.148Z"
   },
   {
    "duration": 16,
    "start_time": "2021-06-26T17:41:05.358Z"
   },
   {
    "duration": 11,
    "start_time": "2021-06-26T17:41:09.421Z"
   },
   {
    "duration": 11,
    "start_time": "2021-06-26T17:41:30.832Z"
   },
   {
    "duration": 11,
    "start_time": "2021-06-26T17:41:32.483Z"
   },
   {
    "duration": 11,
    "start_time": "2021-06-26T17:41:33.336Z"
   },
   {
    "duration": 6,
    "start_time": "2021-06-26T17:41:34.418Z"
   },
   {
    "duration": 29,
    "start_time": "2021-06-26T17:41:36.278Z"
   },
   {
    "duration": 409,
    "start_time": "2021-06-26T17:41:37.231Z"
   },
   {
    "duration": 293,
    "start_time": "2021-06-26T17:41:39.292Z"
   },
   {
    "duration": 277,
    "start_time": "2021-06-26T17:41:41.920Z"
   },
   {
    "duration": 338,
    "start_time": "2021-06-26T17:41:43.799Z"
   },
   {
    "duration": 299,
    "start_time": "2021-06-26T17:41:47.489Z"
   },
   {
    "duration": 305,
    "start_time": "2021-06-26T17:43:53.364Z"
   },
   {
    "duration": 308,
    "start_time": "2021-06-26T17:44:05.498Z"
   },
   {
    "duration": 307,
    "start_time": "2021-06-26T17:44:59.776Z"
   },
   {
    "duration": 323,
    "start_time": "2021-06-26T17:45:11.881Z"
   },
   {
    "duration": 17,
    "start_time": "2021-06-26T17:46:03.860Z"
   },
   {
    "duration": 51,
    "start_time": "2021-06-26T17:46:12.615Z"
   },
   {
    "duration": 46,
    "start_time": "2021-06-26T17:47:12.658Z"
   },
   {
    "duration": 49,
    "start_time": "2021-06-26T17:47:21.648Z"
   },
   {
    "duration": 293,
    "start_time": "2021-06-26T17:48:42.186Z"
   },
   {
    "duration": 323,
    "start_time": "2021-06-26T17:48:59.888Z"
   },
   {
    "duration": 321,
    "start_time": "2021-06-26T17:49:21.069Z"
   },
   {
    "duration": 333,
    "start_time": "2021-06-26T17:49:58.943Z"
   },
   {
    "duration": 294,
    "start_time": "2021-06-26T17:50:16.118Z"
   },
   {
    "duration": 398,
    "start_time": "2021-06-26T17:50:30.110Z"
   },
   {
    "duration": 74,
    "start_time": "2021-06-26T17:52:29.005Z"
   },
   {
    "duration": 339,
    "start_time": "2021-06-26T17:53:43.560Z"
   },
   {
    "duration": 51,
    "start_time": "2021-06-26T17:55:36.957Z"
   },
   {
    "duration": 17,
    "start_time": "2021-06-26T17:57:04.291Z"
   },
   {
    "duration": 53,
    "start_time": "2021-06-26T17:57:12.027Z"
   },
   {
    "duration": 48,
    "start_time": "2021-06-26T17:57:44.085Z"
   },
   {
    "duration": 50,
    "start_time": "2021-06-26T17:57:50.210Z"
   },
   {
    "duration": 11,
    "start_time": "2021-06-26T17:59:59.244Z"
   },
   {
    "duration": 50,
    "start_time": "2021-06-26T18:02:13.756Z"
   },
   {
    "duration": 279,
    "start_time": "2021-06-26T18:02:59.097Z"
   },
   {
    "duration": 290,
    "start_time": "2021-06-26T18:03:19.379Z"
   },
   {
    "duration": 303,
    "start_time": "2021-06-26T18:03:51.441Z"
   },
   {
    "duration": 8,
    "start_time": "2021-06-26T18:03:57.271Z"
   },
   {
    "duration": 18,
    "start_time": "2021-06-26T18:05:32.576Z"
   },
   {
    "duration": 20,
    "start_time": "2021-06-26T18:05:43.494Z"
   },
   {
    "duration": 49,
    "start_time": "2021-06-26T18:05:49.056Z"
   },
   {
    "duration": 52,
    "start_time": "2021-06-26T18:06:12.801Z"
   },
   {
    "duration": 50,
    "start_time": "2021-06-26T18:06:20.797Z"
   },
   {
    "duration": 47,
    "start_time": "2021-06-26T18:19:06.983Z"
   },
   {
    "duration": 41,
    "start_time": "2021-06-26T18:19:23.124Z"
   },
   {
    "duration": 49,
    "start_time": "2021-06-26T18:19:40.911Z"
   },
   {
    "duration": 47,
    "start_time": "2021-06-26T18:19:47.937Z"
   },
   {
    "duration": 48,
    "start_time": "2021-06-26T18:20:03.198Z"
   },
   {
    "duration": 48,
    "start_time": "2021-06-26T18:20:10.636Z"
   },
   {
    "duration": 16,
    "start_time": "2021-06-26T18:23:31.368Z"
   },
   {
    "duration": 19,
    "start_time": "2021-06-26T18:23:32.749Z"
   },
   {
    "duration": 15,
    "start_time": "2021-06-26T18:23:33.510Z"
   },
   {
    "duration": 16,
    "start_time": "2021-06-26T18:23:34.249Z"
   },
   {
    "duration": 14,
    "start_time": "2021-06-26T18:23:35.222Z"
   },
   {
    "duration": 15,
    "start_time": "2021-06-26T18:23:38.283Z"
   },
   {
    "duration": 17,
    "start_time": "2021-06-26T18:23:39.456Z"
   },
   {
    "duration": 15,
    "start_time": "2021-06-26T18:23:40.193Z"
   },
   {
    "duration": 15,
    "start_time": "2021-06-26T18:23:41.136Z"
   },
   {
    "duration": 15,
    "start_time": "2021-06-26T18:23:42.408Z"
   },
   {
    "duration": 318,
    "start_time": "2021-06-26T18:25:23.883Z"
   },
   {
    "duration": 317,
    "start_time": "2021-06-26T18:25:35.759Z"
   },
   {
    "duration": 348,
    "start_time": "2021-06-26T18:26:01.626Z"
   },
   {
    "duration": 297,
    "start_time": "2021-06-26T18:26:20.434Z"
   },
   {
    "duration": 335,
    "start_time": "2021-06-26T18:27:49.168Z"
   },
   {
    "duration": 304,
    "start_time": "2021-06-26T18:27:56.702Z"
   },
   {
    "duration": 331,
    "start_time": "2021-06-26T18:28:17.652Z"
   },
   {
    "duration": 403,
    "start_time": "2021-06-26T18:28:27.089Z"
   },
   {
    "duration": 336,
    "start_time": "2021-06-26T18:28:58.384Z"
   },
   {
    "duration": 337,
    "start_time": "2021-06-26T18:29:16.239Z"
   },
   {
    "duration": 327,
    "start_time": "2021-06-26T18:29:30.678Z"
   },
   {
    "duration": 290,
    "start_time": "2021-06-26T18:29:44.935Z"
   },
   {
    "duration": 314,
    "start_time": "2021-06-26T18:29:56.290Z"
   },
   {
    "duration": 326,
    "start_time": "2021-06-26T18:31:17.367Z"
   },
   {
    "duration": 283,
    "start_time": "2021-06-26T18:31:28.464Z"
   },
   {
    "duration": 342,
    "start_time": "2021-06-26T18:31:35.578Z"
   },
   {
    "duration": 291,
    "start_time": "2021-06-26T18:34:30.394Z"
   },
   {
    "duration": 9,
    "start_time": "2021-06-26T18:35:02.817Z"
   },
   {
    "duration": 17,
    "start_time": "2021-06-26T18:38:12.085Z"
   },
   {
    "duration": 15,
    "start_time": "2021-06-26T18:38:17.452Z"
   },
   {
    "duration": 304,
    "start_time": "2021-06-26T18:38:29.566Z"
   },
   {
    "duration": 9,
    "start_time": "2021-06-26T18:39:06.449Z"
   },
   {
    "duration": 101,
    "start_time": "2021-06-26T18:40:22.944Z"
   },
   {
    "duration": 18,
    "start_time": "2021-06-26T18:40:40.310Z"
   },
   {
    "duration": 17,
    "start_time": "2021-06-26T18:40:42.093Z"
   },
   {
    "duration": 323,
    "start_time": "2021-06-26T18:40:48.036Z"
   },
   {
    "duration": 296,
    "start_time": "2021-06-26T18:40:59.944Z"
   },
   {
    "duration": 424,
    "start_time": "2021-06-26T18:41:09.051Z"
   },
   {
    "duration": 320,
    "start_time": "2021-06-26T18:41:15.883Z"
   },
   {
    "duration": 295,
    "start_time": "2021-06-26T18:45:44.594Z"
   },
   {
    "duration": 286,
    "start_time": "2021-06-26T19:01:25.644Z"
   },
   {
    "duration": 337,
    "start_time": "2021-06-26T19:01:34.229Z"
   },
   {
    "duration": 350,
    "start_time": "2021-06-26T19:01:39.473Z"
   },
   {
    "duration": 298,
    "start_time": "2021-06-26T19:01:46.704Z"
   },
   {
    "duration": 330,
    "start_time": "2021-06-26T19:01:53.453Z"
   },
   {
    "duration": 7,
    "start_time": "2021-06-26T19:03:29.129Z"
   },
   {
    "duration": 6,
    "start_time": "2021-06-26T19:03:40.585Z"
   },
   {
    "duration": 7,
    "start_time": "2021-06-26T19:03:45.069Z"
   },
   {
    "duration": 600,
    "start_time": "2021-06-26T19:13:12.999Z"
   },
   {
    "duration": 790,
    "start_time": "2021-06-26T19:14:59.154Z"
   },
   {
    "duration": 591,
    "start_time": "2021-06-26T19:15:14.006Z"
   },
   {
    "duration": 1924,
    "start_time": "2021-06-26T19:15:55.824Z"
   },
   {
    "duration": 2080,
    "start_time": "2021-06-26T19:16:25.777Z"
   },
   {
    "duration": 2146,
    "start_time": "2021-06-26T19:16:57.815Z"
   },
   {
    "duration": 1939,
    "start_time": "2021-06-26T19:17:16.969Z"
   },
   {
    "duration": 43,
    "start_time": "2021-06-26T19:18:48.187Z"
   },
   {
    "duration": 2120,
    "start_time": "2021-06-26T19:20:41.980Z"
   },
   {
    "duration": 36,
    "start_time": "2021-06-26T19:21:12.079Z"
   },
   {
    "duration": 859,
    "start_time": "2021-06-28T09:33:44.482Z"
   },
   {
    "duration": 54,
    "start_time": "2021-06-28T09:33:45.344Z"
   },
   {
    "duration": 47,
    "start_time": "2021-06-28T09:33:45.401Z"
   },
   {
    "duration": 43,
    "start_time": "2021-06-28T09:33:45.451Z"
   },
   {
    "duration": 11,
    "start_time": "2021-06-28T09:33:45.497Z"
   },
   {
    "duration": 15,
    "start_time": "2021-06-28T09:33:45.510Z"
   },
   {
    "duration": 55,
    "start_time": "2021-06-28T09:33:45.528Z"
   },
   {
    "duration": 13,
    "start_time": "2021-06-28T09:33:45.587Z"
   },
   {
    "duration": 15,
    "start_time": "2021-06-28T09:33:45.604Z"
   },
   {
    "duration": 14,
    "start_time": "2021-06-28T09:33:45.621Z"
   },
   {
    "duration": 14,
    "start_time": "2021-06-28T09:33:45.637Z"
   },
   {
    "duration": 16,
    "start_time": "2021-06-28T09:33:45.682Z"
   },
   {
    "duration": 14,
    "start_time": "2021-06-28T09:33:45.700Z"
   },
   {
    "duration": 14,
    "start_time": "2021-06-28T09:33:45.716Z"
   },
   {
    "duration": 15,
    "start_time": "2021-06-28T09:33:45.732Z"
   },
   {
    "duration": 48,
    "start_time": "2021-06-28T09:33:45.750Z"
   },
   {
    "duration": 17,
    "start_time": "2021-06-28T09:33:45.800Z"
   },
   {
    "duration": 15,
    "start_time": "2021-06-28T09:33:45.819Z"
   },
   {
    "duration": 13,
    "start_time": "2021-06-28T09:33:45.836Z"
   },
   {
    "duration": 14,
    "start_time": "2021-06-28T09:33:45.884Z"
   },
   {
    "duration": 44,
    "start_time": "2021-06-28T09:33:45.900Z"
   },
   {
    "duration": 43,
    "start_time": "2021-06-28T09:33:45.947Z"
   },
   {
    "duration": 14,
    "start_time": "2021-06-28T09:33:45.996Z"
   },
   {
    "duration": 14,
    "start_time": "2021-06-28T09:33:46.014Z"
   },
   {
    "duration": 14,
    "start_time": "2021-06-28T09:33:46.031Z"
   },
   {
    "duration": 43,
    "start_time": "2021-06-28T09:33:46.047Z"
   },
   {
    "duration": 14,
    "start_time": "2021-06-28T09:33:46.092Z"
   },
   {
    "duration": 18,
    "start_time": "2021-06-28T09:33:46.109Z"
   },
   {
    "duration": 14,
    "start_time": "2021-06-28T09:33:46.130Z"
   },
   {
    "duration": 39,
    "start_time": "2021-06-28T09:33:46.146Z"
   },
   {
    "duration": 14,
    "start_time": "2021-06-28T09:33:46.187Z"
   },
   {
    "duration": 18,
    "start_time": "2021-06-28T09:33:46.203Z"
   },
   {
    "duration": 16,
    "start_time": "2021-06-28T09:33:46.224Z"
   },
   {
    "duration": 43,
    "start_time": "2021-06-28T09:33:46.242Z"
   },
   {
    "duration": 23,
    "start_time": "2021-06-28T09:33:46.287Z"
   },
   {
    "duration": 23,
    "start_time": "2021-06-28T09:33:46.312Z"
   },
   {
    "duration": 12,
    "start_time": "2021-06-28T09:33:46.338Z"
   },
   {
    "duration": 60,
    "start_time": "2021-06-28T09:33:46.352Z"
   },
   {
    "duration": 7,
    "start_time": "2021-06-28T09:33:46.415Z"
   },
   {
    "duration": 6,
    "start_time": "2021-06-28T09:33:46.425Z"
   },
   {
    "duration": 8,
    "start_time": "2021-06-28T09:33:46.434Z"
   },
   {
    "duration": 9,
    "start_time": "2021-06-28T09:33:46.444Z"
   },
   {
    "duration": 22,
    "start_time": "2021-06-28T09:33:46.484Z"
   },
   {
    "duration": 26,
    "start_time": "2021-06-28T09:33:46.509Z"
   },
   {
    "duration": 12,
    "start_time": "2021-06-28T09:33:46.537Z"
   },
   {
    "duration": 36,
    "start_time": "2021-06-28T09:33:46.551Z"
   },
   {
    "duration": 11,
    "start_time": "2021-06-28T09:33:46.589Z"
   },
   {
    "duration": 10,
    "start_time": "2021-06-28T09:33:46.602Z"
   },
   {
    "duration": 5,
    "start_time": "2021-06-28T09:33:46.614Z"
   },
   {
    "duration": 63,
    "start_time": "2021-06-28T09:33:46.622Z"
   },
   {
    "duration": 547,
    "start_time": "2021-06-28T09:33:46.687Z"
   },
   {
    "duration": 357,
    "start_time": "2021-06-28T09:33:47.236Z"
   },
   {
    "duration": 366,
    "start_time": "2021-06-28T09:33:47.596Z"
   },
   {
    "duration": 389,
    "start_time": "2021-06-28T09:33:47.964Z"
   },
   {
    "duration": 297,
    "start_time": "2021-06-28T09:33:48.355Z"
   },
   {
    "duration": 29,
    "start_time": "2021-06-28T09:33:48.654Z"
   },
   {
    "duration": 19,
    "start_time": "2021-06-28T09:33:48.686Z"
   },
   {
    "duration": 15,
    "start_time": "2021-06-28T09:33:48.708Z"
   },
   {
    "duration": 22,
    "start_time": "2021-06-28T09:33:48.725Z"
   },
   {
    "duration": 48,
    "start_time": "2021-06-28T09:33:48.750Z"
   },
   {
    "duration": 363,
    "start_time": "2021-06-28T09:33:48.801Z"
   },
   {
    "duration": 325,
    "start_time": "2021-06-28T09:33:49.166Z"
   },
   {
    "duration": 309,
    "start_time": "2021-06-28T09:33:49.493Z"
   },
   {
    "duration": 325,
    "start_time": "2021-06-28T09:33:49.804Z"
   },
   {
    "duration": 299,
    "start_time": "2021-06-28T09:33:50.131Z"
   },
   {
    "duration": 367,
    "start_time": "2021-06-28T09:33:50.432Z"
   },
   {
    "duration": 6,
    "start_time": "2021-06-28T09:33:50.802Z"
   },
   {
    "duration": 7,
    "start_time": "2021-06-28T09:33:50.816Z"
   },
   {
    "duration": 657,
    "start_time": "2021-06-28T09:33:50.826Z"
   },
   {
    "duration": 2398,
    "start_time": "2021-06-28T09:33:51.485Z"
   },
   {
    "duration": 2559,
    "start_time": "2021-06-28T09:33:53.885Z"
   },
   {
    "duration": 2784,
    "start_time": "2021-06-28T09:33:56.447Z"
   },
   {
    "duration": 88,
    "start_time": "2021-06-28T09:33:59.234Z"
   },
   {
    "duration": 4,
    "start_time": "2021-06-28T09:33:59.325Z"
   },
   {
    "duration": 62,
    "start_time": "2021-06-28T09:33:59.332Z"
   },
   {
    "duration": 437,
    "start_time": "2021-06-28T09:33:59.397Z"
   },
   {
    "duration": 12,
    "start_time": "2021-06-28T09:33:59.836Z"
   },
   {
    "duration": 535,
    "start_time": "2021-06-28T09:33:59.850Z"
   },
   {
    "duration": 509,
    "start_time": "2021-06-28T09:34:00.388Z"
   },
   {
    "duration": 627,
    "start_time": "2021-06-28T09:34:00.899Z"
   },
   {
    "duration": 300,
    "start_time": "2021-06-28T09:34:01.529Z"
   },
   {
    "duration": 579,
    "start_time": "2021-06-28T09:34:01.832Z"
   },
   {
    "duration": 3,
    "start_time": "2021-06-28T09:34:02.413Z"
   },
   {
    "duration": 18,
    "start_time": "2021-06-28T09:34:02.419Z"
   },
   {
    "duration": 556,
    "start_time": "2021-06-28T09:34:02.439Z"
   },
   {
    "duration": 542,
    "start_time": "2021-06-28T09:34:02.997Z"
   },
   {
    "duration": 674,
    "start_time": "2021-06-28T09:34:03.541Z"
   },
   {
    "duration": 330,
    "start_time": "2021-06-28T09:34:04.218Z"
   },
   {
    "duration": 653,
    "start_time": "2021-06-28T09:34:04.550Z"
   },
   {
    "duration": 87,
    "start_time": "2021-06-28T09:34:05.206Z"
   },
   {
    "duration": 369,
    "start_time": "2021-06-28T12:00:19.980Z"
   },
   {
    "duration": 949,
    "start_time": "2021-06-28T12:07:03.787Z"
   },
   {
    "duration": 58,
    "start_time": "2021-06-28T12:07:04.738Z"
   },
   {
    "duration": 52,
    "start_time": "2021-06-28T12:07:04.800Z"
   },
   {
    "duration": 40,
    "start_time": "2021-06-28T12:07:04.855Z"
   },
   {
    "duration": 14,
    "start_time": "2021-06-28T12:07:04.898Z"
   },
   {
    "duration": 23,
    "start_time": "2021-06-28T12:07:04.914Z"
   },
   {
    "duration": 30,
    "start_time": "2021-06-28T12:07:04.939Z"
   },
   {
    "duration": 24,
    "start_time": "2021-06-28T12:07:04.973Z"
   },
   {
    "duration": 28,
    "start_time": "2021-06-28T12:07:05.001Z"
   },
   {
    "duration": 52,
    "start_time": "2021-06-28T12:07:05.032Z"
   },
   {
    "duration": 26,
    "start_time": "2021-06-28T12:07:05.088Z"
   },
   {
    "duration": 31,
    "start_time": "2021-06-28T12:07:05.117Z"
   },
   {
    "duration": 37,
    "start_time": "2021-06-28T12:07:05.151Z"
   },
   {
    "duration": 14,
    "start_time": "2021-06-28T12:07:05.190Z"
   },
   {
    "duration": 32,
    "start_time": "2021-06-28T12:07:05.206Z"
   },
   {
    "duration": 24,
    "start_time": "2021-06-28T12:07:05.240Z"
   },
   {
    "duration": 23,
    "start_time": "2021-06-28T12:07:05.267Z"
   },
   {
    "duration": 31,
    "start_time": "2021-06-28T12:07:05.294Z"
   },
   {
    "duration": 28,
    "start_time": "2021-06-28T12:07:05.329Z"
   },
   {
    "duration": 37,
    "start_time": "2021-06-28T12:07:05.361Z"
   },
   {
    "duration": 73,
    "start_time": "2021-06-28T12:07:05.401Z"
   },
   {
    "duration": 24,
    "start_time": "2021-06-28T12:07:05.485Z"
   },
   {
    "duration": 25,
    "start_time": "2021-06-28T12:07:05.518Z"
   },
   {
    "duration": 54,
    "start_time": "2021-06-28T12:07:05.547Z"
   },
   {
    "duration": 34,
    "start_time": "2021-06-28T12:07:05.605Z"
   },
   {
    "duration": 40,
    "start_time": "2021-06-28T12:07:05.643Z"
   },
   {
    "duration": 24,
    "start_time": "2021-06-28T12:07:05.686Z"
   },
   {
    "duration": 30,
    "start_time": "2021-06-28T12:07:05.713Z"
   },
   {
    "duration": 42,
    "start_time": "2021-06-28T12:07:05.747Z"
   },
   {
    "duration": 28,
    "start_time": "2021-06-28T12:07:05.792Z"
   },
   {
    "duration": 48,
    "start_time": "2021-06-28T12:07:05.822Z"
   },
   {
    "duration": 33,
    "start_time": "2021-06-28T12:07:05.872Z"
   },
   {
    "duration": 34,
    "start_time": "2021-06-28T12:07:05.907Z"
   },
   {
    "duration": 60,
    "start_time": "2021-06-28T12:07:05.944Z"
   },
   {
    "duration": 53,
    "start_time": "2021-06-28T12:07:06.007Z"
   },
   {
    "duration": 36,
    "start_time": "2021-06-28T12:07:06.063Z"
   },
   {
    "duration": 42,
    "start_time": "2021-06-28T12:07:06.102Z"
   },
   {
    "duration": 84,
    "start_time": "2021-06-28T12:07:06.147Z"
   },
   {
    "duration": 13,
    "start_time": "2021-06-28T12:07:06.234Z"
   },
   {
    "duration": 29,
    "start_time": "2021-06-28T12:07:06.250Z"
   },
   {
    "duration": 27,
    "start_time": "2021-06-28T12:07:06.282Z"
   },
   {
    "duration": 39,
    "start_time": "2021-06-28T12:07:06.312Z"
   },
   {
    "duration": 36,
    "start_time": "2021-06-28T12:07:06.353Z"
   },
   {
    "duration": 30,
    "start_time": "2021-06-28T12:07:06.392Z"
   },
   {
    "duration": 25,
    "start_time": "2021-06-28T12:07:06.424Z"
   },
   {
    "duration": 47,
    "start_time": "2021-06-28T12:07:06.452Z"
   },
   {
    "duration": 21,
    "start_time": "2021-06-28T12:07:06.502Z"
   },
   {
    "duration": 16,
    "start_time": "2021-06-28T12:07:06.526Z"
   },
   {
    "duration": 28,
    "start_time": "2021-06-28T12:07:35.209Z"
   },
   {
    "duration": 476,
    "start_time": "2021-06-28T18:49:42.119Z"
   },
   {
    "duration": 939,
    "start_time": "2021-06-28T18:49:53.494Z"
   },
   {
    "duration": 72,
    "start_time": "2021-06-28T18:49:54.436Z"
   },
   {
    "duration": 50,
    "start_time": "2021-06-28T18:49:54.512Z"
   },
   {
    "duration": 23,
    "start_time": "2021-06-28T18:49:54.565Z"
   },
   {
    "duration": 8,
    "start_time": "2021-06-28T18:49:54.610Z"
   },
   {
    "duration": 16,
    "start_time": "2021-06-28T18:49:54.620Z"
   },
   {
    "duration": 16,
    "start_time": "2021-06-28T18:49:54.639Z"
   },
   {
    "duration": 51,
    "start_time": "2021-06-28T18:49:54.659Z"
   },
   {
    "duration": 15,
    "start_time": "2021-06-28T18:49:54.713Z"
   },
   {
    "duration": 37,
    "start_time": "2021-06-28T18:49:54.730Z"
   },
   {
    "duration": 18,
    "start_time": "2021-06-28T18:49:54.770Z"
   },
   {
    "duration": 21,
    "start_time": "2021-06-28T18:49:54.790Z"
   },
   {
    "duration": 18,
    "start_time": "2021-06-28T18:49:54.814Z"
   },
   {
    "duration": 18,
    "start_time": "2021-06-28T18:49:54.835Z"
   },
   {
    "duration": 20,
    "start_time": "2021-06-28T18:49:54.856Z"
   },
   {
    "duration": 45,
    "start_time": "2021-06-28T18:49:54.878Z"
   },
   {
    "duration": 15,
    "start_time": "2021-06-28T18:49:54.926Z"
   },
   {
    "duration": 15,
    "start_time": "2021-06-28T18:49:54.944Z"
   },
   {
    "duration": 46,
    "start_time": "2021-06-28T18:49:54.962Z"
   },
   {
    "duration": 15,
    "start_time": "2021-06-28T18:49:55.011Z"
   },
   {
    "duration": 47,
    "start_time": "2021-06-28T18:49:55.029Z"
   },
   {
    "duration": 39,
    "start_time": "2021-06-28T18:49:55.079Z"
   },
   {
    "duration": 17,
    "start_time": "2021-06-28T18:49:55.124Z"
   },
   {
    "duration": 17,
    "start_time": "2021-06-28T18:49:55.144Z"
   },
   {
    "duration": 48,
    "start_time": "2021-06-28T18:49:55.163Z"
   },
   {
    "duration": 15,
    "start_time": "2021-06-28T18:49:55.213Z"
   },
   {
    "duration": 16,
    "start_time": "2021-06-28T18:49:55.230Z"
   },
   {
    "duration": 15,
    "start_time": "2021-06-28T18:49:55.248Z"
   },
   {
    "duration": 46,
    "start_time": "2021-06-28T18:49:55.266Z"
   },
   {
    "duration": 14,
    "start_time": "2021-06-28T18:49:55.315Z"
   },
   {
    "duration": 14,
    "start_time": "2021-06-28T18:49:55.332Z"
   },
   {
    "duration": 15,
    "start_time": "2021-06-28T18:49:55.349Z"
   },
   {
    "duration": 43,
    "start_time": "2021-06-28T18:49:55.366Z"
   },
   {
    "duration": 15,
    "start_time": "2021-06-28T18:49:55.412Z"
   },
   {
    "duration": 20,
    "start_time": "2021-06-28T18:49:55.430Z"
   },
   {
    "duration": 24,
    "start_time": "2021-06-28T18:49:55.452Z"
   },
   {
    "duration": 15,
    "start_time": "2021-06-28T18:49:55.509Z"
   },
   {
    "duration": 38,
    "start_time": "2021-06-28T18:49:55.527Z"
   },
   {
    "duration": 9,
    "start_time": "2021-06-28T18:49:55.567Z"
   },
   {
    "duration": 34,
    "start_time": "2021-06-28T18:49:55.578Z"
   },
   {
    "duration": 6,
    "start_time": "2021-06-28T18:49:55.614Z"
   },
   {
    "duration": 10,
    "start_time": "2021-06-28T18:49:55.622Z"
   },
   {
    "duration": 19,
    "start_time": "2021-06-28T18:49:55.634Z"
   },
   {
    "duration": 55,
    "start_time": "2021-06-28T18:49:55.655Z"
   },
   {
    "duration": 12,
    "start_time": "2021-06-28T18:49:55.712Z"
   },
   {
    "duration": 11,
    "start_time": "2021-06-28T18:49:55.726Z"
   },
   {
    "duration": 11,
    "start_time": "2021-06-28T18:49:55.740Z"
   },
   {
    "duration": 11,
    "start_time": "2021-06-28T18:49:55.754Z"
   },
   {
    "duration": 42,
    "start_time": "2021-06-28T18:49:55.768Z"
   },
   {
    "duration": 43,
    "start_time": "2021-06-28T18:49:55.813Z"
   },
   {
    "duration": 489,
    "start_time": "2021-06-28T18:49:55.859Z"
   },
   {
    "duration": 346,
    "start_time": "2021-06-28T18:50:03.941Z"
   },
   {
    "duration": 331,
    "start_time": "2021-06-28T18:50:14.274Z"
   },
   {
    "duration": 23,
    "start_time": "2021-06-28T18:58:27.754Z"
   },
   {
    "duration": 23,
    "start_time": "2021-06-28T18:58:38.845Z"
   },
   {
    "duration": 77,
    "start_time": "2021-06-28T18:59:00.881Z"
   },
   {
    "duration": 474,
    "start_time": "2021-06-28T18:59:13.734Z"
   },
   {
    "duration": 426,
    "start_time": "2021-06-28T18:59:27.552Z"
   },
   {
    "duration": 14,
    "start_time": "2021-06-28T19:00:59.005Z"
   },
   {
    "duration": 12,
    "start_time": "2021-06-28T19:01:22.778Z"
   },
   {
    "duration": 11,
    "start_time": "2021-06-28T19:01:34.992Z"
   },
   {
    "duration": 12,
    "start_time": "2021-06-28T19:01:47.496Z"
   },
   {
    "duration": 11,
    "start_time": "2021-06-28T19:01:53.796Z"
   },
   {
    "duration": 12,
    "start_time": "2021-06-28T19:02:00.646Z"
   },
   {
    "duration": 13,
    "start_time": "2021-06-28T19:02:05.733Z"
   },
   {
    "duration": 36,
    "start_time": "2021-06-28T19:02:36.072Z"
   },
   {
    "duration": 37,
    "start_time": "2021-06-28T19:02:44.179Z"
   },
   {
    "duration": 10,
    "start_time": "2021-06-28T19:04:13.277Z"
   },
   {
    "duration": 11,
    "start_time": "2021-06-28T19:04:51.145Z"
   },
   {
    "duration": 42,
    "start_time": "2021-06-28T19:08:25.389Z"
   },
   {
    "duration": 21,
    "start_time": "2021-06-28T19:09:56.048Z"
   },
   {
    "duration": 386,
    "start_time": "2021-06-28T19:14:43.364Z"
   },
   {
    "duration": 360,
    "start_time": "2021-06-28T19:14:54.027Z"
   },
   {
    "duration": 342,
    "start_time": "2021-06-28T19:14:59.731Z"
   },
   {
    "duration": 367,
    "start_time": "2021-06-28T19:15:06.405Z"
   },
   {
    "duration": 390,
    "start_time": "2021-06-28T19:15:17.498Z"
   },
   {
    "duration": 158,
    "start_time": "2021-06-28T19:21:25.328Z"
   },
   {
    "duration": 58,
    "start_time": "2021-06-28T19:21:25.489Z"
   },
   {
    "duration": 94,
    "start_time": "2021-06-28T19:21:25.551Z"
   },
   {
    "duration": 27,
    "start_time": "2021-06-28T19:21:25.649Z"
   },
   {
    "duration": 10,
    "start_time": "2021-06-28T19:21:25.710Z"
   },
   {
    "duration": 18,
    "start_time": "2021-06-28T19:21:25.723Z"
   },
   {
    "duration": 19,
    "start_time": "2021-06-28T19:21:25.744Z"
   },
   {
    "duration": 16,
    "start_time": "2021-06-28T19:21:25.808Z"
   },
   {
    "duration": 17,
    "start_time": "2021-06-28T19:21:25.828Z"
   },
   {
    "duration": 17,
    "start_time": "2021-06-28T19:21:25.848Z"
   },
   {
    "duration": 51,
    "start_time": "2021-06-28T19:21:25.867Z"
   },
   {
    "duration": 19,
    "start_time": "2021-06-28T19:21:25.920Z"
   },
   {
    "duration": 17,
    "start_time": "2021-06-28T19:21:25.942Z"
   },
   {
    "duration": 54,
    "start_time": "2021-06-28T19:21:25.961Z"
   },
   {
    "duration": 14,
    "start_time": "2021-06-28T19:21:26.018Z"
   },
   {
    "duration": 15,
    "start_time": "2021-06-28T19:21:26.035Z"
   },
   {
    "duration": 14,
    "start_time": "2021-06-28T19:21:26.052Z"
   },
   {
    "duration": 52,
    "start_time": "2021-06-28T19:21:26.069Z"
   },
   {
    "duration": 12,
    "start_time": "2021-06-28T19:21:26.123Z"
   },
   {
    "duration": 23,
    "start_time": "2021-06-28T19:21:26.137Z"
   },
   {
    "duration": 61,
    "start_time": "2021-06-28T19:21:26.163Z"
   },
   {
    "duration": 15,
    "start_time": "2021-06-28T19:21:26.226Z"
   },
   {
    "duration": 16,
    "start_time": "2021-06-28T19:21:26.248Z"
   },
   {
    "duration": 44,
    "start_time": "2021-06-28T19:21:26.267Z"
   },
   {
    "duration": 14,
    "start_time": "2021-06-28T19:21:26.313Z"
   },
   {
    "duration": 14,
    "start_time": "2021-06-28T19:21:26.329Z"
   },
   {
    "duration": 17,
    "start_time": "2021-06-28T19:21:26.345Z"
   },
   {
    "duration": 15,
    "start_time": "2021-06-28T19:21:26.364Z"
   },
   {
    "duration": 41,
    "start_time": "2021-06-28T19:21:26.381Z"
   },
   {
    "duration": 17,
    "start_time": "2021-06-28T19:21:26.425Z"
   },
   {
    "duration": 17,
    "start_time": "2021-06-28T19:21:26.445Z"
   },
   {
    "duration": 50,
    "start_time": "2021-06-28T19:21:26.464Z"
   },
   {
    "duration": 17,
    "start_time": "2021-06-28T19:21:26.517Z"
   },
   {
    "duration": 16,
    "start_time": "2021-06-28T19:21:26.537Z"
   },
   {
    "duration": 59,
    "start_time": "2021-06-28T19:21:26.556Z"
   },
   {
    "duration": 25,
    "start_time": "2021-06-28T19:21:26.618Z"
   },
   {
    "duration": 15,
    "start_time": "2021-06-28T19:21:26.645Z"
   },
   {
    "duration": 66,
    "start_time": "2021-06-28T19:21:26.662Z"
   },
   {
    "duration": 9,
    "start_time": "2021-06-28T19:21:26.730Z"
   },
   {
    "duration": 10,
    "start_time": "2021-06-28T19:21:26.741Z"
   },
   {
    "duration": 8,
    "start_time": "2021-06-28T19:21:26.754Z"
   },
   {
    "duration": 13,
    "start_time": "2021-06-28T19:21:26.765Z"
   },
   {
    "duration": 35,
    "start_time": "2021-06-28T19:21:26.780Z"
   },
   {
    "duration": 25,
    "start_time": "2021-06-28T19:21:26.817Z"
   },
   {
    "duration": 12,
    "start_time": "2021-06-28T19:21:26.844Z"
   },
   {
    "duration": 12,
    "start_time": "2021-06-28T19:21:26.859Z"
   },
   {
    "duration": 12,
    "start_time": "2021-06-28T19:21:26.909Z"
   },
   {
    "duration": 6,
    "start_time": "2021-06-28T19:21:26.923Z"
   },
   {
    "duration": 7,
    "start_time": "2021-06-28T19:21:26.932Z"
   },
   {
    "duration": 35,
    "start_time": "2021-06-28T19:21:26.942Z"
   },
   {
    "duration": 376,
    "start_time": "2021-06-28T19:21:26.979Z"
   },
   {
    "duration": 371,
    "start_time": "2021-06-28T19:21:27.358Z"
   },
   {
    "duration": 379,
    "start_time": "2021-06-28T19:21:27.732Z"
   },
   {
    "duration": 383,
    "start_time": "2021-06-28T19:21:28.114Z"
   },
   {
    "duration": 313,
    "start_time": "2021-06-28T19:21:28.501Z"
   },
   {
    "duration": 19,
    "start_time": "2021-06-28T19:21:28.817Z"
   },
   {
    "duration": 17,
    "start_time": "2021-06-28T19:21:28.838Z"
   },
   {
    "duration": 15,
    "start_time": "2021-06-28T19:21:28.857Z"
   },
   {
    "duration": 46,
    "start_time": "2021-06-28T19:21:28.874Z"
   },
   {
    "duration": 16,
    "start_time": "2021-06-28T19:21:28.923Z"
   },
   {
    "duration": 452,
    "start_time": "2021-06-28T19:23:00.815Z"
   },
   {
    "duration": 356,
    "start_time": "2021-06-28T19:23:08.355Z"
   },
   {
    "duration": 338,
    "start_time": "2021-06-28T19:25:36.117Z"
   },
   {
    "duration": 342,
    "start_time": "2021-06-28T19:26:08.798Z"
   },
   {
    "duration": 327,
    "start_time": "2021-06-28T19:26:16.565Z"
   },
   {
    "duration": 367,
    "start_time": "2021-06-28T19:31:27.810Z"
   },
   {
    "duration": 40,
    "start_time": "2021-06-28T19:31:40.545Z"
   },
   {
    "duration": 41,
    "start_time": "2021-06-28T19:32:13.449Z"
   },
   {
    "duration": 398,
    "start_time": "2021-06-28T19:34:38.543Z"
   },
   {
    "duration": 11,
    "start_time": "2021-06-28T19:34:59.124Z"
   },
   {
    "duration": 1060,
    "start_time": "2021-06-28T19:43:10.688Z"
   },
   {
    "duration": 378,
    "start_time": "2021-06-28T19:43:28.021Z"
   },
   {
    "duration": 429,
    "start_time": "2021-06-28T19:43:53.655Z"
   },
   {
    "duration": 731,
    "start_time": "2021-06-28T19:44:08.960Z"
   },
   {
    "duration": 1046,
    "start_time": "2021-06-28T19:44:19.077Z"
   },
   {
    "duration": 1068,
    "start_time": "2021-06-28T19:44:28.583Z"
   },
   {
    "duration": 1065,
    "start_time": "2021-06-28T19:44:38.557Z"
   },
   {
    "duration": 12,
    "start_time": "2021-06-28T19:46:47.492Z"
   },
   {
    "duration": 11,
    "start_time": "2021-06-28T19:47:04.295Z"
   },
   {
    "duration": 11,
    "start_time": "2021-06-28T19:47:50.682Z"
   },
   {
    "duration": 218,
    "start_time": "2021-06-29T03:26:26.654Z"
   },
   {
    "duration": 662,
    "start_time": "2021-06-29T03:26:48.154Z"
   },
   {
    "duration": 27,
    "start_time": "2021-06-29T03:26:48.818Z"
   },
   {
    "duration": 52,
    "start_time": "2021-06-29T03:26:48.846Z"
   },
   {
    "duration": 17,
    "start_time": "2021-06-29T03:26:48.900Z"
   },
   {
    "duration": 6,
    "start_time": "2021-06-29T03:26:48.919Z"
   },
   {
    "duration": 11,
    "start_time": "2021-06-29T03:26:48.926Z"
   },
   {
    "duration": 11,
    "start_time": "2021-06-29T03:26:48.938Z"
   },
   {
    "duration": 43,
    "start_time": "2021-06-29T03:26:48.950Z"
   },
   {
    "duration": 12,
    "start_time": "2021-06-29T03:26:48.997Z"
   },
   {
    "duration": 10,
    "start_time": "2021-06-29T03:26:49.011Z"
   },
   {
    "duration": 10,
    "start_time": "2021-06-29T03:26:49.022Z"
   },
   {
    "duration": 10,
    "start_time": "2021-06-29T03:26:49.033Z"
   },
   {
    "duration": 8,
    "start_time": "2021-06-29T03:26:49.045Z"
   },
   {
    "duration": 55,
    "start_time": "2021-06-29T03:26:49.055Z"
   },
   {
    "duration": 11,
    "start_time": "2021-06-29T03:26:49.112Z"
   },
   {
    "duration": 12,
    "start_time": "2021-06-29T03:26:49.124Z"
   },
   {
    "duration": 8,
    "start_time": "2021-06-29T03:26:49.138Z"
   },
   {
    "duration": 9,
    "start_time": "2021-06-29T03:26:49.148Z"
   },
   {
    "duration": 29,
    "start_time": "2021-06-29T03:26:49.158Z"
   },
   {
    "duration": 19,
    "start_time": "2021-06-29T03:26:49.189Z"
   },
   {
    "duration": 26,
    "start_time": "2021-06-29T03:26:49.210Z"
   },
   {
    "duration": 10,
    "start_time": "2021-06-29T03:26:49.237Z"
   },
   {
    "duration": 41,
    "start_time": "2021-06-29T03:26:49.249Z"
   },
   {
    "duration": 14,
    "start_time": "2021-06-29T03:26:49.293Z"
   },
   {
    "duration": 12,
    "start_time": "2021-06-29T03:26:49.308Z"
   },
   {
    "duration": 11,
    "start_time": "2021-06-29T03:26:49.322Z"
   },
   {
    "duration": 9,
    "start_time": "2021-06-29T03:26:49.338Z"
   },
   {
    "duration": 38,
    "start_time": "2021-06-29T03:26:49.350Z"
   },
   {
    "duration": 13,
    "start_time": "2021-06-29T03:26:49.390Z"
   },
   {
    "duration": 12,
    "start_time": "2021-06-29T03:26:49.404Z"
   },
   {
    "duration": 10,
    "start_time": "2021-06-29T03:26:49.418Z"
   },
   {
    "duration": 9,
    "start_time": "2021-06-29T03:26:49.429Z"
   },
   {
    "duration": 9,
    "start_time": "2021-06-29T03:26:49.440Z"
   },
   {
    "duration": 41,
    "start_time": "2021-06-29T03:26:49.451Z"
   },
   {
    "duration": 18,
    "start_time": "2021-06-29T03:26:49.495Z"
   },
   {
    "duration": 17,
    "start_time": "2021-06-29T03:26:49.515Z"
   },
   {
    "duration": 9,
    "start_time": "2021-06-29T03:26:49.533Z"
   },
   {
    "duration": 46,
    "start_time": "2021-06-29T03:26:49.544Z"
   },
   {
    "duration": 6,
    "start_time": "2021-06-29T03:26:49.592Z"
   },
   {
    "duration": 5,
    "start_time": "2021-06-29T03:26:49.600Z"
   },
   {
    "duration": 4,
    "start_time": "2021-06-29T03:26:49.607Z"
   },
   {
    "duration": 5,
    "start_time": "2021-06-29T03:26:49.612Z"
   },
   {
    "duration": 11,
    "start_time": "2021-06-29T03:26:49.620Z"
   },
   {
    "duration": 67,
    "start_time": "2021-06-29T03:26:49.633Z"
   },
   {
    "duration": 10,
    "start_time": "2021-06-29T03:26:49.703Z"
   },
   {
    "duration": 8,
    "start_time": "2021-06-29T03:26:49.715Z"
   },
   {
    "duration": 7,
    "start_time": "2021-06-29T03:26:49.724Z"
   },
   {
    "duration": 5,
    "start_time": "2021-06-29T03:26:49.733Z"
   },
   {
    "duration": 4,
    "start_time": "2021-06-29T03:26:49.739Z"
   },
   {
    "duration": 70,
    "start_time": "2021-06-29T03:26:49.744Z"
   },
   {
    "duration": 338,
    "start_time": "2021-06-29T03:26:49.816Z"
   },
   {
    "duration": 241,
    "start_time": "2021-06-29T03:26:50.155Z"
   },
   {
    "duration": 244,
    "start_time": "2021-06-29T03:26:50.399Z"
   },
   {
    "duration": 307,
    "start_time": "2021-06-29T03:26:50.645Z"
   },
   {
    "duration": 216,
    "start_time": "2021-06-29T03:26:50.954Z"
   },
   {
    "duration": 30,
    "start_time": "2021-06-29T03:26:51.172Z"
   },
   {
    "duration": 19,
    "start_time": "2021-06-29T03:26:51.204Z"
   },
   {
    "duration": 9,
    "start_time": "2021-06-29T03:26:51.224Z"
   },
   {
    "duration": 9,
    "start_time": "2021-06-29T03:26:51.234Z"
   },
   {
    "duration": 8,
    "start_time": "2021-06-29T03:26:51.245Z"
   },
   {
    "duration": 284,
    "start_time": "2021-06-29T03:26:51.255Z"
   },
   {
    "duration": 212,
    "start_time": "2021-06-29T03:26:51.540Z"
   },
   {
    "duration": 204,
    "start_time": "2021-06-29T03:26:51.754Z"
   },
   {
    "duration": 209,
    "start_time": "2021-06-29T03:26:51.960Z"
   },
   {
    "duration": 207,
    "start_time": "2021-06-29T03:26:52.171Z"
   },
   {
    "duration": 220,
    "start_time": "2021-06-29T03:26:52.380Z"
   },
   {
    "duration": 5,
    "start_time": "2021-06-29T03:26:52.602Z"
   },
   {
    "duration": 6,
    "start_time": "2021-06-29T03:26:52.609Z"
   },
   {
    "duration": 518,
    "start_time": "2021-06-29T03:26:52.617Z"
   },
   {
    "duration": 735,
    "start_time": "2021-06-29T03:26:53.136Z"
   },
   {
    "duration": 796,
    "start_time": "2021-06-29T03:26:53.873Z"
   },
   {
    "duration": 802,
    "start_time": "2021-06-29T03:26:54.670Z"
   },
   {
    "duration": 65,
    "start_time": "2021-06-29T03:26:55.473Z"
   },
   {
    "duration": 2,
    "start_time": "2021-06-29T03:26:55.540Z"
   },
   {
    "duration": 24,
    "start_time": "2021-06-29T03:26:55.543Z"
   },
   {
    "duration": 340,
    "start_time": "2021-06-29T03:26:55.568Z"
   },
   {
    "duration": 8,
    "start_time": "2021-06-29T03:26:55.910Z"
   },
   {
    "duration": 416,
    "start_time": "2021-06-29T03:26:55.919Z"
   },
   {
    "duration": 436,
    "start_time": "2021-06-29T03:26:56.337Z"
   },
   {
    "duration": 411,
    "start_time": "2021-06-29T03:26:56.775Z"
   },
   {
    "duration": 15,
    "start_time": "2021-06-29T03:27:03.809Z"
   },
   {
    "duration": 31,
    "start_time": "2021-06-29T03:27:39.775Z"
   },
   {
    "duration": 21,
    "start_time": "2021-06-29T03:30:03.968Z"
   },
   {
    "duration": 213,
    "start_time": "2021-06-29T03:31:58.557Z"
   },
   {
    "duration": 193,
    "start_time": "2021-06-29T03:32:09.641Z"
   },
   {
    "duration": 182,
    "start_time": "2021-06-29T03:33:15.554Z"
   },
   {
    "duration": 190,
    "start_time": "2021-06-29T03:34:11.570Z"
   },
   {
    "duration": 200,
    "start_time": "2021-06-29T03:34:21.677Z"
   },
   {
    "duration": 17,
    "start_time": "2021-06-29T03:34:42.142Z"
   },
   {
    "duration": 20,
    "start_time": "2021-06-29T03:35:05.257Z"
   },
   {
    "duration": 17,
    "start_time": "2021-06-29T03:35:13.129Z"
   },
   {
    "duration": 204,
    "start_time": "2021-06-29T03:38:35.253Z"
   },
   {
    "duration": 201,
    "start_time": "2021-06-29T03:38:50.151Z"
   },
   {
    "duration": 23,
    "start_time": "2021-06-29T03:39:04.389Z"
   },
   {
    "duration": 386,
    "start_time": "2021-06-29T03:40:49.758Z"
   },
   {
    "duration": 179,
    "start_time": "2021-06-29T03:42:32.444Z"
   },
   {
    "duration": 8,
    "start_time": "2021-06-29T03:42:38.920Z"
   },
   {
    "duration": 18,
    "start_time": "2021-06-29T03:42:40.337Z"
   },
   {
    "duration": 18,
    "start_time": "2021-06-29T03:45:19.610Z"
   },
   {
    "duration": 25,
    "start_time": "2021-06-29T03:46:45.271Z"
   },
   {
    "duration": 27,
    "start_time": "2021-06-29T03:47:32.687Z"
   },
   {
    "duration": 16,
    "start_time": "2021-06-29T03:52:05.932Z"
   },
   {
    "duration": 30,
    "start_time": "2021-06-29T03:53:31.878Z"
   },
   {
    "duration": 209,
    "start_time": "2021-06-29T05:28:42.010Z"
   },
   {
    "duration": 260,
    "start_time": "2021-06-29T05:28:53.574Z"
   },
   {
    "duration": 367,
    "start_time": "2021-06-29T11:31:29.248Z"
   },
   {
    "duration": 943,
    "start_time": "2021-06-29T11:31:34.266Z"
   },
   {
    "duration": 45,
    "start_time": "2021-06-29T11:31:35.212Z"
   },
   {
    "duration": 81,
    "start_time": "2021-06-29T11:31:35.264Z"
   },
   {
    "duration": 23,
    "start_time": "2021-06-29T11:31:35.347Z"
   },
   {
    "duration": 7,
    "start_time": "2021-06-29T11:31:35.373Z"
   },
   {
    "duration": 43,
    "start_time": "2021-06-29T11:31:35.383Z"
   },
   {
    "duration": 15,
    "start_time": "2021-06-29T11:31:35.430Z"
   },
   {
    "duration": 14,
    "start_time": "2021-06-29T11:31:35.448Z"
   },
   {
    "duration": 17,
    "start_time": "2021-06-29T11:31:35.464Z"
   },
   {
    "duration": 15,
    "start_time": "2021-06-29T11:31:35.483Z"
   },
   {
    "duration": 16,
    "start_time": "2021-06-29T11:31:35.525Z"
   },
   {
    "duration": 16,
    "start_time": "2021-06-29T11:31:35.543Z"
   },
   {
    "duration": 14,
    "start_time": "2021-06-29T11:31:35.561Z"
   },
   {
    "duration": 18,
    "start_time": "2021-06-29T11:31:35.577Z"
   },
   {
    "duration": 15,
    "start_time": "2021-06-29T11:31:35.625Z"
   },
   {
    "duration": 17,
    "start_time": "2021-06-29T11:31:35.642Z"
   },
   {
    "duration": 14,
    "start_time": "2021-06-29T11:31:35.662Z"
   },
   {
    "duration": 47,
    "start_time": "2021-06-29T11:31:35.679Z"
   },
   {
    "duration": 14,
    "start_time": "2021-06-29T11:31:35.728Z"
   },
   {
    "duration": 19,
    "start_time": "2021-06-29T11:31:35.744Z"
   },
   {
    "duration": 64,
    "start_time": "2021-06-29T11:31:35.765Z"
   },
   {
    "duration": 15,
    "start_time": "2021-06-29T11:31:35.835Z"
   },
   {
    "duration": 15,
    "start_time": "2021-06-29T11:31:35.854Z"
   },
   {
    "duration": 23,
    "start_time": "2021-06-29T11:31:35.871Z"
   },
   {
    "duration": 35,
    "start_time": "2021-06-29T11:31:35.897Z"
   },
   {
    "duration": 15,
    "start_time": "2021-06-29T11:31:35.934Z"
   },
   {
    "duration": 15,
    "start_time": "2021-06-29T11:31:35.951Z"
   },
   {
    "duration": 15,
    "start_time": "2021-06-29T11:31:35.968Z"
   },
   {
    "duration": 48,
    "start_time": "2021-06-29T11:31:35.985Z"
   },
   {
    "duration": 14,
    "start_time": "2021-06-29T11:31:36.036Z"
   },
   {
    "duration": 15,
    "start_time": "2021-06-29T11:31:36.052Z"
   },
   {
    "duration": 17,
    "start_time": "2021-06-29T11:31:36.069Z"
   },
   {
    "duration": 45,
    "start_time": "2021-06-29T11:31:36.088Z"
   },
   {
    "duration": 26,
    "start_time": "2021-06-29T11:31:36.135Z"
   },
   {
    "duration": 30,
    "start_time": "2021-06-29T11:31:36.163Z"
   },
   {
    "duration": 28,
    "start_time": "2021-06-29T11:31:36.196Z"
   },
   {
    "duration": 13,
    "start_time": "2021-06-29T11:31:36.226Z"
   },
   {
    "duration": 37,
    "start_time": "2021-06-29T11:31:36.242Z"
   },
   {
    "duration": 7,
    "start_time": "2021-06-29T11:31:36.282Z"
   },
   {
    "duration": 38,
    "start_time": "2021-06-29T11:31:36.291Z"
   },
   {
    "duration": 6,
    "start_time": "2021-06-29T11:31:36.331Z"
   },
   {
    "duration": 9,
    "start_time": "2021-06-29T11:31:36.339Z"
   },
   {
    "duration": 19,
    "start_time": "2021-06-29T11:31:36.350Z"
   },
   {
    "duration": 54,
    "start_time": "2021-06-29T11:31:36.371Z"
   },
   {
    "duration": 12,
    "start_time": "2021-06-29T11:31:36.427Z"
   },
   {
    "duration": 12,
    "start_time": "2021-06-29T11:31:36.441Z"
   },
   {
    "duration": 10,
    "start_time": "2021-06-29T11:31:36.455Z"
   },
   {
    "duration": 11,
    "start_time": "2021-06-29T11:31:36.468Z"
   },
   {
    "duration": 5,
    "start_time": "2021-06-29T11:31:36.481Z"
   },
   {
    "duration": 65,
    "start_time": "2021-06-29T11:31:36.488Z"
   },
   {
    "duration": 467,
    "start_time": "2021-06-29T11:31:36.556Z"
   },
   {
    "duration": 350,
    "start_time": "2021-06-29T11:31:37.026Z"
   },
   {
    "duration": 356,
    "start_time": "2021-06-29T11:31:37.378Z"
   },
   {
    "duration": 428,
    "start_time": "2021-06-29T11:31:37.736Z"
   },
   {
    "duration": 302,
    "start_time": "2021-06-29T11:31:38.166Z"
   },
   {
    "duration": 23,
    "start_time": "2021-06-29T11:31:38.471Z"
   },
   {
    "duration": 35,
    "start_time": "2021-06-29T11:31:38.496Z"
   },
   {
    "duration": 13,
    "start_time": "2021-06-29T11:31:38.534Z"
   },
   {
    "duration": 16,
    "start_time": "2021-06-29T11:31:38.550Z"
   },
   {
    "duration": 16,
    "start_time": "2021-06-29T11:31:38.568Z"
   },
   {
    "duration": 394,
    "start_time": "2021-06-29T11:31:38.586Z"
   },
   {
    "duration": 352,
    "start_time": "2021-06-29T11:31:38.982Z"
   },
   {
    "duration": 331,
    "start_time": "2021-06-29T11:31:39.336Z"
   },
   {
    "duration": 328,
    "start_time": "2021-06-29T11:31:39.669Z"
   },
   {
    "duration": 298,
    "start_time": "2021-06-29T11:31:40.000Z"
   },
   {
    "duration": 373,
    "start_time": "2021-06-29T11:31:40.300Z"
   },
   {
    "duration": 7,
    "start_time": "2021-06-29T11:31:40.681Z"
   },
   {
    "duration": 10,
    "start_time": "2021-06-29T11:31:40.692Z"
   },
   {
    "duration": 737,
    "start_time": "2021-06-29T11:31:40.725Z"
   },
   {
    "duration": 1001,
    "start_time": "2021-06-29T11:31:41.465Z"
   },
   {
    "duration": 1105,
    "start_time": "2021-06-29T11:31:42.469Z"
   },
   {
    "duration": 1062,
    "start_time": "2021-06-29T11:31:43.577Z"
   },
   {
    "duration": 88,
    "start_time": "2021-06-29T11:31:44.641Z"
   },
   {
    "duration": 3,
    "start_time": "2021-06-29T11:31:44.731Z"
   },
   {
    "duration": 45,
    "start_time": "2021-06-29T11:31:44.736Z"
   },
   {
    "duration": 447,
    "start_time": "2021-06-29T11:31:44.784Z"
   },
   {
    "duration": 12,
    "start_time": "2021-06-29T11:31:45.233Z"
   },
   {
    "duration": 29,
    "start_time": "2021-06-29T11:31:45.247Z"
   },
   {
    "duration": 64,
    "start_time": "2021-06-29T11:31:45.278Z"
   },
   {
    "duration": 29,
    "start_time": "2021-06-29T11:31:45.345Z"
   },
   {
    "duration": 628,
    "start_time": "2021-06-29T11:31:45.376Z"
   },
   {
    "duration": 554,
    "start_time": "2021-06-29T11:31:46.007Z"
   },
   {
    "duration": 567,
    "start_time": "2021-06-29T11:31:46.564Z"
   },
   {
    "duration": 340,
    "start_time": "2021-06-29T11:31:47.133Z"
   },
   {
    "duration": 550,
    "start_time": "2021-06-29T11:31:47.476Z"
   },
   {
    "duration": 3,
    "start_time": "2021-06-29T11:31:48.028Z"
   },
   {
    "duration": 15,
    "start_time": "2021-06-29T11:31:48.033Z"
   },
   {
    "duration": 29,
    "start_time": "2021-06-29T11:31:48.051Z"
   },
   {
    "duration": 67,
    "start_time": "2021-06-29T11:31:48.082Z"
   },
   {
    "duration": 25,
    "start_time": "2021-06-29T11:31:48.151Z"
   },
   {
    "duration": 552,
    "start_time": "2021-06-29T11:31:48.178Z"
   },
   {
    "duration": 529,
    "start_time": "2021-06-29T11:31:48.733Z"
   },
   {
    "duration": 555,
    "start_time": "2021-06-29T11:31:49.265Z"
   },
   {
    "duration": 307,
    "start_time": "2021-06-29T11:31:49.825Z"
   },
   {
    "duration": 592,
    "start_time": "2021-06-29T11:31:50.134Z"
   },
   {
    "duration": 78,
    "start_time": "2021-06-29T11:31:50.728Z"
   },
   {
    "duration": 313,
    "start_time": "2021-07-02T08:13:09.031Z"
   },
   {
    "duration": 958,
    "start_time": "2021-07-02T13:40:16.541Z"
   },
   {
    "duration": 45,
    "start_time": "2021-07-02T13:40:17.502Z"
   },
   {
    "duration": 76,
    "start_time": "2021-07-02T13:40:17.550Z"
   },
   {
    "duration": 24,
    "start_time": "2021-07-02T13:40:17.628Z"
   },
   {
    "duration": 32,
    "start_time": "2021-07-02T13:40:17.654Z"
   },
   {
    "duration": 15,
    "start_time": "2021-07-02T13:40:17.689Z"
   },
   {
    "duration": 17,
    "start_time": "2021-07-02T13:40:17.706Z"
   },
   {
    "duration": 14,
    "start_time": "2021-07-02T13:40:17.727Z"
   },
   {
    "duration": 50,
    "start_time": "2021-07-02T13:40:17.744Z"
   },
   {
    "duration": 22,
    "start_time": "2021-07-02T13:40:17.796Z"
   },
   {
    "duration": 17,
    "start_time": "2021-07-02T13:40:17.821Z"
   },
   {
    "duration": 21,
    "start_time": "2021-07-02T13:40:17.840Z"
   },
   {
    "duration": 31,
    "start_time": "2021-07-02T13:40:17.863Z"
   },
   {
    "duration": 33,
    "start_time": "2021-07-02T13:40:17.896Z"
   },
   {
    "duration": 17,
    "start_time": "2021-07-02T13:40:17.931Z"
   },
   {
    "duration": 32,
    "start_time": "2021-07-02T13:40:17.950Z"
   },
   {
    "duration": 22,
    "start_time": "2021-07-02T13:40:17.984Z"
   },
   {
    "duration": 19,
    "start_time": "2021-07-02T13:40:18.008Z"
   },
   {
    "duration": 13,
    "start_time": "2021-07-02T13:40:18.030Z"
   },
   {
    "duration": 40,
    "start_time": "2021-07-02T13:40:18.046Z"
   },
   {
    "duration": 49,
    "start_time": "2021-07-02T13:40:18.088Z"
   },
   {
    "duration": 16,
    "start_time": "2021-07-02T13:40:18.139Z"
   },
   {
    "duration": 36,
    "start_time": "2021-07-02T13:40:18.161Z"
   },
   {
    "duration": 15,
    "start_time": "2021-07-02T13:40:18.202Z"
   },
   {
    "duration": 14,
    "start_time": "2021-07-02T13:40:18.220Z"
   },
   {
    "duration": 16,
    "start_time": "2021-07-02T13:40:18.236Z"
   },
   {
    "duration": 42,
    "start_time": "2021-07-02T13:40:18.254Z"
   },
   {
    "duration": 14,
    "start_time": "2021-07-02T13:40:18.299Z"
   },
   {
    "duration": 16,
    "start_time": "2021-07-02T13:40:18.316Z"
   },
   {
    "duration": 14,
    "start_time": "2021-07-02T13:40:18.335Z"
   },
   {
    "duration": 46,
    "start_time": "2021-07-02T13:40:18.352Z"
   },
   {
    "duration": 15,
    "start_time": "2021-07-02T13:40:18.401Z"
   },
   {
    "duration": 16,
    "start_time": "2021-07-02T13:40:18.420Z"
   },
   {
    "duration": 55,
    "start_time": "2021-07-02T13:40:18.439Z"
   },
   {
    "duration": 26,
    "start_time": "2021-07-02T13:40:18.496Z"
   },
   {
    "duration": 28,
    "start_time": "2021-07-02T13:40:18.525Z"
   },
   {
    "duration": 34,
    "start_time": "2021-07-02T13:40:18.556Z"
   },
   {
    "duration": 40,
    "start_time": "2021-07-02T13:40:18.592Z"
   },
   {
    "duration": 8,
    "start_time": "2021-07-02T13:40:18.634Z"
   },
   {
    "duration": 8,
    "start_time": "2021-07-02T13:40:18.644Z"
   },
   {
    "duration": 31,
    "start_time": "2021-07-02T13:40:18.654Z"
   },
   {
    "duration": 5,
    "start_time": "2021-07-02T13:40:18.688Z"
   },
   {
    "duration": 20,
    "start_time": "2021-07-02T13:40:18.695Z"
   },
   {
    "duration": 27,
    "start_time": "2021-07-02T13:40:18.717Z"
   },
   {
    "duration": 40,
    "start_time": "2021-07-02T13:40:18.747Z"
   },
   {
    "duration": 12,
    "start_time": "2021-07-02T13:40:18.790Z"
   },
   {
    "duration": 11,
    "start_time": "2021-07-02T13:40:18.804Z"
   },
   {
    "duration": 13,
    "start_time": "2021-07-02T13:40:18.818Z"
   },
   {
    "duration": 5,
    "start_time": "2021-07-02T13:40:18.833Z"
   },
   {
    "duration": 71,
    "start_time": "2021-07-02T13:40:18.840Z"
   },
   {
    "duration": 489,
    "start_time": "2021-07-02T13:40:18.913Z"
   },
   {
    "duration": 369,
    "start_time": "2021-07-02T13:40:19.405Z"
   },
   {
    "duration": 379,
    "start_time": "2021-07-02T13:40:19.776Z"
   },
   {
    "duration": 469,
    "start_time": "2021-07-02T13:40:20.158Z"
   },
   {
    "duration": 315,
    "start_time": "2021-07-02T13:40:20.630Z"
   },
   {
    "duration": 40,
    "start_time": "2021-07-02T13:40:20.947Z"
   },
   {
    "duration": 19,
    "start_time": "2021-07-02T13:40:20.990Z"
   },
   {
    "duration": 20,
    "start_time": "2021-07-02T13:40:21.012Z"
   },
   {
    "duration": 26,
    "start_time": "2021-07-02T13:40:21.034Z"
   },
   {
    "duration": 33,
    "start_time": "2021-07-02T13:40:21.063Z"
   },
   {
    "duration": 376,
    "start_time": "2021-07-02T13:40:21.099Z"
   },
   {
    "duration": 368,
    "start_time": "2021-07-02T13:40:21.477Z"
   },
   {
    "duration": 344,
    "start_time": "2021-07-02T13:40:21.848Z"
   },
   {
    "duration": 357,
    "start_time": "2021-07-02T13:40:22.194Z"
   },
   {
    "duration": 321,
    "start_time": "2021-07-02T13:40:22.554Z"
   },
   {
    "duration": 395,
    "start_time": "2021-07-02T13:40:22.877Z"
   },
   {
    "duration": 15,
    "start_time": "2021-07-02T13:40:23.274Z"
   },
   {
    "duration": 7,
    "start_time": "2021-07-02T13:40:23.297Z"
   },
   {
    "duration": 696,
    "start_time": "2021-07-02T13:40:23.307Z"
   },
   {
    "duration": 1086,
    "start_time": "2021-07-02T13:40:24.005Z"
   },
   {
    "duration": 1052,
    "start_time": "2021-07-02T13:40:25.094Z"
   },
   {
    "duration": 1085,
    "start_time": "2021-07-02T13:40:26.149Z"
   },
   {
    "duration": 92,
    "start_time": "2021-07-02T13:40:27.236Z"
   },
   {
    "duration": 3,
    "start_time": "2021-07-02T13:40:27.330Z"
   },
   {
    "duration": 57,
    "start_time": "2021-07-02T13:40:27.336Z"
   },
   {
    "duration": 463,
    "start_time": "2021-07-02T13:40:27.396Z"
   },
   {
    "duration": 28,
    "start_time": "2021-07-02T13:40:27.862Z"
   },
   {
    "duration": 33,
    "start_time": "2021-07-02T13:40:27.893Z"
   },
   {
    "duration": 34,
    "start_time": "2021-07-02T13:40:27.928Z"
   },
   {
    "duration": 42,
    "start_time": "2021-07-02T13:40:27.965Z"
   },
   {
    "duration": 580,
    "start_time": "2021-07-02T13:40:28.010Z"
   },
   {
    "duration": 551,
    "start_time": "2021-07-02T13:40:28.593Z"
   },
   {
    "duration": 556,
    "start_time": "2021-07-02T13:40:29.147Z"
   },
   {
    "duration": 402,
    "start_time": "2021-07-02T13:40:29.706Z"
   },
   {
    "duration": 567,
    "start_time": "2021-07-02T13:40:30.111Z"
   },
   {
    "duration": 6,
    "start_time": "2021-07-02T13:40:30.680Z"
   },
   {
    "duration": 41,
    "start_time": "2021-07-02T13:40:30.689Z"
   },
   {
    "duration": 83,
    "start_time": "2021-07-02T13:40:30.733Z"
   },
   {
    "duration": 35,
    "start_time": "2021-07-02T13:40:30.818Z"
   },
   {
    "duration": 45,
    "start_time": "2021-07-02T13:40:30.855Z"
   },
   {
    "duration": 619,
    "start_time": "2021-07-02T13:40:30.903Z"
   },
   {
    "duration": 570,
    "start_time": "2021-07-02T13:40:31.525Z"
   },
   {
    "duration": 547,
    "start_time": "2021-07-02T13:40:32.097Z"
   },
   {
    "duration": 350,
    "start_time": "2021-07-02T13:40:32.646Z"
   },
   {
    "duration": 613,
    "start_time": "2021-07-02T13:40:33.000Z"
   },
   {
    "duration": 89,
    "start_time": "2021-07-02T13:40:33.616Z"
   },
   {
    "duration": 414,
    "start_time": "2021-07-09T07:02:33.140Z"
   },
   {
    "duration": 923,
    "start_time": "2021-07-09T07:02:45.498Z"
   },
   {
    "duration": 54,
    "start_time": "2021-07-09T07:02:46.424Z"
   },
   {
    "duration": 50,
    "start_time": "2021-07-09T07:02:46.481Z"
   },
   {
    "duration": 45,
    "start_time": "2021-07-09T07:02:46.533Z"
   },
   {
    "duration": 8,
    "start_time": "2021-07-09T07:02:46.580Z"
   },
   {
    "duration": 17,
    "start_time": "2021-07-09T07:02:46.590Z"
   },
   {
    "duration": 17,
    "start_time": "2021-07-09T07:02:46.609Z"
   },
   {
    "duration": 50,
    "start_time": "2021-07-09T07:02:46.629Z"
   },
   {
    "duration": 14,
    "start_time": "2021-07-09T07:02:46.682Z"
   },
   {
    "duration": 16,
    "start_time": "2021-07-09T07:02:46.699Z"
   },
   {
    "duration": 24,
    "start_time": "2021-07-09T07:02:46.718Z"
   },
   {
    "duration": 16,
    "start_time": "2021-07-09T07:02:46.768Z"
   },
   {
    "duration": 16,
    "start_time": "2021-07-09T07:02:46.787Z"
   },
   {
    "duration": 24,
    "start_time": "2021-07-09T07:02:46.805Z"
   },
   {
    "duration": 37,
    "start_time": "2021-07-09T07:02:46.832Z"
   },
   {
    "duration": 15,
    "start_time": "2021-07-09T07:02:46.871Z"
   },
   {
    "duration": 16,
    "start_time": "2021-07-09T07:02:46.888Z"
   },
   {
    "duration": 14,
    "start_time": "2021-07-09T07:02:46.906Z"
   },
   {
    "duration": 44,
    "start_time": "2021-07-09T07:02:46.923Z"
   },
   {
    "duration": 15,
    "start_time": "2021-07-09T07:02:46.970Z"
   },
   {
    "duration": 44,
    "start_time": "2021-07-09T07:02:46.987Z"
   },
   {
    "duration": 40,
    "start_time": "2021-07-09T07:02:47.034Z"
   },
   {
    "duration": 17,
    "start_time": "2021-07-09T07:02:47.079Z"
   },
   {
    "duration": 15,
    "start_time": "2021-07-09T07:02:47.099Z"
   },
   {
    "duration": 22,
    "start_time": "2021-07-09T07:02:47.117Z"
   },
   {
    "duration": 39,
    "start_time": "2021-07-09T07:02:47.141Z"
   },
   {
    "duration": 20,
    "start_time": "2021-07-09T07:02:47.182Z"
   },
   {
    "duration": 14,
    "start_time": "2021-07-09T07:02:47.205Z"
   },
   {
    "duration": 21,
    "start_time": "2021-07-09T07:02:47.221Z"
   },
   {
    "duration": 36,
    "start_time": "2021-07-09T07:02:47.244Z"
   },
   {
    "duration": 25,
    "start_time": "2021-07-09T07:02:47.282Z"
   },
   {
    "duration": 17,
    "start_time": "2021-07-09T07:02:47.310Z"
   },
   {
    "duration": 15,
    "start_time": "2021-07-09T07:02:47.330Z"
   },
   {
    "duration": 31,
    "start_time": "2021-07-09T07:02:47.348Z"
   },
   {
    "duration": 17,
    "start_time": "2021-07-09T07:02:47.382Z"
   },
   {
    "duration": 23,
    "start_time": "2021-07-09T07:02:47.402Z"
   },
   {
    "duration": 43,
    "start_time": "2021-07-09T07:02:47.428Z"
   },
   {
    "duration": 38,
    "start_time": "2021-07-09T07:02:47.473Z"
   },
   {
    "duration": 8,
    "start_time": "2021-07-09T07:02:47.513Z"
   },
   {
    "duration": 8,
    "start_time": "2021-07-09T07:02:47.524Z"
   },
   {
    "duration": 5,
    "start_time": "2021-07-09T07:02:47.568Z"
   },
   {
    "duration": 11,
    "start_time": "2021-07-09T07:02:47.575Z"
   },
   {
    "duration": 17,
    "start_time": "2021-07-09T07:02:47.588Z"
   },
   {
    "duration": 26,
    "start_time": "2021-07-09T07:02:47.607Z"
   },
   {
    "duration": 40,
    "start_time": "2021-07-09T07:02:47.635Z"
   },
   {
    "duration": 11,
    "start_time": "2021-07-09T07:02:47.678Z"
   },
   {
    "duration": 11,
    "start_time": "2021-07-09T07:02:47.691Z"
   },
   {
    "duration": 11,
    "start_time": "2021-07-09T07:02:47.704Z"
   },
   {
    "duration": 5,
    "start_time": "2021-07-09T07:02:47.717Z"
   },
   {
    "duration": 70,
    "start_time": "2021-07-09T07:02:47.724Z"
   },
   {
    "duration": 472,
    "start_time": "2021-07-09T07:02:47.796Z"
   },
   {
    "duration": 371,
    "start_time": "2021-07-09T07:02:48.271Z"
   },
   {
    "duration": 375,
    "start_time": "2021-07-09T07:02:48.644Z"
   },
   {
    "duration": 433,
    "start_time": "2021-07-09T07:02:49.022Z"
   },
   {
    "duration": 303,
    "start_time": "2021-07-09T07:02:49.457Z"
   },
   {
    "duration": 1147,
    "start_time": "2021-07-09T07:02:49.763Z"
   }
  ],
  "kernelspec": {
   "display_name": "Python 3",
   "language": "python",
   "name": "python3"
  },
  "language_info": {
   "codemirror_mode": {
    "name": "ipython",
    "version": 3
   },
   "file_extension": ".py",
   "mimetype": "text/x-python",
   "name": "python",
   "nbconvert_exporter": "python",
   "pygments_lexer": "ipython3",
   "version": "3.8.3"
  },
  "toc": {
   "base_numbering": 1,
   "nav_menu": {},
   "number_sections": true,
   "sideBar": true,
   "skip_h1_title": true,
   "title_cell": "Table of Contents",
   "title_sidebar": "Contents",
   "toc_cell": false,
   "toc_position": {},
   "toc_section_display": true,
   "toc_window_display": false
  }
 },
 "nbformat": 4,
 "nbformat_minor": 2
}
